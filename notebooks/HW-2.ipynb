{
 "cells": [
  {
   "cell_type": "markdown",
   "id": "E88Sex81uiev",
   "metadata": {
    "id": "E88Sex81uiev"
   },
   "source": [
    "# Тексты домашних заданий"
   ]
  },
  {
   "cell_type": "markdown",
   "id": "qbxTJQu0uWJ3",
   "metadata": {
    "id": "qbxTJQu0uWJ3"
   },
   "source": [
    "## Homework 2.1\n",
    "\n",
    "Исходные данные - Yandex Cup 2022 RecSys:\n",
    "- Описание соревнования - https://contest.yandex.ru/yacup/contest/41618/problems/\n",
    "- Данные - https://disk.yandex.ru/d/SI1aAooPn9i8TA\n",
    "- Описание данных - в архиве likes_data.zip три файла:\n",
    "  - train - обучающий набор данных. Каждая строка - последовательность id треков, которые лайкнул один пользователь. Гарантируется, что лайки даны в той последовательности, в которой их ставил пользователь.\n",
    "  - test - набор тестовых данных. Имеет точно такой же формат, но в каждой строке не хватает последнего лайка, который надо предсказать.\n",
    "  - track_artists.csv - информация о исполнителях треков. Гарантируется, что у каждого трека есть ровно один исполнитель. Для треков, у которых фактически несколько исполнителей, мы оставили того, который считается основным исполнителем трека.\n",
    "- Описание сабмита - в качестве решения необходимо отправить файл, в котором для каждого пользователя из test в отдельной строке будет не более 100 треков, разделенных пробелом. Гарантируется, что у каждого пользователя будет только 1 лайк в тесте\n",
    "- Метрика - MRR@100\n",
    "\n",
    "Промежуточная задача - преобразовать данные в pandas.DataFrame вида {user, item, order}, где order - порядковый номер с конца (0 - самый \"свежий\" лайк, чем больше order, тем позже был поставлен лайк)\n",
    "\n",
    "**Итоговая задача** - построить схему валидации для данного соревнования с учетом особенностей сорвенования\n",
    "- Между `train` и `test` не должно быть общих пользователей\n",
    "- Количество фолдов задается через параметр класса `n_folds`\n",
    "- В `test` должно быть не более `p` последних треков (параметр класса `p`)"
   ]
  },
  {
   "cell_type": "markdown",
   "id": "wEQec8aqt9id",
   "metadata": {
    "id": "wEQec8aqt9id"
   },
   "source": [
    "## Homework 2.2\n",
    "\n",
    "### PFound\n",
    "Исходные данные - Yandex Cup 2022 Analytics\n",
    "- Ссылка - https://yandex.ru/cup/analytics/analysis/ , пример A. Рассчитать pFound\n",
    "- Данные - https://yadi.sk/d/guqki4UI4hFlXQ\n",
    "- Формула\n",
    "$$pFound@K = \\sum_{i=1}^{k} pLook[i]\\ pRel[i]$$\n",
    "\n",
    "$$pLook[1] = 1$$\n",
    "\n",
    "$$pLook[i] = pLook[i-1]\\ (1 - pRel[i-1])\\ (1 - pBreak)$$\n",
    "\n",
    "$$pBreak = 0.15$$\n",
    "\n",
    "**Задача** - написать функцию, которая принимает на вход dataframe (после join), а на выходе дает средний pFound по всем query.\n",
    "- Запрещается использовать циклы for для расчет метрики (как полностью, так и ее частей).\n",
    "- Усложнение, если задача показалась легкой - попробуйте обойтись без groupby (не уверен, что это возможно, но вдруг вы справитесь)\n",
    "\n",
    "### MRR\n",
    "Исходные данные - результат `generate_subsample`\n",
    "\n",
    "**Задача** - по аналогии с precision написать три версии функции подсчета Mean Reciprocal Rank (naive, numba, pandas) и протестировать на разных размерах выборки\n",
    "- Протестируйте для всех комбинаций (users_count, top_k):\n",
    "  - users_count - [100, 1000, 10000, 100000]\n",
    "  - top_k - [10, 50, 100]\n",
    "- Результатом тестирования должен быть график, где будут отражены следующие показатели:\n",
    "  - Алгоритм - naive, numba, pandas\n",
    "  - Скорость работы (время)\n",
    "  - users_count\n",
    "  - top_k"
   ]
  },
  {
   "cell_type": "markdown",
   "id": "8afb4543",
   "metadata": {
    "id": "8afb4543"
   },
   "source": [
    "# Create data"
   ]
  },
  {
   "cell_type": "code",
   "execution_count": null,
   "id": "9ba1fbe7",
   "metadata": {
    "id": "9ba1fbe7"
   },
   "outputs": [],
   "source": [
    "import pandas as pd\n",
    "from tqdm import tqdm"
   ]
  },
  {
   "cell_type": "code",
   "execution_count": null,
   "id": "3fed93b7",
   "metadata": {
    "id": "3fed93b7"
   },
   "outputs": [],
   "source": [
    "df = pd.concat(\n",
    "    [\n",
    "        pd.read_csv('../data/hw_2/validation/train', sep=',', header=None),\n",
    "        pd.read_csv('../data/hw_2/validation/test', sep=',', header=None)\n",
    "    ],\n",
    "    ignore_index=False\n",
    ")\n",
    "\n",
    "user, item, order = list(), list(), list()\n",
    "\n",
    "for idx in tqdm(range(df.shape[0])):\n",
    "    curr_items = [int(item) for item in df[0].iloc[idx].split()]\n",
    "    user.extend([idx for _ in curr_items])\n",
    "    item.extend(curr_items)\n",
    "    order.extend([like for like in reversed(range(len(curr_items)))])\n",
    "\n",
    "df = pd.DataFrame(\n",
    "    {\n",
    "        'user': user,\n",
    "        'item': item,\n",
    "        'order': order\n",
    "    }\n",
    ")\n",
    "\n",
    "df.to_csv('../data/hw_2/validation/data_for_task.csv', index=False)"
   ]
  },
  {
   "cell_type": "markdown",
   "id": "93fc9b52",
   "metadata": {
    "id": "93fc9b52"
   },
   "source": [
    "# Validation"
   ]
  },
  {
   "cell_type": "code",
   "execution_count": 1,
   "id": "0f8ae1bc",
   "metadata": {
    "id": "0f8ae1bc"
   },
   "outputs": [],
   "source": [
    "import sys\n",
    "sys.path.append('../')"
   ]
  },
  {
   "cell_type": "code",
   "execution_count": 2,
   "id": "eccb65bb",
   "metadata": {
    "id": "eccb65bb"
   },
   "outputs": [],
   "source": [
    "import numpy as np\n",
    "import pandas as pd\n",
    "\n",
    "from service.utils.validation.user_kfold_pout import UsersKFoldPOut"
   ]
  },
  {
   "cell_type": "code",
   "execution_count": 3,
   "id": "e3d1c625",
   "metadata": {
    "id": "e3d1c625"
   },
   "outputs": [],
   "source": [
    "df = pd.read_csv('../data/hw_2/validation/data_for_task.csv')"
   ]
  },
  {
   "cell_type": "code",
   "execution_count": 4,
   "id": "d9d4a38e",
   "metadata": {
    "id": "d9d4a38e"
   },
   "outputs": [],
   "source": [
    "P = 15\n",
    "N_FOLD = 3"
   ]
  },
  {
   "cell_type": "code",
   "execution_count": 5,
   "id": "5f2bb063",
   "metadata": {
    "id": "5f2bb063",
    "outputId": "33af5cea-6c99-4100-e8f6-5307f97085cd",
    "scrolled": false
   },
   "outputs": [
    {
     "name": "stdout",
     "output_type": "stream",
     "text": [
      "Fold#0 | Train: 62769950, Test: 5342919\n",
      "Fold#1 | Train: 62749697, Test: 5344940\n",
      "Fold#2 | Train: 62857621, Test: 5342556\n"
     ]
    }
   ],
   "source": [
    "cv = UsersKFoldPOut(n_folds=N_FOLD, p=P)\n",
    "\n",
    "for i, (train_mask, test_mask) in enumerate(cv.split(df)):\n",
    "    train = df[train_mask]\n",
    "    test = df[test_mask]\n",
    "    users_train_unique = train['user'].unique()\n",
    "    users_test_unique = test['user'].unique()\n",
    "    test_users_not_in_train = np.setdiff1d(users_test_unique, users_train_unique).shape[0]\n",
    "\n",
    "    assert test_users_not_in_train == users_test_unique.shape[0], \"В train и test есть общие юзеры!\"\n",
    "    assert test[test['order'] > (P - 1)].shape[0] == 0, f\"В test есть действия позднее {P}-го\"\n",
    "    assert test['order'].unique().shape[0] == P, f\"В тесте более {P} дейстий\"\n",
    "\n",
    "    print(f'Fold#{i} | Train: {train.shape[0]}, Test: {test.shape[0]}')"
   ]
  },
  {
   "cell_type": "markdown",
   "id": "980fbc2b",
   "metadata": {
    "id": "980fbc2b"
   },
   "source": [
    "**Проанализируем заключительный Fold**"
   ]
  },
  {
   "cell_type": "code",
   "execution_count": 6,
   "id": "a5ac9f88",
   "metadata": {
    "id": "a5ac9f88",
    "outputId": "b3213b86-f2c5-4488-da52-192048377fb6"
   },
   "outputs": [
    {
     "data": {
      "text/html": [
       "<div>\n",
       "<style scoped>\n",
       "    .dataframe tbody tr th:only-of-type {\n",
       "        vertical-align: middle;\n",
       "    }\n",
       "\n",
       "    .dataframe tbody tr th {\n",
       "        vertical-align: top;\n",
       "    }\n",
       "\n",
       "    .dataframe thead th {\n",
       "        text-align: right;\n",
       "    }\n",
       "</style>\n",
       "<table border=\"1\" class=\"dataframe\">\n",
       "  <thead>\n",
       "    <tr style=\"text-align: right;\">\n",
       "      <th></th>\n",
       "      <th>user</th>\n",
       "      <th>item</th>\n",
       "      <th>order</th>\n",
       "    </tr>\n",
       "  </thead>\n",
       "  <tbody>\n",
       "    <tr>\n",
       "      <th>54</th>\n",
       "      <td>1</td>\n",
       "      <td>174197</td>\n",
       "      <td>9</td>\n",
       "    </tr>\n",
       "    <tr>\n",
       "      <th>55</th>\n",
       "      <td>1</td>\n",
       "      <td>335779</td>\n",
       "      <td>8</td>\n",
       "    </tr>\n",
       "    <tr>\n",
       "      <th>56</th>\n",
       "      <td>1</td>\n",
       "      <td>141676</td>\n",
       "      <td>7</td>\n",
       "    </tr>\n",
       "    <tr>\n",
       "      <th>57</th>\n",
       "      <td>1</td>\n",
       "      <td>119856</td>\n",
       "      <td>6</td>\n",
       "    </tr>\n",
       "    <tr>\n",
       "      <th>58</th>\n",
       "      <td>1</td>\n",
       "      <td>376664</td>\n",
       "      <td>5</td>\n",
       "    </tr>\n",
       "    <tr>\n",
       "      <th>...</th>\n",
       "      <td>...</td>\n",
       "      <td>...</td>\n",
       "      <td>...</td>\n",
       "    </tr>\n",
       "    <tr>\n",
       "      <th>94188373</th>\n",
       "      <td>1160082</td>\n",
       "      <td>278375</td>\n",
       "      <td>4</td>\n",
       "    </tr>\n",
       "    <tr>\n",
       "      <th>94188374</th>\n",
       "      <td>1160082</td>\n",
       "      <td>399255</td>\n",
       "      <td>3</td>\n",
       "    </tr>\n",
       "    <tr>\n",
       "      <th>94188375</th>\n",
       "      <td>1160082</td>\n",
       "      <td>7045</td>\n",
       "      <td>2</td>\n",
       "    </tr>\n",
       "    <tr>\n",
       "      <th>94188376</th>\n",
       "      <td>1160082</td>\n",
       "      <td>287708</td>\n",
       "      <td>1</td>\n",
       "    </tr>\n",
       "    <tr>\n",
       "      <th>94188377</th>\n",
       "      <td>1160082</td>\n",
       "      <td>281987</td>\n",
       "      <td>0</td>\n",
       "    </tr>\n",
       "  </tbody>\n",
       "</table>\n",
       "<p>62857621 rows × 3 columns</p>\n",
       "</div>"
      ],
      "text/plain": [
       "             user    item  order\n",
       "54              1  174197      9\n",
       "55              1  335779      8\n",
       "56              1  141676      7\n",
       "57              1  119856      6\n",
       "58              1  376664      5\n",
       "...           ...     ...    ...\n",
       "94188373  1160082  278375      4\n",
       "94188374  1160082  399255      3\n",
       "94188375  1160082    7045      2\n",
       "94188376  1160082  287708      1\n",
       "94188377  1160082  281987      0\n",
       "\n",
       "[62857621 rows x 3 columns]"
      ]
     },
     "execution_count": 6,
     "metadata": {},
     "output_type": "execute_result"
    }
   ],
   "source": [
    "train"
   ]
  },
  {
   "cell_type": "code",
   "execution_count": 7,
   "id": "2c789ce9",
   "metadata": {
    "id": "2c789ce9",
    "outputId": "1327c9e0-d56e-48a4-c210-b62d283be7c9"
   },
   "outputs": [
    {
     "data": {
      "text/html": [
       "<div>\n",
       "<style scoped>\n",
       "    .dataframe tbody tr th:only-of-type {\n",
       "        vertical-align: middle;\n",
       "    }\n",
       "\n",
       "    .dataframe tbody tr th {\n",
       "        vertical-align: top;\n",
       "    }\n",
       "\n",
       "    .dataframe thead th {\n",
       "        text-align: right;\n",
       "    }\n",
       "</style>\n",
       "<table border=\"1\" class=\"dataframe\">\n",
       "  <thead>\n",
       "    <tr style=\"text-align: right;\">\n",
       "      <th></th>\n",
       "      <th>user</th>\n",
       "      <th>item</th>\n",
       "      <th>order</th>\n",
       "    </tr>\n",
       "  </thead>\n",
       "  <tbody>\n",
       "    <tr>\n",
       "      <th>39</th>\n",
       "      <td>0</td>\n",
       "      <td>170753</td>\n",
       "      <td>14</td>\n",
       "    </tr>\n",
       "    <tr>\n",
       "      <th>40</th>\n",
       "      <td>0</td>\n",
       "      <td>432424</td>\n",
       "      <td>13</td>\n",
       "    </tr>\n",
       "    <tr>\n",
       "      <th>41</th>\n",
       "      <td>0</td>\n",
       "      <td>330581</td>\n",
       "      <td>12</td>\n",
       "    </tr>\n",
       "    <tr>\n",
       "      <th>42</th>\n",
       "      <td>0</td>\n",
       "      <td>63471</td>\n",
       "      <td>11</td>\n",
       "    </tr>\n",
       "    <tr>\n",
       "      <th>43</th>\n",
       "      <td>0</td>\n",
       "      <td>424658</td>\n",
       "      <td>10</td>\n",
       "    </tr>\n",
       "    <tr>\n",
       "      <th>...</th>\n",
       "      <td>...</td>\n",
       "      <td>...</td>\n",
       "      <td>...</td>\n",
       "    </tr>\n",
       "    <tr>\n",
       "      <th>94188629</th>\n",
       "      <td>1160083</td>\n",
       "      <td>80233</td>\n",
       "      <td>4</td>\n",
       "    </tr>\n",
       "    <tr>\n",
       "      <th>94188630</th>\n",
       "      <td>1160083</td>\n",
       "      <td>369632</td>\n",
       "      <td>3</td>\n",
       "    </tr>\n",
       "    <tr>\n",
       "      <th>94188631</th>\n",
       "      <td>1160083</td>\n",
       "      <td>46592</td>\n",
       "      <td>2</td>\n",
       "    </tr>\n",
       "    <tr>\n",
       "      <th>94188632</th>\n",
       "      <td>1160083</td>\n",
       "      <td>408275</td>\n",
       "      <td>1</td>\n",
       "    </tr>\n",
       "    <tr>\n",
       "      <th>94188633</th>\n",
       "      <td>1160083</td>\n",
       "      <td>314044</td>\n",
       "      <td>0</td>\n",
       "    </tr>\n",
       "  </tbody>\n",
       "</table>\n",
       "<p>5342556 rows × 3 columns</p>\n",
       "</div>"
      ],
      "text/plain": [
       "             user    item  order\n",
       "39              0  170753     14\n",
       "40              0  432424     13\n",
       "41              0  330581     12\n",
       "42              0   63471     11\n",
       "43              0  424658     10\n",
       "...           ...     ...    ...\n",
       "94188629  1160083   80233      4\n",
       "94188630  1160083  369632      3\n",
       "94188631  1160083   46592      2\n",
       "94188632  1160083  408275      1\n",
       "94188633  1160083  314044      0\n",
       "\n",
       "[5342556 rows x 3 columns]"
      ]
     },
     "execution_count": 7,
     "metadata": {},
     "output_type": "execute_result"
    }
   ],
   "source": [
    "test"
   ]
  },
  {
   "cell_type": "code",
   "execution_count": 8,
   "id": "c58d6a79",
   "metadata": {
    "id": "c58d6a79",
    "outputId": "9e907aee-7324-438d-ba8b-99ef9b987949"
   },
   "outputs": [
    {
     "data": {
      "text/plain": [
       "True"
      ]
     },
     "execution_count": 8,
     "metadata": {},
     "output_type": "execute_result"
    }
   ],
   "source": [
    "users_train = train['user'].unique()\n",
    "users_test = test['user'].unique()\n",
    "np.setdiff1d(users_test, users_train).shape[0] == users_test.shape[0]"
   ]
  },
  {
   "cell_type": "code",
   "execution_count": 9,
   "id": "7e2abc67",
   "metadata": {
    "id": "7e2abc67",
    "outputId": "2f7552c2-6674-446d-da21-0064f9e9de25"
   },
   "outputs": [
    {
     "data": {
      "text/plain": [
       "True"
      ]
     },
     "execution_count": 9,
     "metadata": {},
     "output_type": "execute_result"
    }
   ],
   "source": [
    "test[test['order'] > P - 1].shape[0] == 0"
   ]
  },
  {
   "cell_type": "markdown",
   "id": "a5b0440c",
   "metadata": {
    "id": "a5b0440c"
   },
   "source": [
    "# Metrics"
   ]
  },
  {
   "cell_type": "code",
   "execution_count": 10,
   "id": "fdd12f92",
   "metadata": {
    "id": "fdd12f92"
   },
   "outputs": [],
   "source": [
    "from time import monotonic\n",
    "\n",
    "import pandas as pd\n",
    "from matplotlib import pyplot as plt\n",
    "import numpy as np\n",
    "import numba as nb\n",
    "from tqdm import tqdm"
   ]
  },
  {
   "cell_type": "markdown",
   "id": "81f46174",
   "metadata": {
    "id": "81f46174"
   },
   "source": [
    "## Mean Reciptrocal Rank"
   ]
  },
  {
   "cell_type": "code",
   "execution_count": 11,
   "id": "f0763d9c",
   "metadata": {
    "id": "f0763d9c",
    "outputId": "67f426e6-ead2-4775-c9bf-199f76cb665a"
   },
   "outputs": [
    {
     "data": {
      "text/html": [
       "<div>\n",
       "<style scoped>\n",
       "    .dataframe tbody tr th:only-of-type {\n",
       "        vertical-align: middle;\n",
       "    }\n",
       "\n",
       "    .dataframe tbody tr th {\n",
       "        vertical-align: top;\n",
       "    }\n",
       "\n",
       "    .dataframe thead th {\n",
       "        text-align: right;\n",
       "    }\n",
       "</style>\n",
       "<table border=\"1\" class=\"dataframe\">\n",
       "  <thead>\n",
       "    <tr style=\"text-align: right;\">\n",
       "      <th></th>\n",
       "      <th>user</th>\n",
       "      <th>item</th>\n",
       "    </tr>\n",
       "  </thead>\n",
       "  <tbody>\n",
       "    <tr>\n",
       "      <th>0</th>\n",
       "      <td>176549</td>\n",
       "      <td>9506</td>\n",
       "    </tr>\n",
       "    <tr>\n",
       "      <th>1</th>\n",
       "      <td>699317</td>\n",
       "      <td>1659</td>\n",
       "    </tr>\n",
       "    <tr>\n",
       "      <th>2</th>\n",
       "      <td>656683</td>\n",
       "      <td>7107</td>\n",
       "    </tr>\n",
       "    <tr>\n",
       "      <th>3</th>\n",
       "      <td>864613</td>\n",
       "      <td>7638</td>\n",
       "    </tr>\n",
       "    <tr>\n",
       "      <th>4</th>\n",
       "      <td>964868</td>\n",
       "      <td>9506</td>\n",
       "    </tr>\n",
       "    <tr>\n",
       "      <th>...</th>\n",
       "      <td>...</td>\n",
       "      <td>...</td>\n",
       "    </tr>\n",
       "    <tr>\n",
       "      <th>5476246</th>\n",
       "      <td>648596</td>\n",
       "      <td>12225</td>\n",
       "    </tr>\n",
       "    <tr>\n",
       "      <th>5476247</th>\n",
       "      <td>546862</td>\n",
       "      <td>9673</td>\n",
       "    </tr>\n",
       "    <tr>\n",
       "      <th>5476248</th>\n",
       "      <td>697262</td>\n",
       "      <td>15297</td>\n",
       "    </tr>\n",
       "    <tr>\n",
       "      <th>5476249</th>\n",
       "      <td>384202</td>\n",
       "      <td>16197</td>\n",
       "    </tr>\n",
       "    <tr>\n",
       "      <th>5476250</th>\n",
       "      <td>319709</td>\n",
       "      <td>4436</td>\n",
       "    </tr>\n",
       "  </tbody>\n",
       "</table>\n",
       "<p>5476251 rows × 2 columns</p>\n",
       "</div>"
      ],
      "text/plain": [
       "           user   item\n",
       "0        176549   9506\n",
       "1        699317   1659\n",
       "2        656683   7107\n",
       "3        864613   7638\n",
       "4        964868   9506\n",
       "...         ...    ...\n",
       "5476246  648596  12225\n",
       "5476247  546862   9673\n",
       "5476248  697262  15297\n",
       "5476249  384202  16197\n",
       "5476250  319709   4436\n",
       "\n",
       "[5476251 rows x 2 columns]"
      ]
     },
     "execution_count": 11,
     "metadata": {},
     "output_type": "execute_result"
    }
   ],
   "source": [
    "df = pd.read_csv('../data/kion_train/interactions.csv')\n",
    "df.rename(\n",
    "    columns={\n",
    "        'user_id': 'user',\n",
    "        'item_id': 'item'\n",
    "    },\n",
    "    inplace=True\n",
    ")\n",
    "del df['last_watch_dt'], df['total_dur'], df['watched_pct']\n",
    "df"
   ]
  },
  {
   "cell_type": "code",
   "execution_count": 12,
   "id": "0a734924",
   "metadata": {
    "id": "0a734924"
   },
   "outputs": [],
   "source": [
    "def generate_subsample(df, users_count, top_k):\n",
    "    users = np.random.choice(df['user'].unique(), users_count, replace=False)\n",
    "    df_return = df[df['user'].isin(users)].reset_index(drop=True)\n",
    "\n",
    "    recs = np.random.choice(df_return['item'], size=(users_count, top_k))\n",
    "    return df_return, users, recs"
   ]
  },
  {
   "cell_type": "code",
   "execution_count": 18,
   "id": "c443330f",
   "metadata": {
    "id": "c443330f",
    "outputId": "3935c20a-8591-4560-bdcf-52511f8bbf59"
   },
   "outputs": [
    {
     "name": "stderr",
     "output_type": "stream",
     "text": [
      "/home/mlandrey/PycharmProjects/ITMO/RecSys_MTC/RecoServiceTemplate/.venv/lib/python3.8/site-packages/numba/core/decorators.py:253: RuntimeWarning: nopython is set for njit and is ignored\n",
      "  warnings.warn('nopython is set for njit and is ignored', RuntimeWarning)\n"
     ]
    }
   ],
   "source": [
    "def mrr_naive(target, users, recs, k):\n",
    "    mrr = []\n",
    "    for idx_user, user in enumerate(users):\n",
    "        sum_invers_rank = 0\n",
    "        user_target = target[target[:, 0] == user][:, 1]\n",
    "        for idx_rec, rec in enumerate(recs[idx_user], start=1):\n",
    "            if rec in user_target:\n",
    "                sum_invers_rank = 1 / idx_rec\n",
    "                break\n",
    "        mrr.append(sum_invers_rank)\n",
    "    return round(sum(mrr) / len(users), 6)\n",
    "\n",
    "\n",
    "@nb.njit(cache=True, parallel=True, nopython=False)\n",
    "def mrr_numba(target, users, recs, k):\n",
    "    mrr = np.zeros(len(users))\n",
    "    for idx_user in nb.prange(len(users)):\n",
    "        user = users[idx_user]\n",
    "        sum_invers_rank = 0\n",
    "        user_target = target[target[:, 0] == user][:, 1]\n",
    "        for idx_rec in nb.prange(len(recs[idx_user])):\n",
    "            if recs[idx_user][idx_rec] in user_target:\n",
    "                sum_invers_rank += 1 / (idx_rec + 1)\n",
    "                break\n",
    "        mrr[idx_user] = sum_invers_rank\n",
    "    return round(mrr.mean(), 6)\n",
    "\n",
    "\n",
    "def mrr_pandas(df, users, recs, k):\n",
    "    df_recs = pd.DataFrame({\n",
    "            'user': np.repeat(users, k),\n",
    "            'item': recs.ravel()\n",
    "    })\n",
    "    df_recs['rank'] = df_recs.groupby('user').cumcount() + 1\n",
    "    df_recs = df.merge(df_recs, how='left', left_on=['user', 'item'], right_on=['user', 'item'])\n",
    "    tp_k = f'TP@{k}'\n",
    "    df_recs[tp_k] = df_recs['rank'] < (k + 1)\n",
    "    if df_recs[df_recs[tp_k] == True].shape[0] > 0:\n",
    "        p = sum(1 / df_recs[df_recs[tp_k] == True].groupby('user')['rank'].agg('min')) / len(users)\n",
    "    else:\n",
    "        p = 0\n",
    "    return round(p, 6)"
   ]
  },
  {
   "cell_type": "code",
   "execution_count": 14,
   "id": "7609f70a",
   "metadata": {
    "id": "7609f70a"
   },
   "outputs": [],
   "source": [
    "users_count = [100, 1000, 10000, 100000]\n",
    "top_k = [10, 50, 100]\n",
    "all_values = dict()\n",
    "for user_count in users_count:\n",
    "    for k in top_k:\n",
    "        all_values[f'{user_count}_{k}'] = generate_subsample(df, user_count, k)"
   ]
  },
  {
   "cell_type": "code",
   "execution_count": 19,
   "id": "f39c39e3",
   "metadata": {
    "id": "f39c39e3",
    "outputId": "4e22a1e1-cd11-4888-9461-d82d88fbd319"
   },
   "outputs": [
    {
     "name": "stderr",
     "output_type": "stream",
     "text": [
      "100%|███████████████████████████████████████████████████████████████████████████████████████████████████████████████████████████████████████████████████████████████████████████| 4/4 [07:27<00:00, 111.96s/it]\n"
     ]
    }
   ],
   "source": [
    "algorithm, time, user_count_values, top_k_values = [], [], [], []\n",
    "for user_count in tqdm(users_count):\n",
    "    for k in top_k:\n",
    "        curr_df, curr_users, curr_recs = all_values[f'{user_count}_{k}']\n",
    "\n",
    "        strat_time = monotonic()\n",
    "        res_naive = mrr_naive(curr_df.values, curr_users, curr_recs, k)\n",
    "        time.append(monotonic() - strat_time)\n",
    "        algorithm.append('naive')\n",
    "        user_count_values.append(user_count)\n",
    "        top_k_values.append(k)\n",
    "\n",
    "        strat_time = monotonic()\n",
    "        res_numba = mrr_numba(curr_df.values, curr_users, curr_recs, k)\n",
    "        time.append(monotonic() - strat_time)\n",
    "        algorithm.append('numba')\n",
    "        user_count_values.append(user_count)\n",
    "        top_k_values.append(k)\n",
    "\n",
    "        strat_time = monotonic()\n",
    "        res_pandas = mrr_pandas(curr_df, curr_users, curr_recs, k)\n",
    "        time.append(monotonic() - strat_time)\n",
    "        algorithm.append('pandas')\n",
    "        user_count_values.append(user_count)\n",
    "        top_k_values.append(k)\n",
    "\n",
    "        assert res_naive == res_numba, \"Значения MRR naive и numba не совпадают!\"\n",
    "        assert res_naive == res_pandas, \"Значения MRR naive и pandas не совпадают!\"\n",
    "        assert res_pandas == res_numba, \"Значения MRR pandas и numba не совпадают!\""
   ]
  },
  {
   "cell_type": "code",
   "execution_count": 23,
   "id": "592adc31",
   "metadata": {
    "id": "592adc31",
    "outputId": "ed9398ad-304f-453c-ad24-1ea3a91d128f"
   },
   "outputs": [
    {
     "data": {
      "text/html": [
       "<div>\n",
       "<style scoped>\n",
       "    .dataframe tbody tr th:only-of-type {\n",
       "        vertical-align: middle;\n",
       "    }\n",
       "\n",
       "    .dataframe tbody tr th {\n",
       "        vertical-align: top;\n",
       "    }\n",
       "\n",
       "    .dataframe thead th {\n",
       "        text-align: right;\n",
       "    }\n",
       "</style>\n",
       "<table border=\"1\" class=\"dataframe\">\n",
       "  <thead>\n",
       "    <tr style=\"text-align: right;\">\n",
       "      <th></th>\n",
       "      <th>algorithm</th>\n",
       "      <th>time</th>\n",
       "      <th>user_count</th>\n",
       "      <th>top_k</th>\n",
       "    </tr>\n",
       "  </thead>\n",
       "  <tbody>\n",
       "    <tr>\n",
       "      <th>0</th>\n",
       "      <td>naive</td>\n",
       "      <td>0.002646</td>\n",
       "      <td>100</td>\n",
       "      <td>10</td>\n",
       "    </tr>\n",
       "    <tr>\n",
       "      <th>1</th>\n",
       "      <td>numba</td>\n",
       "      <td>1.514801</td>\n",
       "      <td>100</td>\n",
       "      <td>10</td>\n",
       "    </tr>\n",
       "    <tr>\n",
       "      <th>2</th>\n",
       "      <td>pandas</td>\n",
       "      <td>0.004732</td>\n",
       "      <td>100</td>\n",
       "      <td>10</td>\n",
       "    </tr>\n",
       "    <tr>\n",
       "      <th>3</th>\n",
       "      <td>naive</td>\n",
       "      <td>0.008836</td>\n",
       "      <td>100</td>\n",
       "      <td>50</td>\n",
       "    </tr>\n",
       "    <tr>\n",
       "      <th>4</th>\n",
       "      <td>numba</td>\n",
       "      <td>0.000078</td>\n",
       "      <td>100</td>\n",
       "      <td>50</td>\n",
       "    </tr>\n",
       "    <tr>\n",
       "      <th>5</th>\n",
       "      <td>pandas</td>\n",
       "      <td>0.004116</td>\n",
       "      <td>100</td>\n",
       "      <td>50</td>\n",
       "    </tr>\n",
       "    <tr>\n",
       "      <th>6</th>\n",
       "      <td>naive</td>\n",
       "      <td>0.012074</td>\n",
       "      <td>100</td>\n",
       "      <td>100</td>\n",
       "    </tr>\n",
       "    <tr>\n",
       "      <th>7</th>\n",
       "      <td>numba</td>\n",
       "      <td>0.000080</td>\n",
       "      <td>100</td>\n",
       "      <td>100</td>\n",
       "    </tr>\n",
       "    <tr>\n",
       "      <th>8</th>\n",
       "      <td>pandas</td>\n",
       "      <td>0.004277</td>\n",
       "      <td>100</td>\n",
       "      <td>100</td>\n",
       "    </tr>\n",
       "    <tr>\n",
       "      <th>9</th>\n",
       "      <td>naive</td>\n",
       "      <td>0.036420</td>\n",
       "      <td>1000</td>\n",
       "      <td>10</td>\n",
       "    </tr>\n",
       "    <tr>\n",
       "      <th>10</th>\n",
       "      <td>numba</td>\n",
       "      <td>0.003454</td>\n",
       "      <td>1000</td>\n",
       "      <td>10</td>\n",
       "    </tr>\n",
       "    <tr>\n",
       "      <th>11</th>\n",
       "      <td>pandas</td>\n",
       "      <td>0.006680</td>\n",
       "      <td>1000</td>\n",
       "      <td>10</td>\n",
       "    </tr>\n",
       "    <tr>\n",
       "      <th>12</th>\n",
       "      <td>naive</td>\n",
       "      <td>0.064838</td>\n",
       "      <td>1000</td>\n",
       "      <td>50</td>\n",
       "    </tr>\n",
       "    <tr>\n",
       "      <th>13</th>\n",
       "      <td>numba</td>\n",
       "      <td>0.002869</td>\n",
       "      <td>1000</td>\n",
       "      <td>50</td>\n",
       "    </tr>\n",
       "    <tr>\n",
       "      <th>14</th>\n",
       "      <td>pandas</td>\n",
       "      <td>0.009150</td>\n",
       "      <td>1000</td>\n",
       "      <td>50</td>\n",
       "    </tr>\n",
       "    <tr>\n",
       "      <th>15</th>\n",
       "      <td>naive</td>\n",
       "      <td>0.092772</td>\n",
       "      <td>1000</td>\n",
       "      <td>100</td>\n",
       "    </tr>\n",
       "    <tr>\n",
       "      <th>16</th>\n",
       "      <td>numba</td>\n",
       "      <td>0.002635</td>\n",
       "      <td>1000</td>\n",
       "      <td>100</td>\n",
       "    </tr>\n",
       "    <tr>\n",
       "      <th>17</th>\n",
       "      <td>pandas</td>\n",
       "      <td>0.013737</td>\n",
       "      <td>1000</td>\n",
       "      <td>100</td>\n",
       "    </tr>\n",
       "    <tr>\n",
       "      <th>18</th>\n",
       "      <td>naive</td>\n",
       "      <td>1.263562</td>\n",
       "      <td>10000</td>\n",
       "      <td>10</td>\n",
       "    </tr>\n",
       "    <tr>\n",
       "      <th>19</th>\n",
       "      <td>numba</td>\n",
       "      <td>0.233376</td>\n",
       "      <td>10000</td>\n",
       "      <td>10</td>\n",
       "    </tr>\n",
       "    <tr>\n",
       "      <th>20</th>\n",
       "      <td>pandas</td>\n",
       "      <td>0.022437</td>\n",
       "      <td>10000</td>\n",
       "      <td>10</td>\n",
       "    </tr>\n",
       "    <tr>\n",
       "      <th>21</th>\n",
       "      <td>naive</td>\n",
       "      <td>1.646041</td>\n",
       "      <td>10000</td>\n",
       "      <td>50</td>\n",
       "    </tr>\n",
       "    <tr>\n",
       "      <th>22</th>\n",
       "      <td>numba</td>\n",
       "      <td>0.221348</td>\n",
       "      <td>10000</td>\n",
       "      <td>50</td>\n",
       "    </tr>\n",
       "    <tr>\n",
       "      <th>23</th>\n",
       "      <td>pandas</td>\n",
       "      <td>0.056730</td>\n",
       "      <td>10000</td>\n",
       "      <td>50</td>\n",
       "    </tr>\n",
       "    <tr>\n",
       "      <th>24</th>\n",
       "      <td>naive</td>\n",
       "      <td>1.979929</td>\n",
       "      <td>10000</td>\n",
       "      <td>100</td>\n",
       "    </tr>\n",
       "    <tr>\n",
       "      <th>25</th>\n",
       "      <td>numba</td>\n",
       "      <td>0.216455</td>\n",
       "      <td>10000</td>\n",
       "      <td>100</td>\n",
       "    </tr>\n",
       "    <tr>\n",
       "      <th>26</th>\n",
       "      <td>pandas</td>\n",
       "      <td>0.130295</td>\n",
       "      <td>10000</td>\n",
       "      <td>100</td>\n",
       "    </tr>\n",
       "    <tr>\n",
       "      <th>27</th>\n",
       "      <td>naive</td>\n",
       "      <td>123.077702</td>\n",
       "      <td>100000</td>\n",
       "      <td>10</td>\n",
       "    </tr>\n",
       "    <tr>\n",
       "      <th>28</th>\n",
       "      <td>numba</td>\n",
       "      <td>21.107522</td>\n",
       "      <td>100000</td>\n",
       "      <td>10</td>\n",
       "    </tr>\n",
       "    <tr>\n",
       "      <th>29</th>\n",
       "      <td>pandas</td>\n",
       "      <td>0.235035</td>\n",
       "      <td>100000</td>\n",
       "      <td>10</td>\n",
       "    </tr>\n",
       "    <tr>\n",
       "      <th>30</th>\n",
       "      <td>naive</td>\n",
       "      <td>119.589008</td>\n",
       "      <td>100000</td>\n",
       "      <td>50</td>\n",
       "    </tr>\n",
       "    <tr>\n",
       "      <th>31</th>\n",
       "      <td>numba</td>\n",
       "      <td>23.527433</td>\n",
       "      <td>100000</td>\n",
       "      <td>50</td>\n",
       "    </tr>\n",
       "    <tr>\n",
       "      <th>32</th>\n",
       "      <td>pandas</td>\n",
       "      <td>1.344650</td>\n",
       "      <td>100000</td>\n",
       "      <td>50</td>\n",
       "    </tr>\n",
       "    <tr>\n",
       "      <th>33</th>\n",
       "      <td>naive</td>\n",
       "      <td>123.791512</td>\n",
       "      <td>100000</td>\n",
       "      <td>100</td>\n",
       "    </tr>\n",
       "    <tr>\n",
       "      <th>34</th>\n",
       "      <td>numba</td>\n",
       "      <td>24.992276</td>\n",
       "      <td>100000</td>\n",
       "      <td>100</td>\n",
       "    </tr>\n",
       "    <tr>\n",
       "      <th>35</th>\n",
       "      <td>pandas</td>\n",
       "      <td>2.611139</td>\n",
       "      <td>100000</td>\n",
       "      <td>100</td>\n",
       "    </tr>\n",
       "  </tbody>\n",
       "</table>\n",
       "</div>"
      ],
      "text/plain": [
       "   algorithm        time  user_count  top_k\n",
       "0      naive    0.002646         100     10\n",
       "1      numba    1.514801         100     10\n",
       "2     pandas    0.004732         100     10\n",
       "3      naive    0.008836         100     50\n",
       "4      numba    0.000078         100     50\n",
       "5     pandas    0.004116         100     50\n",
       "6      naive    0.012074         100    100\n",
       "7      numba    0.000080         100    100\n",
       "8     pandas    0.004277         100    100\n",
       "9      naive    0.036420        1000     10\n",
       "10     numba    0.003454        1000     10\n",
       "11    pandas    0.006680        1000     10\n",
       "12     naive    0.064838        1000     50\n",
       "13     numba    0.002869        1000     50\n",
       "14    pandas    0.009150        1000     50\n",
       "15     naive    0.092772        1000    100\n",
       "16     numba    0.002635        1000    100\n",
       "17    pandas    0.013737        1000    100\n",
       "18     naive    1.263562       10000     10\n",
       "19     numba    0.233376       10000     10\n",
       "20    pandas    0.022437       10000     10\n",
       "21     naive    1.646041       10000     50\n",
       "22     numba    0.221348       10000     50\n",
       "23    pandas    0.056730       10000     50\n",
       "24     naive    1.979929       10000    100\n",
       "25     numba    0.216455       10000    100\n",
       "26    pandas    0.130295       10000    100\n",
       "27     naive  123.077702      100000     10\n",
       "28     numba   21.107522      100000     10\n",
       "29    pandas    0.235035      100000     10\n",
       "30     naive  119.589008      100000     50\n",
       "31     numba   23.527433      100000     50\n",
       "32    pandas    1.344650      100000     50\n",
       "33     naive  123.791512      100000    100\n",
       "34     numba   24.992276      100000    100\n",
       "35    pandas    2.611139      100000    100"
      ]
     },
     "execution_count": 23,
     "metadata": {},
     "output_type": "execute_result"
    }
   ],
   "source": [
    "df_result = pd.DataFrame(\n",
    "    {\n",
    "        \"algorithm\": algorithm,\n",
    "        \"time\": time,\n",
    "        \"user_count\": user_count_values,\n",
    "        \"top_k\": top_k_values\n",
    "    }\n",
    ")\n",
    "\n",
    "df_result"
   ]
  },
  {
   "cell_type": "code",
   "execution_count": 24,
   "id": "353eb9d7",
   "metadata": {
    "id": "353eb9d7"
   },
   "outputs": [],
   "source": [
    "df_result.to_csv('../data/hw_2/metrics/results_mrr.csv', index=False)"
   ]
  },
  {
   "cell_type": "code",
   "execution_count": 25,
   "id": "85e35e87",
   "metadata": {},
   "outputs": [],
   "source": [
    "def plot_result(ax, K: int, res_naive: pd.DataFrame, res_numba: pd.DataFrame, res_pandas: pd.DataFrame):\n",
    "    ax.plot(res_naive['user_count'], res_naive['time'], label='naive')\n",
    "    ax.plot(res_numba['user_count'], res_numba['time'], label='numba')\n",
    "    ax.plot(res_pandas['user_count'], res_pandas['time'], label='pandas')\n",
    "    ax.legend()\n",
    "    ax.grid(True)\n",
    "    ax.set_title(f\"K = {K}\")\n",
    "    ax.set_xlabel(f\"user_count\")\n",
    "    ax.set_ylabel(f\"time\")"
   ]
  },
  {
   "cell_type": "code",
   "execution_count": 26,
   "id": "fd507e27",
   "metadata": {},
   "outputs": [],
   "source": [
    "res_naive = df_result[df_result['algorithm'] == 'naive']\n",
    "res_numba = df_result[df_result['algorithm'] == 'numba']\n",
    "res_pandas = df_result[df_result['algorithm'] == 'pandas']"
   ]
  },
  {
   "cell_type": "code",
   "execution_count": 27,
   "id": "4070db21",
   "metadata": {},
   "outputs": [
    {
     "data": {
      "text/html": [
       "<div>\n",
       "<style scoped>\n",
       "    .dataframe tbody tr th:only-of-type {\n",
       "        vertical-align: middle;\n",
       "    }\n",
       "\n",
       "    .dataframe tbody tr th {\n",
       "        vertical-align: top;\n",
       "    }\n",
       "\n",
       "    .dataframe thead th {\n",
       "        text-align: right;\n",
       "    }\n",
       "</style>\n",
       "<table border=\"1\" class=\"dataframe\">\n",
       "  <thead>\n",
       "    <tr style=\"text-align: right;\">\n",
       "      <th></th>\n",
       "      <th>algorithm</th>\n",
       "      <th>time</th>\n",
       "      <th>user_count</th>\n",
       "      <th>top_k</th>\n",
       "    </tr>\n",
       "  </thead>\n",
       "  <tbody>\n",
       "    <tr>\n",
       "      <th>0</th>\n",
       "      <td>naive</td>\n",
       "      <td>0.002646</td>\n",
       "      <td>100</td>\n",
       "      <td>10</td>\n",
       "    </tr>\n",
       "    <tr>\n",
       "      <th>3</th>\n",
       "      <td>naive</td>\n",
       "      <td>0.008836</td>\n",
       "      <td>100</td>\n",
       "      <td>50</td>\n",
       "    </tr>\n",
       "    <tr>\n",
       "      <th>6</th>\n",
       "      <td>naive</td>\n",
       "      <td>0.012074</td>\n",
       "      <td>100</td>\n",
       "      <td>100</td>\n",
       "    </tr>\n",
       "    <tr>\n",
       "      <th>9</th>\n",
       "      <td>naive</td>\n",
       "      <td>0.036420</td>\n",
       "      <td>1000</td>\n",
       "      <td>10</td>\n",
       "    </tr>\n",
       "    <tr>\n",
       "      <th>12</th>\n",
       "      <td>naive</td>\n",
       "      <td>0.064838</td>\n",
       "      <td>1000</td>\n",
       "      <td>50</td>\n",
       "    </tr>\n",
       "    <tr>\n",
       "      <th>15</th>\n",
       "      <td>naive</td>\n",
       "      <td>0.092772</td>\n",
       "      <td>1000</td>\n",
       "      <td>100</td>\n",
       "    </tr>\n",
       "    <tr>\n",
       "      <th>18</th>\n",
       "      <td>naive</td>\n",
       "      <td>1.263562</td>\n",
       "      <td>10000</td>\n",
       "      <td>10</td>\n",
       "    </tr>\n",
       "    <tr>\n",
       "      <th>21</th>\n",
       "      <td>naive</td>\n",
       "      <td>1.646041</td>\n",
       "      <td>10000</td>\n",
       "      <td>50</td>\n",
       "    </tr>\n",
       "    <tr>\n",
       "      <th>24</th>\n",
       "      <td>naive</td>\n",
       "      <td>1.979929</td>\n",
       "      <td>10000</td>\n",
       "      <td>100</td>\n",
       "    </tr>\n",
       "    <tr>\n",
       "      <th>27</th>\n",
       "      <td>naive</td>\n",
       "      <td>123.077702</td>\n",
       "      <td>100000</td>\n",
       "      <td>10</td>\n",
       "    </tr>\n",
       "    <tr>\n",
       "      <th>30</th>\n",
       "      <td>naive</td>\n",
       "      <td>119.589008</td>\n",
       "      <td>100000</td>\n",
       "      <td>50</td>\n",
       "    </tr>\n",
       "    <tr>\n",
       "      <th>33</th>\n",
       "      <td>naive</td>\n",
       "      <td>123.791512</td>\n",
       "      <td>100000</td>\n",
       "      <td>100</td>\n",
       "    </tr>\n",
       "  </tbody>\n",
       "</table>\n",
       "</div>"
      ],
      "text/plain": [
       "   algorithm        time  user_count  top_k\n",
       "0      naive    0.002646         100     10\n",
       "3      naive    0.008836         100     50\n",
       "6      naive    0.012074         100    100\n",
       "9      naive    0.036420        1000     10\n",
       "12     naive    0.064838        1000     50\n",
       "15     naive    0.092772        1000    100\n",
       "18     naive    1.263562       10000     10\n",
       "21     naive    1.646041       10000     50\n",
       "24     naive    1.979929       10000    100\n",
       "27     naive  123.077702      100000     10\n",
       "30     naive  119.589008      100000     50\n",
       "33     naive  123.791512      100000    100"
      ]
     },
     "execution_count": 27,
     "metadata": {},
     "output_type": "execute_result"
    }
   ],
   "source": [
    "res_naive"
   ]
  },
  {
   "cell_type": "code",
   "execution_count": 28,
   "id": "7c01325b",
   "metadata": {},
   "outputs": [
    {
     "data": {
      "text/html": [
       "<div>\n",
       "<style scoped>\n",
       "    .dataframe tbody tr th:only-of-type {\n",
       "        vertical-align: middle;\n",
       "    }\n",
       "\n",
       "    .dataframe tbody tr th {\n",
       "        vertical-align: top;\n",
       "    }\n",
       "\n",
       "    .dataframe thead th {\n",
       "        text-align: right;\n",
       "    }\n",
       "</style>\n",
       "<table border=\"1\" class=\"dataframe\">\n",
       "  <thead>\n",
       "    <tr style=\"text-align: right;\">\n",
       "      <th></th>\n",
       "      <th>algorithm</th>\n",
       "      <th>time</th>\n",
       "      <th>user_count</th>\n",
       "      <th>top_k</th>\n",
       "    </tr>\n",
       "  </thead>\n",
       "  <tbody>\n",
       "    <tr>\n",
       "      <th>1</th>\n",
       "      <td>numba</td>\n",
       "      <td>1.514801</td>\n",
       "      <td>100</td>\n",
       "      <td>10</td>\n",
       "    </tr>\n",
       "    <tr>\n",
       "      <th>4</th>\n",
       "      <td>numba</td>\n",
       "      <td>0.000078</td>\n",
       "      <td>100</td>\n",
       "      <td>50</td>\n",
       "    </tr>\n",
       "    <tr>\n",
       "      <th>7</th>\n",
       "      <td>numba</td>\n",
       "      <td>0.000080</td>\n",
       "      <td>100</td>\n",
       "      <td>100</td>\n",
       "    </tr>\n",
       "    <tr>\n",
       "      <th>10</th>\n",
       "      <td>numba</td>\n",
       "      <td>0.003454</td>\n",
       "      <td>1000</td>\n",
       "      <td>10</td>\n",
       "    </tr>\n",
       "    <tr>\n",
       "      <th>13</th>\n",
       "      <td>numba</td>\n",
       "      <td>0.002869</td>\n",
       "      <td>1000</td>\n",
       "      <td>50</td>\n",
       "    </tr>\n",
       "    <tr>\n",
       "      <th>16</th>\n",
       "      <td>numba</td>\n",
       "      <td>0.002635</td>\n",
       "      <td>1000</td>\n",
       "      <td>100</td>\n",
       "    </tr>\n",
       "    <tr>\n",
       "      <th>19</th>\n",
       "      <td>numba</td>\n",
       "      <td>0.233376</td>\n",
       "      <td>10000</td>\n",
       "      <td>10</td>\n",
       "    </tr>\n",
       "    <tr>\n",
       "      <th>22</th>\n",
       "      <td>numba</td>\n",
       "      <td>0.221348</td>\n",
       "      <td>10000</td>\n",
       "      <td>50</td>\n",
       "    </tr>\n",
       "    <tr>\n",
       "      <th>25</th>\n",
       "      <td>numba</td>\n",
       "      <td>0.216455</td>\n",
       "      <td>10000</td>\n",
       "      <td>100</td>\n",
       "    </tr>\n",
       "    <tr>\n",
       "      <th>28</th>\n",
       "      <td>numba</td>\n",
       "      <td>21.107522</td>\n",
       "      <td>100000</td>\n",
       "      <td>10</td>\n",
       "    </tr>\n",
       "    <tr>\n",
       "      <th>31</th>\n",
       "      <td>numba</td>\n",
       "      <td>23.527433</td>\n",
       "      <td>100000</td>\n",
       "      <td>50</td>\n",
       "    </tr>\n",
       "    <tr>\n",
       "      <th>34</th>\n",
       "      <td>numba</td>\n",
       "      <td>24.992276</td>\n",
       "      <td>100000</td>\n",
       "      <td>100</td>\n",
       "    </tr>\n",
       "  </tbody>\n",
       "</table>\n",
       "</div>"
      ],
      "text/plain": [
       "   algorithm       time  user_count  top_k\n",
       "1      numba   1.514801         100     10\n",
       "4      numba   0.000078         100     50\n",
       "7      numba   0.000080         100    100\n",
       "10     numba   0.003454        1000     10\n",
       "13     numba   0.002869        1000     50\n",
       "16     numba   0.002635        1000    100\n",
       "19     numba   0.233376       10000     10\n",
       "22     numba   0.221348       10000     50\n",
       "25     numba   0.216455       10000    100\n",
       "28     numba  21.107522      100000     10\n",
       "31     numba  23.527433      100000     50\n",
       "34     numba  24.992276      100000    100"
      ]
     },
     "execution_count": 28,
     "metadata": {},
     "output_type": "execute_result"
    }
   ],
   "source": [
    "res_numba"
   ]
  },
  {
   "cell_type": "markdown",
   "id": "8221bea2",
   "metadata": {},
   "source": [
    "первое значение времени, не совсем является объективным, т.к. numba необходимо **прогреть**"
   ]
  },
  {
   "cell_type": "code",
   "execution_count": 30,
   "id": "d8f0d521",
   "metadata": {},
   "outputs": [
    {
     "data": {
      "text/html": [
       "<div>\n",
       "<style scoped>\n",
       "    .dataframe tbody tr th:only-of-type {\n",
       "        vertical-align: middle;\n",
       "    }\n",
       "\n",
       "    .dataframe tbody tr th {\n",
       "        vertical-align: top;\n",
       "    }\n",
       "\n",
       "    .dataframe thead th {\n",
       "        text-align: right;\n",
       "    }\n",
       "</style>\n",
       "<table border=\"1\" class=\"dataframe\">\n",
       "  <thead>\n",
       "    <tr style=\"text-align: right;\">\n",
       "      <th></th>\n",
       "      <th>algorithm</th>\n",
       "      <th>time</th>\n",
       "      <th>user_count</th>\n",
       "      <th>top_k</th>\n",
       "    </tr>\n",
       "  </thead>\n",
       "  <tbody>\n",
       "    <tr>\n",
       "      <th>2</th>\n",
       "      <td>pandas</td>\n",
       "      <td>0.004732</td>\n",
       "      <td>100</td>\n",
       "      <td>10</td>\n",
       "    </tr>\n",
       "    <tr>\n",
       "      <th>5</th>\n",
       "      <td>pandas</td>\n",
       "      <td>0.004116</td>\n",
       "      <td>100</td>\n",
       "      <td>50</td>\n",
       "    </tr>\n",
       "    <tr>\n",
       "      <th>8</th>\n",
       "      <td>pandas</td>\n",
       "      <td>0.004277</td>\n",
       "      <td>100</td>\n",
       "      <td>100</td>\n",
       "    </tr>\n",
       "    <tr>\n",
       "      <th>11</th>\n",
       "      <td>pandas</td>\n",
       "      <td>0.006680</td>\n",
       "      <td>1000</td>\n",
       "      <td>10</td>\n",
       "    </tr>\n",
       "    <tr>\n",
       "      <th>14</th>\n",
       "      <td>pandas</td>\n",
       "      <td>0.009150</td>\n",
       "      <td>1000</td>\n",
       "      <td>50</td>\n",
       "    </tr>\n",
       "    <tr>\n",
       "      <th>17</th>\n",
       "      <td>pandas</td>\n",
       "      <td>0.013737</td>\n",
       "      <td>1000</td>\n",
       "      <td>100</td>\n",
       "    </tr>\n",
       "    <tr>\n",
       "      <th>20</th>\n",
       "      <td>pandas</td>\n",
       "      <td>0.022437</td>\n",
       "      <td>10000</td>\n",
       "      <td>10</td>\n",
       "    </tr>\n",
       "    <tr>\n",
       "      <th>23</th>\n",
       "      <td>pandas</td>\n",
       "      <td>0.056730</td>\n",
       "      <td>10000</td>\n",
       "      <td>50</td>\n",
       "    </tr>\n",
       "    <tr>\n",
       "      <th>26</th>\n",
       "      <td>pandas</td>\n",
       "      <td>0.130295</td>\n",
       "      <td>10000</td>\n",
       "      <td>100</td>\n",
       "    </tr>\n",
       "    <tr>\n",
       "      <th>29</th>\n",
       "      <td>pandas</td>\n",
       "      <td>0.235035</td>\n",
       "      <td>100000</td>\n",
       "      <td>10</td>\n",
       "    </tr>\n",
       "    <tr>\n",
       "      <th>32</th>\n",
       "      <td>pandas</td>\n",
       "      <td>1.344650</td>\n",
       "      <td>100000</td>\n",
       "      <td>50</td>\n",
       "    </tr>\n",
       "    <tr>\n",
       "      <th>35</th>\n",
       "      <td>pandas</td>\n",
       "      <td>2.611139</td>\n",
       "      <td>100000</td>\n",
       "      <td>100</td>\n",
       "    </tr>\n",
       "  </tbody>\n",
       "</table>\n",
       "</div>"
      ],
      "text/plain": [
       "   algorithm      time  user_count  top_k\n",
       "2     pandas  0.004732         100     10\n",
       "5     pandas  0.004116         100     50\n",
       "8     pandas  0.004277         100    100\n",
       "11    pandas  0.006680        1000     10\n",
       "14    pandas  0.009150        1000     50\n",
       "17    pandas  0.013737        1000    100\n",
       "20    pandas  0.022437       10000     10\n",
       "23    pandas  0.056730       10000     50\n",
       "26    pandas  0.130295       10000    100\n",
       "29    pandas  0.235035      100000     10\n",
       "32    pandas  1.344650      100000     50\n",
       "35    pandas  2.611139      100000    100"
      ]
     },
     "execution_count": 30,
     "metadata": {},
     "output_type": "execute_result"
    }
   ],
   "source": [
    "res_pandas"
   ]
  },
  {
   "cell_type": "code",
   "execution_count": 32,
   "id": "5b4b5566",
   "metadata": {},
   "outputs": [
    {
     "data": {
      "image/png": "[encoded data removed]",
      "text/plain": [
       "<Figure size 1000x1000 with 3 Axes>"
      ]
     },
     "metadata": {},
     "output_type": "display_data"
    }
   ],
   "source": [
    "fig, axs = plt.subplots(nrows=3, ncols=1, sharex=True, sharey=True, figsize=(10, 10))\n",
    "fig.suptitle('Время расчета MRR при разных K')\n",
    "\n",
    "for idx, k in enumerate(top_k):\n",
    "    plot_result(\n",
    "        axs[idx], k, res_naive[res_naive['top_k'] == k], res_numba[res_numba['top_k'] == k],\n",
    "        res_pandas[res_pandas['top_k'] == k]\n",
    "    )"
   ]
  },
  {
   "cell_type": "markdown",
   "id": "1d0a91c7",
   "metadata": {},
   "source": [
    "Из графиков видно, что для разных K **тенденция** разницы во времени для разных реализациий **сохраняется**\n",
    "Как и предполагалась самая быстрая реализация для **pandas"
   ]
  },
  {
   "cell_type": "markdown",
   "id": "31454485",
   "metadata": {
    "id": "31454485"
   },
   "source": [
    "## PFound"
   ]
  },
  {
   "cell_type": "markdown",
   "id": "HP6Invbfly2b",
   "metadata": {
    "id": "HP6Invbfly2b"
   },
   "source": [
    "### Скачаем и разархивируем датасет"
   ]
  },
  {
   "cell_type": "code",
   "execution_count": 2,
   "id": "SyXFC_lml0-6",
   "metadata": {
    "colab": {
     "base_uri": "https://localhost:8080/"
    },
    "id": "SyXFC_lml0-6",
    "outputId": "e02fe896-cc06-4c00-9cc5-66e4003a55fb"
   },
   "outputs": [
    {
     "name": "stdout",
     "output_type": "stream",
     "text": [
      "Downloading...\n",
      "From: https://drive.google.com/uc?id=1z2BD7U-tCI3EGlPFm4bIRWg4w8bYVe9g\n",
      "To: /content/yandex_cup_analytics_A.zip\n",
      "\r",
      "  0% 0.00/75.4k [00:00<?, ?B/s]\r",
      "100% 75.4k/75.4k [00:00<00:00, 58.1MB/s]\n"
     ]
    }
   ],
   "source": [
    "!gdown https://drive.google.com/file/d/1z2BD7U-tCI3EGlPFm4bIRWg4w8bYVe9g/view?usp=sharing --fuzzy"
   ]
  },
  {
   "cell_type": "code",
   "execution_count": 3,
   "id": "SImRfJe5l1da",
   "metadata": {
    "colab": {
     "base_uri": "https://localhost:8080/"
    },
    "id": "SImRfJe5l1da",
    "outputId": "688b5e42-72a4-4b85-9a73-d011de69cf80"
   },
   "outputs": [
    {
     "name": "stdout",
     "output_type": "stream",
     "text": [
      "Archive:  yandex_cup_analytics_A.zip\n",
      "  inflating: hidden_task.zip         \n",
      "  inflating: open_task.zip           \n",
      "Archive:  hidden_task.zip\n",
      "  inflating: hidden_task/hostid_url.tsv  \n",
      "  inflating: hidden_task/qid_query.tsv  \n",
      "  inflating: hidden_task/qid_url_rating.tsv  \n",
      "Archive:  open_task.zip\n",
      "   creating: open_task/\n",
      "  inflating: open_task/qid_query.tsv  \n",
      "  inflating: open_task/hostid_url.tsv  \n",
      "  inflating: open_task/qid_url_rating.tsv  \n"
     ]
    }
   ],
   "source": [
    "!unzip yandex_cup_analytics_A.zip\n",
    "\n",
    "%mkdir hidden_task\n",
    "!unzip hidden_task.zip -d hidden_task\n",
    "\n",
    "!unzip open_task.zip"
   ]
  },
  {
   "cell_type": "markdown",
   "id": "MsBqgWLKl46D",
   "metadata": {
    "id": "MsBqgWLKl46D"
   },
   "source": [
    "### Посмотрим на датасет"
   ]
  },
  {
   "cell_type": "code",
   "execution_count": 4,
   "id": "6254d0ff",
   "metadata": {
    "id": "6254d0ff"
   },
   "outputs": [],
   "source": [
    "import pandas as pd\n",
    "import numpy as np\n",
    "\n",
    "import time"
   ]
  },
  {
   "cell_type": "code",
   "execution_count": 8,
   "id": "d4c26184",
   "metadata": {
    "colab": {
     "base_uri": "https://localhost:8080/",
     "height": 424
    },
    "id": "d4c26184",
    "outputId": "17c14741-40da-43cb-dea3-ecfa3ff54c51"
   },
   "outputs": [
    {
     "data": {
      "text/html": [
       "\n",
       "  <div id=\"df-16b70a31-a667-4e47-813a-5886c01d4d14\">\n",
       "    <div class=\"colab-df-container\">\n",
       "      <div>\n",
       "<style scoped>\n",
       "    .dataframe tbody tr th:only-of-type {\n",
       "        vertical-align: middle;\n",
       "    }\n",
       "\n",
       "    .dataframe tbody tr th {\n",
       "        vertical-align: top;\n",
       "    }\n",
       "\n",
       "    .dataframe thead th {\n",
       "        text-align: right;\n",
       "    }\n",
       "</style>\n",
       "<table border=\"1\" class=\"dataframe\">\n",
       "  <thead>\n",
       "    <tr style=\"text-align: right;\">\n",
       "      <th></th>\n",
       "      <th>qid</th>\n",
       "      <th>query</th>\n",
       "      <th>url</th>\n",
       "      <th>rating</th>\n",
       "      <th>hostid</th>\n",
       "    </tr>\n",
       "  </thead>\n",
       "  <tbody>\n",
       "    <tr>\n",
       "      <th>561</th>\n",
       "      <td>692308</td>\n",
       "      <td>бесплатный просмотр камеди клаб</td>\n",
       "      <td>http://www.rucomedy.com/</td>\n",
       "      <td>0.61</td>\n",
       "      <td>1035</td>\n",
       "    </tr>\n",
       "    <tr>\n",
       "      <th>549</th>\n",
       "      <td>692308</td>\n",
       "      <td>бесплатный просмотр камеди клаб</td>\n",
       "      <td>http://tnt-online.ru/smotret-comedy-club.html</td>\n",
       "      <td>0.41</td>\n",
       "      <td>551</td>\n",
       "    </tr>\n",
       "    <tr>\n",
       "      <th>569</th>\n",
       "      <td>692308</td>\n",
       "      <td>бесплатный просмотр камеди клаб</td>\n",
       "      <td>http://www.youtube.com/watch?v=LfR1rYXKaQM</td>\n",
       "      <td>0.41</td>\n",
       "      <td>1155</td>\n",
       "    </tr>\n",
       "    <tr>\n",
       "      <th>537</th>\n",
       "      <td>692308</td>\n",
       "      <td>бесплатный просмотр камеди клаб</td>\n",
       "      <td>http://all-hit.tv/1416-kamedi-klab-smotret-onl...</td>\n",
       "      <td>0.14</td>\n",
       "      <td>33</td>\n",
       "    </tr>\n",
       "    <tr>\n",
       "      <th>538</th>\n",
       "      <td>692308</td>\n",
       "      <td>бесплатный просмотр камеди клаб</td>\n",
       "      <td>http://bigcinema.tv/tvshows/kamedi-klab-serial...</td>\n",
       "      <td>0.14</td>\n",
       "      <td>70</td>\n",
       "    </tr>\n",
       "    <tr>\n",
       "      <th>...</th>\n",
       "      <td>...</td>\n",
       "      <td>...</td>\n",
       "      <td>...</td>\n",
       "      <td>...</td>\n",
       "      <td>...</td>\n",
       "    </tr>\n",
       "    <tr>\n",
       "      <th>313</th>\n",
       "      <td>5308</td>\n",
       "      <td>home нет доменов</td>\n",
       "      <td>http://www.domain.com/</td>\n",
       "      <td>0.00</td>\n",
       "      <td>767</td>\n",
       "    </tr>\n",
       "    <tr>\n",
       "      <th>315</th>\n",
       "      <td>5308</td>\n",
       "      <td>home нет доменов</td>\n",
       "      <td>http://www.irm.ru/content/domen.html</td>\n",
       "      <td>0.00</td>\n",
       "      <td>866</td>\n",
       "    </tr>\n",
       "    <tr>\n",
       "      <th>317</th>\n",
       "      <td>5308</td>\n",
       "      <td>home нет доменов</td>\n",
       "      <td>http://www.nic.ru/?ipartner=182&amp;adv_id=wkmain</td>\n",
       "      <td>0.00</td>\n",
       "      <td>960</td>\n",
       "    </tr>\n",
       "    <tr>\n",
       "      <th>319</th>\n",
       "      <td>5308</td>\n",
       "      <td>home нет доменов</td>\n",
       "      <td>http://www.sites.google.com/</td>\n",
       "      <td>0.00</td>\n",
       "      <td>1050</td>\n",
       "    </tr>\n",
       "    <tr>\n",
       "      <th>320</th>\n",
       "      <td>5308</td>\n",
       "      <td>home нет доменов</td>\n",
       "      <td>http://www.toymotion.com/</td>\n",
       "      <td>0.00</td>\n",
       "      <td>1097</td>\n",
       "    </tr>\n",
       "  </tbody>\n",
       "</table>\n",
       "<p>803 rows × 5 columns</p>\n",
       "</div>\n",
       "      <button class=\"colab-df-convert\" onclick=\"convertToInteractive('df-16b70a31-a667-4e47-813a-5886c01d4d14')\"\n",
       "              title=\"Convert this dataframe to an interactive table.\"\n",
       "              style=\"display:none;\">\n",
       "        \n",
       "  <svg xmlns=\"http://www.w3.org/2000/svg\" height=\"24px\"viewBox=\"0 0 24 24\"\n",
       "       width=\"24px\">\n",
       "    <path d=\"M0 0h24v24H0V0z\" fill=\"none\"/>\n",
       "    <path d=\"M18.56 5.44l.94 2.06.94-2.06 2.06-.94-2.06-.94-.94-2.06-.94 2.06-2.06.94zm-11 1L8.5 8.5l.94-2.06 2.06-.94-2.06-.94L8.5 2.5l-.94 2.06-2.06.94zm10 10l.94 2.06.94-2.06 2.06-.94-2.06-.94-.94-2.06-.94 2.06-2.06.94z\"/><path d=\"M17.41 7.96l-1.37-1.37c-.4-.4-.92-.59-1.43-.59-.52 0-1.04.2-1.43.59L10.3 9.45l-7.72 7.72c-.78.78-.78 2.05 0 2.83L4 21.41c.39.39.9.59 1.41.59.51 0 1.02-.2 1.41-.59l7.78-7.78 2.81-2.81c.8-.78.8-2.07 0-2.86zM5.41 20L4 18.59l7.72-7.72 1.47 1.35L5.41 20z\"/>\n",
       "  </svg>\n",
       "      </button>\n",
       "      \n",
       "  <style>\n",
       "    .colab-df-container {\n",
       "      display:flex;\n",
       "      flex-wrap:wrap;\n",
       "      gap: 12px;\n",
       "    }\n",
       "\n",
       "    .colab-df-convert {\n",
       "      background-color: #E8F0FE;\n",
       "      border: none;\n",
       "      border-radius: 50%;\n",
       "      cursor: pointer;\n",
       "      display: none;\n",
       "      fill: #1967D2;\n",
       "      height: 32px;\n",
       "      padding: 0 0 0 0;\n",
       "      width: 32px;\n",
       "    }\n",
       "\n",
       "    .colab-df-convert:hover {\n",
       "      background-color: #E2EBFA;\n",
       "      box-shadow: 0px 1px 2px rgba(60, 64, 67, 0.3), 0px 1px 3px 1px rgba(60, 64, 67, 0.15);\n",
       "      fill: #174EA6;\n",
       "    }\n",
       "\n",
       "    [theme=dark] .colab-df-convert {\n",
       "      background-color: #3B4455;\n",
       "      fill: #D2E3FC;\n",
       "    }\n",
       "\n",
       "    [theme=dark] .colab-df-convert:hover {\n",
       "      background-color: #434B5C;\n",
       "      box-shadow: 0px 1px 3px 1px rgba(0, 0, 0, 0.15);\n",
       "      filter: drop-shadow(0px 1px 2px rgba(0, 0, 0, 0.3));\n",
       "      fill: #FFFFFF;\n",
       "    }\n",
       "  </style>\n",
       "\n",
       "      <script>\n",
       "        const buttonEl =\n",
       "          document.querySelector('#df-16b70a31-a667-4e47-813a-5886c01d4d14 button.colab-df-convert');\n",
       "        buttonEl.style.display =\n",
       "          google.colab.kernel.accessAllowed ? 'block' : 'none';\n",
       "\n",
       "        async function convertToInteractive(key) {\n",
       "          const element = document.querySelector('#df-16b70a31-a667-4e47-813a-5886c01d4d14');\n",
       "          const dataTable =\n",
       "            await google.colab.kernel.invokeFunction('convertToInteractive',\n",
       "                                                     [key], {});\n",
       "          if (!dataTable) return;\n",
       "\n",
       "          const docLinkHtml = 'Like what you see? Visit the ' +\n",
       "            '<a target=\"_blank\" href=https://colab.research.google.com/notebooks/data_table.ipynb>data table notebook</a>'\n",
       "            + ' to learn more about interactive tables.';\n",
       "          element.innerHTML = '';\n",
       "          dataTable['output_type'] = 'display_data';\n",
       "          await google.colab.output.renderOutput(dataTable, element);\n",
       "          const docLink = document.createElement('div');\n",
       "          docLink.innerHTML = docLinkHtml;\n",
       "          element.appendChild(docLink);\n",
       "        }\n",
       "      </script>\n",
       "    </div>\n",
       "  </div>\n",
       "  "
      ],
      "text/plain": [
       "        qid                            query  \\\n",
       "561  692308  бесплатный просмотр камеди клаб   \n",
       "549  692308  бесплатный просмотр камеди клаб   \n",
       "569  692308  бесплатный просмотр камеди клаб   \n",
       "537  692308  бесплатный просмотр камеди клаб   \n",
       "538  692308  бесплатный просмотр камеди клаб   \n",
       "..      ...                              ...   \n",
       "313    5308                 home нет доменов   \n",
       "315    5308                 home нет доменов   \n",
       "317    5308                 home нет доменов   \n",
       "319    5308                 home нет доменов   \n",
       "320    5308                 home нет доменов   \n",
       "\n",
       "                                                   url  rating  hostid  \n",
       "561                           http://www.rucomedy.com/    0.61    1035  \n",
       "549      http://tnt-online.ru/smotret-comedy-club.html    0.41     551  \n",
       "569         http://www.youtube.com/watch?v=LfR1rYXKaQM    0.41    1155  \n",
       "537  http://all-hit.tv/1416-kamedi-klab-smotret-onl...    0.14      33  \n",
       "538  http://bigcinema.tv/tvshows/kamedi-klab-serial...    0.14      70  \n",
       "..                                                 ...     ...     ...  \n",
       "313                             http://www.domain.com/    0.00     767  \n",
       "315               http://www.irm.ru/content/domen.html    0.00     866  \n",
       "317      http://www.nic.ru/?ipartner=182&adv_id=wkmain    0.00     960  \n",
       "319                       http://www.sites.google.com/    0.00    1050  \n",
       "320                          http://www.toymotion.com/    0.00    1097  \n",
       "\n",
       "[803 rows x 5 columns]"
      ]
     },
     "execution_count": 8,
     "metadata": {},
     "output_type": "execute_result"
    }
   ],
   "source": [
    "# считываем данные\n",
    "qid_query = pd.read_csv(\"hidden_task/qid_query.tsv\", sep=\"\\t\", names=[\"qid\", \"query\"])\n",
    "qid_url_rating = pd.read_csv(\"hidden_task/qid_url_rating.tsv\", sep=\"\\t\", names=[\"qid\", \"url\", \"rating\"])\n",
    "hostid_url = pd.read_csv(\"hidden_task/hostid_url.tsv\", sep=\"\\t\", names=[\"hostid\", \"url\"])\n",
    "\n",
    "# делаем join двух таблиц, чтобы было просто брать url с максимальным рейтингом\n",
    "qid_url_rating_hostid = pd.merge(qid_url_rating, hostid_url, on=\"url\")\n",
    "\n",
    "pd.merge(qid_query, qid_url_rating_hostid, on='qid').sort_values(by=['qid', 'rating'], ascending=False)"
   ]
  },
  {
   "cell_type": "markdown",
   "id": "nPSglKlamUXz",
   "metadata": {
    "id": "nPSglKlamUXz"
   },
   "source": [
    "### Циклический pFound"
   ]
  },
  {
   "cell_type": "markdown",
   "id": "nFXkCHnumYUS",
   "metadata": {
    "id": "nFXkCHnumYUS"
   },
   "source": [
    "#### pFound от Яндекса"
   ]
  },
  {
   "cell_type": "code",
   "execution_count": 9,
   "id": "783e49bf",
   "metadata": {
    "id": "783e49bf"
   },
   "outputs": [],
   "source": [
    "def plook(ind, rels):\n",
    "    if ind == 0:\n",
    "        return 1\n",
    "    return plook(ind-1, rels)*(1-rels[ind-1])*(1-0.15)\n",
    "\n",
    "\n",
    "def naive_pfound(group):\n",
    "    \"\"\"Реализация pFound с сайта Yandex cup\"\"\"\n",
    "    max_by_host = group.groupby(\"hostid\")[\"rating\"].max() # максимальный рейтинг хоста\n",
    "    top10 = max_by_host.sort_values(ascending=False)[:10] # берем топ10 урлов с наивысшим рейтингом\n",
    "    pfound = 0\n",
    "    for ind, val in enumerate(top10):\n",
    "        pfound += val*plook(ind, top10.values)\n",
    "    return pfound"
   ]
  },
  {
   "cell_type": "markdown",
   "id": "j7rRh4qUnDok",
   "metadata": {
    "id": "j7rRh4qUnDok"
   },
   "source": [
    "#### Немного ускоренный циклический pFound\n",
    "Немного ускорил для нормального сравнения. В официальной версии от Яндекса plook считался очень долго для большого k из-за постоянной рекурсии. Его можно ускорить с помощью динамического программирования"
   ]
  },
  {
   "cell_type": "code",
   "execution_count": 13,
   "id": "hFxRI_1KnKih",
   "metadata": {
    "id": "hFxRI_1KnKih"
   },
   "outputs": [],
   "source": [
    "def plook_dinamic(rels):\n",
    "    plook_mult = np.empty(len(rels))\n",
    "    plook_mult[0] = 1\n",
    "    for i in range(1, len(plook_mult)):\n",
    "        plook_mult[i] = plook_mult[i - 1] * (1 - rels[i - 1]) * (1 - 0.15)\n",
    "    return plook_mult\n",
    "\n",
    "\n",
    "def pfound_cicle_speed(group):\n",
    "    max_by_host = group.groupby(\"hostid\")[\"rating\"].max() # максимальный рейтинг хоста\n",
    "    top10 = max_by_host.sort_values(ascending=False)[:10] # берем топ10 урлов с наивысшим рейтингом\n",
    "    pfound = 0\n",
    "    plook_mult = plook_dinamic(top10.values)\n",
    "    for ind, val in enumerate(top10):\n",
    "        pfound += val*plook_mult[ind]\n",
    "    return pfound"
   ]
  },
  {
   "cell_type": "markdown",
   "id": "xcr-HoKZnMvb",
   "metadata": {
    "id": "xcr-HoKZnMvb"
   },
   "source": [
    "#### Расчет plook с помощью numba.\n",
    "Оставил, чтобы просто был."
   ]
  },
  {
   "cell_type": "code",
   "execution_count": 14,
   "id": "gZtZ4TRunPRr",
   "metadata": {
    "id": "gZtZ4TRunPRr"
   },
   "outputs": [],
   "source": [
    "from numba import jit\n",
    "\n",
    "@jit(nopython=True)\n",
    "def calc_plook(df):\n",
    "    \"\"\"\n",
    "      Принимает на вход plook_multi.to_numpy(). Возвращает посчитанную матрицу plook.\n",
    "    \"\"\"\n",
    "    res = np.empty(len(df))\n",
    "    res[0] = df[0]\n",
    "    for i in range(1, res.shape[0]):\n",
    "        res[i] = res[i-1] * df[i]\n",
    "    return res"
   ]
  },
  {
   "cell_type": "markdown",
   "id": "cywsZcXYnRSj",
   "metadata": {
    "id": "cywsZcXYnRSj"
   },
   "source": [
    "### pFound с pandas"
   ]
  },
  {
   "cell_type": "markdown",
   "id": "OxBVmot1nVea",
   "metadata": {
    "id": "OxBVmot1nVea"
   },
   "source": [
    "#### pfound только с помощью pandas без numba, но с apply"
   ]
  },
  {
   "cell_type": "code",
   "execution_count": 15,
   "id": "Bkmrv47QnjQr",
   "metadata": {
    "id": "Bkmrv47QnjQr"
   },
   "outputs": [],
   "source": [
    "def pfound_pandas_with_apply(group):\n",
    "    max_by_host = group.groupby(\"hostid\")[\"rating\"].max() # максимальный рейтинг хоста\n",
    "    top10 = max_by_host.sort_values(ascending=False)[:10] # берем топ10 урлов с наивысшим рейтингом\n",
    "\n",
    "    # Берем вторые множители вместе с (1-pBreak), сдвигаем вниз на 1 строку, чтоб в соседней строке лежали предыдущие строки, и заполняем первую строку единицей\n",
    "    plook_mult = ((1 - top10.shift(1)) * (1 - 0.15)).fillna(1) # Вторые множители plook\n",
    "    plook = plook_mult.cumprod() # Накопленное произведение - в каждой строчке появляется произведение предыдущих строк\n",
    "\n",
    "    pfound = (top10 * plook).sum()  # Умножаем наши рейтинги на plook и суммируем по формуле\n",
    "\n",
    "    return pfound"
   ]
  },
  {
   "cell_type": "markdown",
   "id": "jMhPQBmpnkiM",
   "metadata": {
    "id": "jMhPQBmpnkiM"
   },
   "source": [
    "#### pFound с pandas без apply\n",
    "Та самая функция из домашки. Возвращает средний pFound"
   ]
  },
  {
   "cell_type": "code",
   "execution_count": 16,
   "id": "u0REmP2hnmVL",
   "metadata": {
    "id": "u0REmP2hnmVL"
   },
   "outputs": [],
   "source": [
    "def pfound_pandas(df, k: int = 10):\n",
    "    \"\"\"\n",
    "      Функция принимает на вход DataFrame с колонками qid, hostid, rating.\n",
    "      Функция возвращает mean pFound среди всех qid.\n",
    "    \"\"\"\n",
    "\n",
    "    max_by_host = df.groupby([\"qid\", \"hostid\"])[\"rating\"].max().reset_index() # максимальный рейтинг хоста в каждом qid\n",
    "    # берем топ 10 урлов с наивысшим рейтингом для каждого qid\n",
    "    top10 = max_by_host.sort_values(['qid', 'rating'], ascending=False).groupby('qid').head(k)\n",
    "\n",
    "    top10['rank_qid'] = top10.groupby('qid').cumcount() # В каждом qid пронумеруем hostid\n",
    "\n",
    "    # Берем вторые множители вместе с (1-pBreak), сдвигаем вниз на 1 строку, чтоб в соседней строке лежали предыдущие строки,\n",
    "    # и заполняем первую строку единицей, на i-х строках i-1-е множители\n",
    "    top10['plook_mult'] = (1 - top10['rating'].shift(1)) * (1 - 0.15)\n",
    "    top10.loc[top10['rank_qid'] == 0, 'plook_mult'] = 1  # На нулевых местах должны быть единицы\n",
    "    top10['plook'] = top10.groupby('qid')['plook_mult'].cumprod()  # Получаем plook на i-х позициях\n",
    "    top10['pfound_item'] = top10['rating'] * top10['plook']  # Получаем слагаемые pfound\n",
    "\n",
    "    mean_pfound = top10.groupby('qid')['pfound_item'].sum().mean()\n",
    "\n",
    "    return mean_pfound"
   ]
  },
  {
   "cell_type": "markdown",
   "id": "kvSu7GOdn4h0",
   "metadata": {
    "id": "kvSu7GOdn4h0"
   },
   "source": [
    "### Сравним *циклический pFound* и *pFound с pandas*"
   ]
  },
  {
   "cell_type": "markdown",
   "id": "C8ap0QgPn6SV",
   "metadata": {
    "id": "C8ap0QgPn6SV"
   },
   "source": [
    "#### Сравним на текущем датасете"
   ]
  },
  {
   "cell_type": "code",
   "execution_count": 23,
   "id": "_HZJmOvCokxK",
   "metadata": {
    "id": "_HZJmOvCokxK"
   },
   "outputs": [],
   "source": [
    "def pandas_apply_pfound(df, func_pfound):\n",
    "    \"\"\"Реализация pFound с apply\"\"\"\n",
    "    pfound_res = df.groupby('qid').apply(func_pfound)\n",
    "    return pfound_res.mean()"
   ]
  },
  {
   "cell_type": "markdown",
   "id": "Tdp8GDI7n80j",
   "metadata": {
    "id": "Tdp8GDI7n80j"
   },
   "source": [
    "Циклический pFound с рекурсиями"
   ]
  },
  {
   "cell_type": "code",
   "execution_count": 29,
   "id": "mIG-asZRn_bk",
   "metadata": {
    "colab": {
     "base_uri": "https://localhost:8080/"
    },
    "id": "mIG-asZRn_bk",
    "outputId": "bb998736-7fc1-4ad1-ba93-2c574bb35858"
   },
   "outputs": [
    {
     "name": "stdout",
     "output_type": "stream",
     "text": [
      "0.027570247650146484\n",
      "mean pFound = 0.5822199638393889\n"
     ]
    }
   ],
   "source": [
    "start_time = time.time()\n",
    "mean_pfound = pandas_apply_pfound(qid_url_rating_hostid, naive_pfound)  # Используем наивный алгоритм\n",
    "print(time.time() - start_time)\n",
    "\n",
    "print('mean pFound =', mean_pfound)"
   ]
  },
  {
   "cell_type": "markdown",
   "id": "XPVGFjEHoLOD",
   "metadata": {
    "id": "XPVGFjEHoLOD"
   },
   "source": [
    "Циклический pFound с динамическим программированием"
   ]
  },
  {
   "cell_type": "code",
   "execution_count": 32,
   "id": "GxMdo4dyoM52",
   "metadata": {
    "colab": {
     "base_uri": "https://localhost:8080/"
    },
    "id": "GxMdo4dyoM52",
    "outputId": "071c656f-9312-4b5e-c43b-98bc4ad36150"
   },
   "outputs": [
    {
     "name": "stdout",
     "output_type": "stream",
     "text": [
      "0.022918224334716797\n",
      "mean pFound = 0.5822199638393889\n"
     ]
    }
   ],
   "source": [
    "start_time = time.time()\n",
    "mean_pfound_dinamic = pandas_apply_pfound(qid_url_rating_hostid, pfound_cicle_speed)  # Используем наивный алгоритм с динамическим прогр\n",
    "print(time.time() - start_time)\n",
    "\n",
    "print('mean pFound =', mean_pfound_dinamic)"
   ]
  },
  {
   "cell_type": "markdown",
   "id": "-KZK2LW2oPPT",
   "metadata": {
    "id": "-KZK2LW2oPPT"
   },
   "source": [
    "pFound с pandas и с apply"
   ]
  },
  {
   "cell_type": "code",
   "execution_count": 33,
   "id": "9Bnaarj2oQ6k",
   "metadata": {
    "colab": {
     "base_uri": "https://localhost:8080/"
    },
    "id": "9Bnaarj2oQ6k",
    "outputId": "845aab58-34e7-4886-9e7f-1803b62a30dc"
   },
   "outputs": [
    {
     "name": "stdout",
     "output_type": "stream",
     "text": [
      "0.0413355827331543\n",
      "mean pFound = 0.5822199638393889\n"
     ]
    }
   ],
   "source": [
    "start_time = time.time()\n",
    "mean_pfound_pandas_apply = pandas_apply_pfound(qid_url_rating_hostid, pfound_pandas_with_apply)  # Используем pandas с apply\n",
    "print(time.time() - start_time)\n",
    "\n",
    "print('mean pFound =', mean_pfound_pandas_apply)"
   ]
  },
  {
   "cell_type": "markdown",
   "id": "aEwnPfRjoSxL",
   "metadata": {
    "id": "aEwnPfRjoSxL"
   },
   "source": [
    "pFound с pandas, но без apply"
   ]
  },
  {
   "cell_type": "code",
   "execution_count": 37,
   "id": "XJyRPXYGpewr",
   "metadata": {
    "colab": {
     "base_uri": "https://localhost:8080/"
    },
    "id": "XJyRPXYGpewr",
    "outputId": "b655a153-c92c-4ecd-f798-bc2ecedad086"
   },
   "outputs": [
    {
     "name": "stdout",
     "output_type": "stream",
     "text": [
      "0.01832413673400879\n",
      "mean pFound = 0.5822199638393889\n"
     ]
    }
   ],
   "source": [
    "start_time = time.time()\n",
    "mean_pfound_pandas = pfound_pandas(qid_url_rating_hostid)  # Вычисляем средний pFound\n",
    "print(time.time() - start_time)\n",
    "\n",
    "print('mean pFound =', mean_pfound_pandas)"
   ]
  },
  {
   "cell_type": "markdown",
   "id": "icPlpdSUp0-J",
   "metadata": {
    "id": "icPlpdSUp0-J"
   },
   "source": [
    "Проверим, есть ли различия в посчитанных метриках"
   ]
  },
  {
   "cell_type": "code",
   "execution_count": 38,
   "id": "huVp7dMhp2eL",
   "metadata": {
    "colab": {
     "base_uri": "https://localhost:8080/",
     "height": 175
    },
    "id": "huVp7dMhp2eL",
    "outputId": "27dfb410-4fca-4e08-d213-cda6dc14cc5c"
   },
   "outputs": [
    {
     "data": {
      "text/html": [
       "\n",
       "  <div id=\"df-c1130c43-e1ae-4eb5-835e-ffff04233193\">\n",
       "    <div class=\"colab-df-container\">\n",
       "      <div>\n",
       "<style scoped>\n",
       "    .dataframe tbody tr th:only-of-type {\n",
       "        vertical-align: middle;\n",
       "    }\n",
       "\n",
       "    .dataframe tbody tr th {\n",
       "        vertical-align: top;\n",
       "    }\n",
       "\n",
       "    .dataframe thead th {\n",
       "        text-align: right;\n",
       "    }\n",
       "</style>\n",
       "<table border=\"1\" class=\"dataframe\">\n",
       "  <thead>\n",
       "    <tr style=\"text-align: right;\">\n",
       "      <th></th>\n",
       "      <th>pFound</th>\n",
       "    </tr>\n",
       "  </thead>\n",
       "  <tbody>\n",
       "    <tr>\n",
       "      <th>original</th>\n",
       "      <td>0.58222</td>\n",
       "    </tr>\n",
       "    <tr>\n",
       "      <th>dinamic</th>\n",
       "      <td>0.58222</td>\n",
       "    </tr>\n",
       "    <tr>\n",
       "      <th>pandas_apply</th>\n",
       "      <td>0.58222</td>\n",
       "    </tr>\n",
       "    <tr>\n",
       "      <th>pandas_no_apply</th>\n",
       "      <td>0.58222</td>\n",
       "    </tr>\n",
       "  </tbody>\n",
       "</table>\n",
       "</div>\n",
       "      <button class=\"colab-df-convert\" onclick=\"convertToInteractive('df-c1130c43-e1ae-4eb5-835e-ffff04233193')\"\n",
       "              title=\"Convert this dataframe to an interactive table.\"\n",
       "              style=\"display:none;\">\n",
       "        \n",
       "  <svg xmlns=\"http://www.w3.org/2000/svg\" height=\"24px\"viewBox=\"0 0 24 24\"\n",
       "       width=\"24px\">\n",
       "    <path d=\"M0 0h24v24H0V0z\" fill=\"none\"/>\n",
       "    <path d=\"M18.56 5.44l.94 2.06.94-2.06 2.06-.94-2.06-.94-.94-2.06-.94 2.06-2.06.94zm-11 1L8.5 8.5l.94-2.06 2.06-.94-2.06-.94L8.5 2.5l-.94 2.06-2.06.94zm10 10l.94 2.06.94-2.06 2.06-.94-2.06-.94-.94-2.06-.94 2.06-2.06.94z\"/><path d=\"M17.41 7.96l-1.37-1.37c-.4-.4-.92-.59-1.43-.59-.52 0-1.04.2-1.43.59L10.3 9.45l-7.72 7.72c-.78.78-.78 2.05 0 2.83L4 21.41c.39.39.9.59 1.41.59.51 0 1.02-.2 1.41-.59l7.78-7.78 2.81-2.81c.8-.78.8-2.07 0-2.86zM5.41 20L4 18.59l7.72-7.72 1.47 1.35L5.41 20z\"/>\n",
       "  </svg>\n",
       "      </button>\n",
       "      \n",
       "  <style>\n",
       "    .colab-df-container {\n",
       "      display:flex;\n",
       "      flex-wrap:wrap;\n",
       "      gap: 12px;\n",
       "    }\n",
       "\n",
       "    .colab-df-convert {\n",
       "      background-color: #E8F0FE;\n",
       "      border: none;\n",
       "      border-radius: 50%;\n",
       "      cursor: pointer;\n",
       "      display: none;\n",
       "      fill: #1967D2;\n",
       "      height: 32px;\n",
       "      padding: 0 0 0 0;\n",
       "      width: 32px;\n",
       "    }\n",
       "\n",
       "    .colab-df-convert:hover {\n",
       "      background-color: #E2EBFA;\n",
       "      box-shadow: 0px 1px 2px rgba(60, 64, 67, 0.3), 0px 1px 3px 1px rgba(60, 64, 67, 0.15);\n",
       "      fill: #174EA6;\n",
       "    }\n",
       "\n",
       "    [theme=dark] .colab-df-convert {\n",
       "      background-color: #3B4455;\n",
       "      fill: #D2E3FC;\n",
       "    }\n",
       "\n",
       "    [theme=dark] .colab-df-convert:hover {\n",
       "      background-color: #434B5C;\n",
       "      box-shadow: 0px 1px 3px 1px rgba(0, 0, 0, 0.15);\n",
       "      filter: drop-shadow(0px 1px 2px rgba(0, 0, 0, 0.3));\n",
       "      fill: #FFFFFF;\n",
       "    }\n",
       "  </style>\n",
       "\n",
       "      <script>\n",
       "        const buttonEl =\n",
       "          document.querySelector('#df-c1130c43-e1ae-4eb5-835e-ffff04233193 button.colab-df-convert');\n",
       "        buttonEl.style.display =\n",
       "          google.colab.kernel.accessAllowed ? 'block' : 'none';\n",
       "\n",
       "        async function convertToInteractive(key) {\n",
       "          const element = document.querySelector('#df-c1130c43-e1ae-4eb5-835e-ffff04233193');\n",
       "          const dataTable =\n",
       "            await google.colab.kernel.invokeFunction('convertToInteractive',\n",
       "                                                     [key], {});\n",
       "          if (!dataTable) return;\n",
       "\n",
       "          const docLinkHtml = 'Like what you see? Visit the ' +\n",
       "            '<a target=\"_blank\" href=https://colab.research.google.com/notebooks/data_table.ipynb>data table notebook</a>'\n",
       "            + ' to learn more about interactive tables.';\n",
       "          element.innerHTML = '';\n",
       "          dataTable['output_type'] = 'display_data';\n",
       "          await google.colab.output.renderOutput(dataTable, element);\n",
       "          const docLink = document.createElement('div');\n",
       "          docLink.innerHTML = docLinkHtml;\n",
       "          element.appendChild(docLink);\n",
       "        }\n",
       "      </script>\n",
       "    </div>\n",
       "  </div>\n",
       "  "
      ],
      "text/plain": [
       "                  pFound\n",
       "original         0.58222\n",
       "dinamic          0.58222\n",
       "pandas_apply     0.58222\n",
       "pandas_no_apply  0.58222"
      ]
     },
     "execution_count": 38,
     "metadata": {},
     "output_type": "execute_result"
    }
   ],
   "source": [
    "diff_index = ['original', 'dinamic', 'pandas_apply', 'pandas_no_apply']\n",
    "diff_values = [mean_pfound, mean_pfound_dinamic, mean_pfound_pandas_apply, mean_pfound_pandas]\n",
    "diff = pd.DataFrame(diff_values, index=diff_index, columns=['pFound'])\n",
    "\n",
    "diff"
   ]
  },
  {
   "cell_type": "markdown",
   "id": "5X30JXxwp6Mm",
   "metadata": {
    "id": "5X30JXxwp6Mm"
   },
   "source": [
    "#### Сравним на увеличенном датасете\n",
    "Датасет из 800к строк"
   ]
  },
  {
   "cell_type": "markdown",
   "id": "lycr9_9vp79j",
   "metadata": {
    "id": "lycr9_9vp79j"
   },
   "source": [
    "##### Сделаем увеличенный датасет"
   ]
  },
  {
   "cell_type": "code",
   "execution_count": 39,
   "id": "1Jvjy7wxp-DT",
   "metadata": {
    "colab": {
     "base_uri": "https://localhost:8080/",
     "height": 424
    },
    "id": "1Jvjy7wxp-DT",
    "outputId": "4a159256-f664-4c18-c2a6-31902911eee7"
   },
   "outputs": [
    {
     "data": {
      "text/html": [
       "\n",
       "  <div id=\"df-9953b167-ea28-425e-8c20-a7eae3bceb9e\">\n",
       "    <div class=\"colab-df-container\">\n",
       "      <div>\n",
       "<style scoped>\n",
       "    .dataframe tbody tr th:only-of-type {\n",
       "        vertical-align: middle;\n",
       "    }\n",
       "\n",
       "    .dataframe tbody tr th {\n",
       "        vertical-align: top;\n",
       "    }\n",
       "\n",
       "    .dataframe thead th {\n",
       "        text-align: right;\n",
       "    }\n",
       "</style>\n",
       "<table border=\"1\" class=\"dataframe\">\n",
       "  <thead>\n",
       "    <tr style=\"text-align: right;\">\n",
       "      <th></th>\n",
       "      <th>qid</th>\n",
       "      <th>url</th>\n",
       "      <th>rating</th>\n",
       "      <th>hostid</th>\n",
       "    </tr>\n",
       "  </thead>\n",
       "  <tbody>\n",
       "    <tr>\n",
       "      <th>0</th>\n",
       "      <td>402111</td>\n",
       "      <td>http://24-job.com/board/job_australia/232-1-2-...</td>\n",
       "      <td>0.07</td>\n",
       "      <td>7</td>\n",
       "    </tr>\n",
       "    <tr>\n",
       "      <th>1</th>\n",
       "      <td>402111</td>\n",
       "      <td>http://24-job.com/board/job_australia/232-1-2-...</td>\n",
       "      <td>0.07</td>\n",
       "      <td>7</td>\n",
       "    </tr>\n",
       "    <tr>\n",
       "      <th>2</th>\n",
       "      <td>402111</td>\n",
       "      <td>http://802351.info/5964-v-avstralii.html</td>\n",
       "      <td>0.00</td>\n",
       "      <td>13</td>\n",
       "    </tr>\n",
       "    <tr>\n",
       "      <th>3</th>\n",
       "      <td>402111</td>\n",
       "      <td>http://auscommunity.com/blog/jobs/</td>\n",
       "      <td>0.00</td>\n",
       "      <td>53</td>\n",
       "    </tr>\n",
       "    <tr>\n",
       "      <th>4</th>\n",
       "      <td>402111</td>\n",
       "      <td>http://auscommunity.com/tag/%D1%84%D0%BE%D1%82...</td>\n",
       "      <td>0.00</td>\n",
       "      <td>53</td>\n",
       "    </tr>\n",
       "    <tr>\n",
       "      <th>...</th>\n",
       "      <td>...</td>\n",
       "      <td>...</td>\n",
       "      <td>...</td>\n",
       "      <td>...</td>\n",
       "    </tr>\n",
       "    <tr>\n",
       "      <th>798</th>\n",
       "      <td>99543</td>\n",
       "      <td>http://www.youtube.com/watch?v=QDcomRWogFE</td>\n",
       "      <td>0.14</td>\n",
       "      <td>1155</td>\n",
       "    </tr>\n",
       "    <tr>\n",
       "      <th>799</th>\n",
       "      <td>99543</td>\n",
       "      <td>http://www.youtube.com/watch?v=Y3n47xZb0b4</td>\n",
       "      <td>0.14</td>\n",
       "      <td>1155</td>\n",
       "    </tr>\n",
       "    <tr>\n",
       "      <th>800</th>\n",
       "      <td>99543</td>\n",
       "      <td>http://www.yuga.ru/articles/culture?id=3378</td>\n",
       "      <td>0.00</td>\n",
       "      <td>1156</td>\n",
       "    </tr>\n",
       "    <tr>\n",
       "      <th>801</th>\n",
       "      <td>99543</td>\n",
       "      <td>http://www.zexe.de/modules.php?name=Pages&amp;pa=s...</td>\n",
       "      <td>0.14</td>\n",
       "      <td>1160</td>\n",
       "    </tr>\n",
       "    <tr>\n",
       "      <th>802</th>\n",
       "      <td>99543</td>\n",
       "      <td>http://zapil77.by.ru/kubok-kvn-g-dubna.html</td>\n",
       "      <td>0.00</td>\n",
       "      <td>1182</td>\n",
       "    </tr>\n",
       "  </tbody>\n",
       "</table>\n",
       "<p>803 rows × 4 columns</p>\n",
       "</div>\n",
       "      <button class=\"colab-df-convert\" onclick=\"convertToInteractive('df-9953b167-ea28-425e-8c20-a7eae3bceb9e')\"\n",
       "              title=\"Convert this dataframe to an interactive table.\"\n",
       "              style=\"display:none;\">\n",
       "        \n",
       "  <svg xmlns=\"http://www.w3.org/2000/svg\" height=\"24px\"viewBox=\"0 0 24 24\"\n",
       "       width=\"24px\">\n",
       "    <path d=\"M0 0h24v24H0V0z\" fill=\"none\"/>\n",
       "    <path d=\"M18.56 5.44l.94 2.06.94-2.06 2.06-.94-2.06-.94-.94-2.06-.94 2.06-2.06.94zm-11 1L8.5 8.5l.94-2.06 2.06-.94-2.06-.94L8.5 2.5l-.94 2.06-2.06.94zm10 10l.94 2.06.94-2.06 2.06-.94-2.06-.94-.94-2.06-.94 2.06-2.06.94z\"/><path d=\"M17.41 7.96l-1.37-1.37c-.4-.4-.92-.59-1.43-.59-.52 0-1.04.2-1.43.59L10.3 9.45l-7.72 7.72c-.78.78-.78 2.05 0 2.83L4 21.41c.39.39.9.59 1.41.59.51 0 1.02-.2 1.41-.59l7.78-7.78 2.81-2.81c.8-.78.8-2.07 0-2.86zM5.41 20L4 18.59l7.72-7.72 1.47 1.35L5.41 20z\"/>\n",
       "  </svg>\n",
       "      </button>\n",
       "      \n",
       "  <style>\n",
       "    .colab-df-container {\n",
       "      display:flex;\n",
       "      flex-wrap:wrap;\n",
       "      gap: 12px;\n",
       "    }\n",
       "\n",
       "    .colab-df-convert {\n",
       "      background-color: #E8F0FE;\n",
       "      border: none;\n",
       "      border-radius: 50%;\n",
       "      cursor: pointer;\n",
       "      display: none;\n",
       "      fill: #1967D2;\n",
       "      height: 32px;\n",
       "      padding: 0 0 0 0;\n",
       "      width: 32px;\n",
       "    }\n",
       "\n",
       "    .colab-df-convert:hover {\n",
       "      background-color: #E2EBFA;\n",
       "      box-shadow: 0px 1px 2px rgba(60, 64, 67, 0.3), 0px 1px 3px 1px rgba(60, 64, 67, 0.15);\n",
       "      fill: #174EA6;\n",
       "    }\n",
       "\n",
       "    [theme=dark] .colab-df-convert {\n",
       "      background-color: #3B4455;\n",
       "      fill: #D2E3FC;\n",
       "    }\n",
       "\n",
       "    [theme=dark] .colab-df-convert:hover {\n",
       "      background-color: #434B5C;\n",
       "      box-shadow: 0px 1px 3px 1px rgba(0, 0, 0, 0.15);\n",
       "      filter: drop-shadow(0px 1px 2px rgba(0, 0, 0, 0.3));\n",
       "      fill: #FFFFFF;\n",
       "    }\n",
       "  </style>\n",
       "\n",
       "      <script>\n",
       "        const buttonEl =\n",
       "          document.querySelector('#df-9953b167-ea28-425e-8c20-a7eae3bceb9e button.colab-df-convert');\n",
       "        buttonEl.style.display =\n",
       "          google.colab.kernel.accessAllowed ? 'block' : 'none';\n",
       "\n",
       "        async function convertToInteractive(key) {\n",
       "          const element = document.querySelector('#df-9953b167-ea28-425e-8c20-a7eae3bceb9e');\n",
       "          const dataTable =\n",
       "            await google.colab.kernel.invokeFunction('convertToInteractive',\n",
       "                                                     [key], {});\n",
       "          if (!dataTable) return;\n",
       "\n",
       "          const docLinkHtml = 'Like what you see? Visit the ' +\n",
       "            '<a target=\"_blank\" href=https://colab.research.google.com/notebooks/data_table.ipynb>data table notebook</a>'\n",
       "            + ' to learn more about interactive tables.';\n",
       "          element.innerHTML = '';\n",
       "          dataTable['output_type'] = 'display_data';\n",
       "          await google.colab.output.renderOutput(dataTable, element);\n",
       "          const docLink = document.createElement('div');\n",
       "          docLink.innerHTML = docLinkHtml;\n",
       "          element.appendChild(docLink);\n",
       "        }\n",
       "      </script>\n",
       "    </div>\n",
       "  </div>\n",
       "  "
      ],
      "text/plain": [
       "        qid                                                url  rating  hostid\n",
       "0    402111  http://24-job.com/board/job_australia/232-1-2-...    0.07       7\n",
       "1    402111  http://24-job.com/board/job_australia/232-1-2-...    0.07       7\n",
       "2    402111           http://802351.info/5964-v-avstralii.html    0.00      13\n",
       "3    402111                 http://auscommunity.com/blog/jobs/    0.00      53\n",
       "4    402111  http://auscommunity.com/tag/%D1%84%D0%BE%D1%82...    0.00      53\n",
       "..      ...                                                ...     ...     ...\n",
       "798   99543         http://www.youtube.com/watch?v=QDcomRWogFE    0.14    1155\n",
       "799   99543         http://www.youtube.com/watch?v=Y3n47xZb0b4    0.14    1155\n",
       "800   99543        http://www.yuga.ru/articles/culture?id=3378    0.00    1156\n",
       "801   99543  http://www.zexe.de/modules.php?name=Pages&pa=s...    0.14    1160\n",
       "802   99543        http://zapil77.by.ru/kubok-kvn-g-dubna.html    0.00    1182\n",
       "\n",
       "[803 rows x 4 columns]"
      ]
     },
     "execution_count": 39,
     "metadata": {},
     "output_type": "execute_result"
    }
   ],
   "source": [
    "qid_url_rating_hostid_big = qid_url_rating_hostid\n",
    "temp_df = qid_url_rating_hostid\n",
    "qid_url_rating_hostid_big"
   ]
  },
  {
   "cell_type": "code",
   "execution_count": 40,
   "id": "DCPwJn6_p_17",
   "metadata": {
    "id": "DCPwJn6_p_17"
   },
   "outputs": [],
   "source": [
    "# Увеличим датасет примерно в 1000 раз, прибавив к каждому qid единицу\n",
    "for _ in range(1000):\n",
    "    temp_df['qid'] = temp_df['qid'] + 1\n",
    "    qid_url_rating_hostid_big = pd.concat((qid_url_rating_hostid_big, temp_df))\n",
    "temp_df = None # освобождаем переменную"
   ]
  },
  {
   "cell_type": "code",
   "execution_count": 41,
   "id": "FsVWIBQIqOlT",
   "metadata": {
    "colab": {
     "base_uri": "https://localhost:8080/",
     "height": 424
    },
    "id": "FsVWIBQIqOlT",
    "outputId": "e38e64c9-8753-411b-97a8-b614d6d01daa"
   },
   "outputs": [
    {
     "data": {
      "text/html": [
       "\n",
       "  <div id=\"df-6be52150-bb10-4ef8-9e18-6b10db9d2026\">\n",
       "    <div class=\"colab-df-container\">\n",
       "      <div>\n",
       "<style scoped>\n",
       "    .dataframe tbody tr th:only-of-type {\n",
       "        vertical-align: middle;\n",
       "    }\n",
       "\n",
       "    .dataframe tbody tr th {\n",
       "        vertical-align: top;\n",
       "    }\n",
       "\n",
       "    .dataframe thead th {\n",
       "        text-align: right;\n",
       "    }\n",
       "</style>\n",
       "<table border=\"1\" class=\"dataframe\">\n",
       "  <thead>\n",
       "    <tr style=\"text-align: right;\">\n",
       "      <th></th>\n",
       "      <th>qid</th>\n",
       "      <th>url</th>\n",
       "      <th>rating</th>\n",
       "      <th>hostid</th>\n",
       "    </tr>\n",
       "  </thead>\n",
       "  <tbody>\n",
       "    <tr>\n",
       "      <th>0</th>\n",
       "      <td>402112</td>\n",
       "      <td>http://24-job.com/board/job_australia/232-1-2-...</td>\n",
       "      <td>0.07</td>\n",
       "      <td>7</td>\n",
       "    </tr>\n",
       "    <tr>\n",
       "      <th>1</th>\n",
       "      <td>402112</td>\n",
       "      <td>http://24-job.com/board/job_australia/232-1-2-...</td>\n",
       "      <td>0.07</td>\n",
       "      <td>7</td>\n",
       "    </tr>\n",
       "    <tr>\n",
       "      <th>2</th>\n",
       "      <td>402112</td>\n",
       "      <td>http://802351.info/5964-v-avstralii.html</td>\n",
       "      <td>0.00</td>\n",
       "      <td>13</td>\n",
       "    </tr>\n",
       "    <tr>\n",
       "      <th>3</th>\n",
       "      <td>402112</td>\n",
       "      <td>http://auscommunity.com/blog/jobs/</td>\n",
       "      <td>0.00</td>\n",
       "      <td>53</td>\n",
       "    </tr>\n",
       "    <tr>\n",
       "      <th>4</th>\n",
       "      <td>402112</td>\n",
       "      <td>http://auscommunity.com/tag/%D1%84%D0%BE%D1%82...</td>\n",
       "      <td>0.00</td>\n",
       "      <td>53</td>\n",
       "    </tr>\n",
       "    <tr>\n",
       "      <th>...</th>\n",
       "      <td>...</td>\n",
       "      <td>...</td>\n",
       "      <td>...</td>\n",
       "      <td>...</td>\n",
       "    </tr>\n",
       "    <tr>\n",
       "      <th>798</th>\n",
       "      <td>100543</td>\n",
       "      <td>http://www.youtube.com/watch?v=QDcomRWogFE</td>\n",
       "      <td>0.14</td>\n",
       "      <td>1155</td>\n",
       "    </tr>\n",
       "    <tr>\n",
       "      <th>799</th>\n",
       "      <td>100543</td>\n",
       "      <td>http://www.youtube.com/watch?v=Y3n47xZb0b4</td>\n",
       "      <td>0.14</td>\n",
       "      <td>1155</td>\n",
       "    </tr>\n",
       "    <tr>\n",
       "      <th>800</th>\n",
       "      <td>100543</td>\n",
       "      <td>http://www.yuga.ru/articles/culture?id=3378</td>\n",
       "      <td>0.00</td>\n",
       "      <td>1156</td>\n",
       "    </tr>\n",
       "    <tr>\n",
       "      <th>801</th>\n",
       "      <td>100543</td>\n",
       "      <td>http://www.zexe.de/modules.php?name=Pages&amp;pa=s...</td>\n",
       "      <td>0.14</td>\n",
       "      <td>1160</td>\n",
       "    </tr>\n",
       "    <tr>\n",
       "      <th>802</th>\n",
       "      <td>100543</td>\n",
       "      <td>http://zapil77.by.ru/kubok-kvn-g-dubna.html</td>\n",
       "      <td>0.00</td>\n",
       "      <td>1182</td>\n",
       "    </tr>\n",
       "  </tbody>\n",
       "</table>\n",
       "<p>803803 rows × 4 columns</p>\n",
       "</div>\n",
       "      <button class=\"colab-df-convert\" onclick=\"convertToInteractive('df-6be52150-bb10-4ef8-9e18-6b10db9d2026')\"\n",
       "              title=\"Convert this dataframe to an interactive table.\"\n",
       "              style=\"display:none;\">\n",
       "        \n",
       "  <svg xmlns=\"http://www.w3.org/2000/svg\" height=\"24px\"viewBox=\"0 0 24 24\"\n",
       "       width=\"24px\">\n",
       "    <path d=\"M0 0h24v24H0V0z\" fill=\"none\"/>\n",
       "    <path d=\"M18.56 5.44l.94 2.06.94-2.06 2.06-.94-2.06-.94-.94-2.06-.94 2.06-2.06.94zm-11 1L8.5 8.5l.94-2.06 2.06-.94-2.06-.94L8.5 2.5l-.94 2.06-2.06.94zm10 10l.94 2.06.94-2.06 2.06-.94-2.06-.94-.94-2.06-.94 2.06-2.06.94z\"/><path d=\"M17.41 7.96l-1.37-1.37c-.4-.4-.92-.59-1.43-.59-.52 0-1.04.2-1.43.59L10.3 9.45l-7.72 7.72c-.78.78-.78 2.05 0 2.83L4 21.41c.39.39.9.59 1.41.59.51 0 1.02-.2 1.41-.59l7.78-7.78 2.81-2.81c.8-.78.8-2.07 0-2.86zM5.41 20L4 18.59l7.72-7.72 1.47 1.35L5.41 20z\"/>\n",
       "  </svg>\n",
       "      </button>\n",
       "      \n",
       "  <style>\n",
       "    .colab-df-container {\n",
       "      display:flex;\n",
       "      flex-wrap:wrap;\n",
       "      gap: 12px;\n",
       "    }\n",
       "\n",
       "    .colab-df-convert {\n",
       "      background-color: #E8F0FE;\n",
       "      border: none;\n",
       "      border-radius: 50%;\n",
       "      cursor: pointer;\n",
       "      display: none;\n",
       "      fill: #1967D2;\n",
       "      height: 32px;\n",
       "      padding: 0 0 0 0;\n",
       "      width: 32px;\n",
       "    }\n",
       "\n",
       "    .colab-df-convert:hover {\n",
       "      background-color: #E2EBFA;\n",
       "      box-shadow: 0px 1px 2px rgba(60, 64, 67, 0.3), 0px 1px 3px 1px rgba(60, 64, 67, 0.15);\n",
       "      fill: #174EA6;\n",
       "    }\n",
       "\n",
       "    [theme=dark] .colab-df-convert {\n",
       "      background-color: #3B4455;\n",
       "      fill: #D2E3FC;\n",
       "    }\n",
       "\n",
       "    [theme=dark] .colab-df-convert:hover {\n",
       "      background-color: #434B5C;\n",
       "      box-shadow: 0px 1px 3px 1px rgba(0, 0, 0, 0.15);\n",
       "      filter: drop-shadow(0px 1px 2px rgba(0, 0, 0, 0.3));\n",
       "      fill: #FFFFFF;\n",
       "    }\n",
       "  </style>\n",
       "\n",
       "      <script>\n",
       "        const buttonEl =\n",
       "          document.querySelector('#df-6be52150-bb10-4ef8-9e18-6b10db9d2026 button.colab-df-convert');\n",
       "        buttonEl.style.display =\n",
       "          google.colab.kernel.accessAllowed ? 'block' : 'none';\n",
       "\n",
       "        async function convertToInteractive(key) {\n",
       "          const element = document.querySelector('#df-6be52150-bb10-4ef8-9e18-6b10db9d2026');\n",
       "          const dataTable =\n",
       "            await google.colab.kernel.invokeFunction('convertToInteractive',\n",
       "                                                     [key], {});\n",
       "          if (!dataTable) return;\n",
       "\n",
       "          const docLinkHtml = 'Like what you see? Visit the ' +\n",
       "            '<a target=\"_blank\" href=https://colab.research.google.com/notebooks/data_table.ipynb>data table notebook</a>'\n",
       "            + ' to learn more about interactive tables.';\n",
       "          element.innerHTML = '';\n",
       "          dataTable['output_type'] = 'display_data';\n",
       "          await google.colab.output.renderOutput(dataTable, element);\n",
       "          const docLink = document.createElement('div');\n",
       "          docLink.innerHTML = docLinkHtml;\n",
       "          element.appendChild(docLink);\n",
       "        }\n",
       "      </script>\n",
       "    </div>\n",
       "  </div>\n",
       "  "
      ],
      "text/plain": [
       "        qid                                                url  rating  hostid\n",
       "0    402112  http://24-job.com/board/job_australia/232-1-2-...    0.07       7\n",
       "1    402112  http://24-job.com/board/job_australia/232-1-2-...    0.07       7\n",
       "2    402112           http://802351.info/5964-v-avstralii.html    0.00      13\n",
       "3    402112                 http://auscommunity.com/blog/jobs/    0.00      53\n",
       "4    402112  http://auscommunity.com/tag/%D1%84%D0%BE%D1%82...    0.00      53\n",
       "..      ...                                                ...     ...     ...\n",
       "798  100543         http://www.youtube.com/watch?v=QDcomRWogFE    0.14    1155\n",
       "799  100543         http://www.youtube.com/watch?v=Y3n47xZb0b4    0.14    1155\n",
       "800  100543        http://www.yuga.ru/articles/culture?id=3378    0.00    1156\n",
       "801  100543  http://www.zexe.de/modules.php?name=Pages&pa=s...    0.14    1160\n",
       "802  100543        http://zapil77.by.ru/kubok-kvn-g-dubna.html    0.00    1182\n",
       "\n",
       "[803803 rows x 4 columns]"
      ]
     },
     "execution_count": 41,
     "metadata": {},
     "output_type": "execute_result"
    }
   ],
   "source": [
    "qid_url_rating_hostid_big"
   ]
  },
  {
   "cell_type": "markdown",
   "id": "vvqp-lnXqaTm",
   "metadata": {
    "id": "vvqp-lnXqaTm"
   },
   "source": [
    "##### Сравним pFound"
   ]
  },
  {
   "cell_type": "code",
   "execution_count": 42,
   "id": "ONWKhJn8qfgT",
   "metadata": {
    "id": "ONWKhJn8qfgT"
   },
   "outputs": [],
   "source": [
    "diff_pfound = pd.DataFrame()"
   ]
  },
  {
   "cell_type": "markdown",
   "id": "vivawoSaqjcV",
   "metadata": {
    "id": "vivawoSaqjcV"
   },
   "source": [
    "Циклический pFound с рекурсиями"
   ]
  },
  {
   "cell_type": "code",
   "execution_count": 45,
   "id": "TcEC43EDqlFD",
   "metadata": {
    "colab": {
     "base_uri": "https://localhost:8080/"
    },
    "id": "TcEC43EDqlFD",
    "outputId": "8a3e5003-a645-4324-9349-61b64cc8d191"
   },
   "outputs": [
    {
     "name": "stdout",
     "output_type": "stream",
     "text": [
      "16.929142713546753\n"
     ]
    }
   ],
   "source": [
    "start_time = time.time()\n",
    "mean_pfound_big = pandas_apply_pfound(qid_url_rating_hostid_big, naive_pfound)  # Используем наивный алгоритм\n",
    "diff_times = time.time() - start_time\n",
    "print(diff_times)\n",
    "\n",
    "diff_pfound.loc['pfound_original', 'time'] = diff_times"
   ]
  },
  {
   "cell_type": "markdown",
   "id": "6xBJsGiJq0dL",
   "metadata": {
    "id": "6xBJsGiJq0dL"
   },
   "source": [
    "Циклический pFound с динамическим программированием"
   ]
  },
  {
   "cell_type": "code",
   "execution_count": 46,
   "id": "ON69yHQpq5G7",
   "metadata": {
    "colab": {
     "base_uri": "https://localhost:8080/"
    },
    "id": "ON69yHQpq5G7",
    "outputId": "a63953ea-4042-4372-c1b6-59a187139f83"
   },
   "outputs": [
    {
     "name": "stdout",
     "output_type": "stream",
     "text": [
      "15.62254786491394\n"
     ]
    }
   ],
   "source": [
    "start_time = time.time()\n",
    "mean_pfound_dinamic_big = pandas_apply_pfound(qid_url_rating_hostid_big, pfound_cicle_speed)  # Используем наивный алгоритм с динамическим прогр\n",
    "diff_times = time.time() - start_time\n",
    "print(diff_times)\n",
    "\n",
    "diff_pfound.loc['pfound_dinamic', 'time'] = diff_times"
   ]
  },
  {
   "cell_type": "markdown",
   "id": "xN_Ba8cVrJNj",
   "metadata": {
    "id": "xN_Ba8cVrJNj"
   },
   "source": [
    "pFound с pandas и с apply"
   ]
  },
  {
   "cell_type": "code",
   "execution_count": 47,
   "id": "tXhfsgi8rKpT",
   "metadata": {
    "colab": {
     "base_uri": "https://localhost:8080/"
    },
    "id": "tXhfsgi8rKpT",
    "outputId": "70a1bd09-0d2a-4397-edc2-bd8ab0c72921"
   },
   "outputs": [
    {
     "name": "stdout",
     "output_type": "stream",
     "text": [
      "32.24057197570801\n"
     ]
    }
   ],
   "source": [
    "start_time = time.time()\n",
    "mean_pfound_pandas_apply_big = pandas_apply_pfound(qid_url_rating_hostid_big, pfound_pandas_with_apply)  # Используем pandas с apply\n",
    "diff_times = time.time() - start_time\n",
    "print(diff_times)\n",
    "\n",
    "diff_pfound.loc['pfound_pandas_apply', 'time'] = diff_times"
   ]
  },
  {
   "cell_type": "markdown",
   "id": "kKPLrYFkrWok",
   "metadata": {
    "id": "kKPLrYFkrWok"
   },
   "source": [
    "pFound с pandas, но без apply"
   ]
  },
  {
   "cell_type": "code",
   "execution_count": 53,
   "id": "m8wjoq8FrYX8",
   "metadata": {
    "colab": {
     "base_uri": "https://localhost:8080/"
    },
    "id": "m8wjoq8FrYX8",
    "outputId": "1c9d8a40-69a6-455c-a77e-493288d9f87c"
   },
   "outputs": [
    {
     "name": "stdout",
     "output_type": "stream",
     "text": [
      "0.0169525146484375\n"
     ]
    }
   ],
   "source": [
    "start_time = time.time()\n",
    "mean_pfound_pandas_big = pfound_pandas(qid_url_rating_hostid)  # Вычисляем средний pFound\n",
    "diff_times = time.time() - start_time\n",
    "print(diff_times)\n",
    "\n",
    "diff_pfound.loc['pfound_pandas_no_apply', 'time'] = diff_times"
   ]
  },
  {
   "cell_type": "markdown",
   "id": "ynZHl9XErhrF",
   "metadata": {
    "id": "ynZHl9XErhrF"
   },
   "source": [
    "#### Результаты сравнения\n",
    "Сравнили четыре варианта функций подсчета метрик pFound на данных в 800к строк.<br>\n",
    "Как и ожидалось, самым быстрым оказался **pFound с pandas и без apply**. Результаты сравнения ниже"
   ]
  },
  {
   "cell_type": "code",
   "execution_count": 54,
   "id": "T7fj1zulrjsj",
   "metadata": {
    "colab": {
     "base_uri": "https://localhost:8080/",
     "height": 175
    },
    "id": "T7fj1zulrjsj",
    "outputId": "def81439-9f86-4387-f58d-2b4616f18b7e"
   },
   "outputs": [
    {
     "data": {
      "text/html": [
       "\n",
       "  <div id=\"df-b1ac1e47-0aab-4def-81f2-dc1dfe40b8fc\">\n",
       "    <div class=\"colab-df-container\">\n",
       "      <div>\n",
       "<style scoped>\n",
       "    .dataframe tbody tr th:only-of-type {\n",
       "        vertical-align: middle;\n",
       "    }\n",
       "\n",
       "    .dataframe tbody tr th {\n",
       "        vertical-align: top;\n",
       "    }\n",
       "\n",
       "    .dataframe thead th {\n",
       "        text-align: right;\n",
       "    }\n",
       "</style>\n",
       "<table border=\"1\" class=\"dataframe\">\n",
       "  <thead>\n",
       "    <tr style=\"text-align: right;\">\n",
       "      <th></th>\n",
       "      <th>time</th>\n",
       "    </tr>\n",
       "  </thead>\n",
       "  <tbody>\n",
       "    <tr>\n",
       "      <th>pfound_original</th>\n",
       "      <td>16.929143</td>\n",
       "    </tr>\n",
       "    <tr>\n",
       "      <th>pfound_dinamic</th>\n",
       "      <td>15.622548</td>\n",
       "    </tr>\n",
       "    <tr>\n",
       "      <th>pfound_pandas_apply</th>\n",
       "      <td>32.240572</td>\n",
       "    </tr>\n",
       "    <tr>\n",
       "      <th>pfound_pandas_no_apply</th>\n",
       "      <td>0.016953</td>\n",
       "    </tr>\n",
       "  </tbody>\n",
       "</table>\n",
       "</div>\n",
       "      <button class=\"colab-df-convert\" onclick=\"convertToInteractive('df-b1ac1e47-0aab-4def-81f2-dc1dfe40b8fc')\"\n",
       "              title=\"Convert this dataframe to an interactive table.\"\n",
       "              style=\"display:none;\">\n",
       "        \n",
       "  <svg xmlns=\"http://www.w3.org/2000/svg\" height=\"24px\"viewBox=\"0 0 24 24\"\n",
       "       width=\"24px\">\n",
       "    <path d=\"M0 0h24v24H0V0z\" fill=\"none\"/>\n",
       "    <path d=\"M18.56 5.44l.94 2.06.94-2.06 2.06-.94-2.06-.94-.94-2.06-.94 2.06-2.06.94zm-11 1L8.5 8.5l.94-2.06 2.06-.94-2.06-.94L8.5 2.5l-.94 2.06-2.06.94zm10 10l.94 2.06.94-2.06 2.06-.94-2.06-.94-.94-2.06-.94 2.06-2.06.94z\"/><path d=\"M17.41 7.96l-1.37-1.37c-.4-.4-.92-.59-1.43-.59-.52 0-1.04.2-1.43.59L10.3 9.45l-7.72 7.72c-.78.78-.78 2.05 0 2.83L4 21.41c.39.39.9.59 1.41.59.51 0 1.02-.2 1.41-.59l7.78-7.78 2.81-2.81c.8-.78.8-2.07 0-2.86zM5.41 20L4 18.59l7.72-7.72 1.47 1.35L5.41 20z\"/>\n",
       "  </svg>\n",
       "      </button>\n",
       "      \n",
       "  <style>\n",
       "    .colab-df-container {\n",
       "      display:flex;\n",
       "      flex-wrap:wrap;\n",
       "      gap: 12px;\n",
       "    }\n",
       "\n",
       "    .colab-df-convert {\n",
       "      background-color: #E8F0FE;\n",
       "      border: none;\n",
       "      border-radius: 50%;\n",
       "      cursor: pointer;\n",
       "      display: none;\n",
       "      fill: #1967D2;\n",
       "      height: 32px;\n",
       "      padding: 0 0 0 0;\n",
       "      width: 32px;\n",
       "    }\n",
       "\n",
       "    .colab-df-convert:hover {\n",
       "      background-color: #E2EBFA;\n",
       "      box-shadow: 0px 1px 2px rgba(60, 64, 67, 0.3), 0px 1px 3px 1px rgba(60, 64, 67, 0.15);\n",
       "      fill: #174EA6;\n",
       "    }\n",
       "\n",
       "    [theme=dark] .colab-df-convert {\n",
       "      background-color: #3B4455;\n",
       "      fill: #D2E3FC;\n",
       "    }\n",
       "\n",
       "    [theme=dark] .colab-df-convert:hover {\n",
       "      background-color: #434B5C;\n",
       "      box-shadow: 0px 1px 3px 1px rgba(0, 0, 0, 0.15);\n",
       "      filter: drop-shadow(0px 1px 2px rgba(0, 0, 0, 0.3));\n",
       "      fill: #FFFFFF;\n",
       "    }\n",
       "  </style>\n",
       "\n",
       "      <script>\n",
       "        const buttonEl =\n",
       "          document.querySelector('#df-b1ac1e47-0aab-4def-81f2-dc1dfe40b8fc button.colab-df-convert');\n",
       "        buttonEl.style.display =\n",
       "          google.colab.kernel.accessAllowed ? 'block' : 'none';\n",
       "\n",
       "        async function convertToInteractive(key) {\n",
       "          const element = document.querySelector('#df-b1ac1e47-0aab-4def-81f2-dc1dfe40b8fc');\n",
       "          const dataTable =\n",
       "            await google.colab.kernel.invokeFunction('convertToInteractive',\n",
       "                                                     [key], {});\n",
       "          if (!dataTable) return;\n",
       "\n",
       "          const docLinkHtml = 'Like what you see? Visit the ' +\n",
       "            '<a target=\"_blank\" href=https://colab.research.google.com/notebooks/data_table.ipynb>data table notebook</a>'\n",
       "            + ' to learn more about interactive tables.';\n",
       "          element.innerHTML = '';\n",
       "          dataTable['output_type'] = 'display_data';\n",
       "          await google.colab.output.renderOutput(dataTable, element);\n",
       "          const docLink = document.createElement('div');\n",
       "          docLink.innerHTML = docLinkHtml;\n",
       "          element.appendChild(docLink);\n",
       "        }\n",
       "      </script>\n",
       "    </div>\n",
       "  </div>\n",
       "  "
      ],
      "text/plain": [
       "                             time\n",
       "pfound_original         16.929143\n",
       "pfound_dinamic          15.622548\n",
       "pfound_pandas_apply     32.240572\n",
       "pfound_pandas_no_apply   0.016953"
      ]
     },
     "execution_count": 54,
     "metadata": {},
     "output_type": "execute_result"
    }
   ],
   "source": [
    "diff_pfound\n"
   ]
  }
 ],
 "metadata": {
  "colab": {
   "provenance": [],
   "toc_visible": true
  },
  "kernelspec": {
   "display_name": "Python 3 (ipykernel)",
   "language": "python",
   "name": "python3"
  },
  "language_info": {
   "codemirror_mode": {
    "name": "ipython",
    "version": 3
   },
   "file_extension": ".py",
   "mimetype": "text/x-python",
   "name": "python",
   "nbconvert_exporter": "python",
   "pygments_lexer": "ipython3",
   "version": "3.8.10"
  }
 },
 "nbformat": 4,
 "nbformat_minor": 5
}
