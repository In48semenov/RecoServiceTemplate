{
 "cells": [
  {
   "cell_type": "code",
   "execution_count": 1,
   "id": "398a86d9",
   "metadata": {},
   "outputs": [],
   "source": [
    "from pprint import pprint\n",
    "import warnings\n",
    "warnings.filterwarnings(\"ignore\")\n",
    "\n",
    "import sys\n",
    "sys.path.append('../')"
   ]
  },
  {
   "cell_type": "code",
   "execution_count": null,
   "id": "e385328b",
   "metadata": {},
   "outputs": [],
   "source": []
  },
  {
   "cell_type": "code",
   "execution_count": 6,
   "id": "8dbe6bf0",
   "metadata": {},
   "outputs": [],
   "source": [
    "import plotly.express as px\n",
    "import numpy as np\n",
    "import pandas as pd\n",
    "import scipy as sp\n",
    "import requests\n",
    "from tqdm.auto import tqdm\n",
    "from scipy.stats import mode\n",
    "from implicit.nearest_neighbours import CosineRecommender, TFIDFRecommender, BM25Recommender\n",
    "from rectools import Columns\n",
    "from rectools.model_selection import TimeRangeSplitter\n",
    "from rectools.metrics import Precision, Recall, MAP, MeanInvUserFreq, Serendipity, calc_metrics\n",
    "from rectools.dataset.interactions import Interactions\n",
    "\n",
    "from service.utils.user_knn import user_knn"
   ]
  },
  {
   "cell_type": "markdown",
   "id": "b1baa79f",
   "metadata": {},
   "source": [
    "# Data"
   ]
  },
  {
   "cell_type": "code",
   "execution_count": 7,
   "id": "f2a9e540",
   "metadata": {},
   "outputs": [
    {
     "data": {
      "text/plain": [
       "((5476251, 5), (840197, 5), (15963, 14))"
      ]
     },
     "execution_count": 7,
     "metadata": {},
     "output_type": "execute_result"
    }
   ],
   "source": [
    "interactions = pd.read_csv('../data/kion_train/interactions.csv')\n",
    "users = pd.read_csv('../data/kion_train/users.csv')\n",
    "items = pd.read_csv('../data/kion_train/items.csv')\n",
    "\n",
    "interactions.shape, users.shape, items.shape"
   ]
  },
  {
   "cell_type": "code",
   "execution_count": 8,
   "id": "456d25f4",
   "metadata": {},
   "outputs": [],
   "source": [
    "interactions.rename(\n",
    "    columns={\n",
    "        'last_watch_dt': Columns.Datetime,\n",
    "        'total_dur': Columns.Weight\n",
    "    }, \n",
    "    inplace=True) \n",
    "\n",
    "interactions[Columns.Datetime] = pd.to_datetime(interactions[Columns.Datetime])"
   ]
  },
  {
   "cell_type": "markdown",
   "id": "6f7b9b0c",
   "metadata": {},
   "source": [
    "## Intersection"
   ]
  },
  {
   "cell_type": "code",
   "execution_count": 9,
   "id": "7c9c0c94",
   "metadata": {},
   "outputs": [
    {
     "data": {
      "text/html": [
       "<div>\n",
       "<style scoped>\n",
       "    .dataframe tbody tr th:only-of-type {\n",
       "        vertical-align: middle;\n",
       "    }\n",
       "\n",
       "    .dataframe tbody tr th {\n",
       "        vertical-align: top;\n",
       "    }\n",
       "\n",
       "    .dataframe thead th {\n",
       "        text-align: right;\n",
       "    }\n",
       "</style>\n",
       "<table border=\"1\" class=\"dataframe\">\n",
       "  <thead>\n",
       "    <tr style=\"text-align: right;\">\n",
       "      <th></th>\n",
       "      <th>user_id</th>\n",
       "      <th>item_id</th>\n",
       "      <th>datetime</th>\n",
       "      <th>weight</th>\n",
       "      <th>watched_pct</th>\n",
       "    </tr>\n",
       "  </thead>\n",
       "  <tbody>\n",
       "    <tr>\n",
       "      <th>0</th>\n",
       "      <td>176549</td>\n",
       "      <td>9506</td>\n",
       "      <td>2021-05-11</td>\n",
       "      <td>4250</td>\n",
       "      <td>72.0</td>\n",
       "    </tr>\n",
       "    <tr>\n",
       "      <th>1</th>\n",
       "      <td>699317</td>\n",
       "      <td>1659</td>\n",
       "      <td>2021-05-29</td>\n",
       "      <td>8317</td>\n",
       "      <td>100.0</td>\n",
       "    </tr>\n",
       "    <tr>\n",
       "      <th>2</th>\n",
       "      <td>656683</td>\n",
       "      <td>7107</td>\n",
       "      <td>2021-05-09</td>\n",
       "      <td>10</td>\n",
       "      <td>0.0</td>\n",
       "    </tr>\n",
       "    <tr>\n",
       "      <th>3</th>\n",
       "      <td>864613</td>\n",
       "      <td>7638</td>\n",
       "      <td>2021-07-05</td>\n",
       "      <td>14483</td>\n",
       "      <td>100.0</td>\n",
       "    </tr>\n",
       "    <tr>\n",
       "      <th>4</th>\n",
       "      <td>964868</td>\n",
       "      <td>9506</td>\n",
       "      <td>2021-04-30</td>\n",
       "      <td>6725</td>\n",
       "      <td>100.0</td>\n",
       "    </tr>\n",
       "    <tr>\n",
       "      <th>5476246</th>\n",
       "      <td>648596</td>\n",
       "      <td>12225</td>\n",
       "      <td>2021-08-13</td>\n",
       "      <td>76</td>\n",
       "      <td>0.0</td>\n",
       "    </tr>\n",
       "    <tr>\n",
       "      <th>5476247</th>\n",
       "      <td>546862</td>\n",
       "      <td>9673</td>\n",
       "      <td>2021-04-13</td>\n",
       "      <td>2308</td>\n",
       "      <td>49.0</td>\n",
       "    </tr>\n",
       "    <tr>\n",
       "      <th>5476248</th>\n",
       "      <td>697262</td>\n",
       "      <td>15297</td>\n",
       "      <td>2021-08-20</td>\n",
       "      <td>18307</td>\n",
       "      <td>63.0</td>\n",
       "    </tr>\n",
       "    <tr>\n",
       "      <th>5476249</th>\n",
       "      <td>384202</td>\n",
       "      <td>16197</td>\n",
       "      <td>2021-04-19</td>\n",
       "      <td>6203</td>\n",
       "      <td>100.0</td>\n",
       "    </tr>\n",
       "    <tr>\n",
       "      <th>5476250</th>\n",
       "      <td>319709</td>\n",
       "      <td>4436</td>\n",
       "      <td>2021-08-15</td>\n",
       "      <td>3921</td>\n",
       "      <td>45.0</td>\n",
       "    </tr>\n",
       "  </tbody>\n",
       "</table>\n",
       "</div>"
      ],
      "text/plain": [
       "         user_id  item_id   datetime  weight  watched_pct\n",
       "0         176549     9506 2021-05-11    4250         72.0\n",
       "1         699317     1659 2021-05-29    8317        100.0\n",
       "2         656683     7107 2021-05-09      10          0.0\n",
       "3         864613     7638 2021-07-05   14483        100.0\n",
       "4         964868     9506 2021-04-30    6725        100.0\n",
       "5476246   648596    12225 2021-08-13      76          0.0\n",
       "5476247   546862     9673 2021-04-13    2308         49.0\n",
       "5476248   697262    15297 2021-08-20   18307         63.0\n",
       "5476249   384202    16197 2021-04-19    6203        100.0\n",
       "5476250   319709     4436 2021-08-15    3921         45.0"
      ]
     },
     "execution_count": 9,
     "metadata": {},
     "output_type": "execute_result"
    }
   ],
   "source": [
    "pd.concat([interactions.head(), interactions.tail()])"
   ]
  },
  {
   "cell_type": "code",
   "execution_count": 10,
   "id": "c5c3ce6c",
   "metadata": {},
   "outputs": [
    {
     "name": "stdout",
     "output_type": "stream",
     "text": [
      "Interactions dataframe shape: (5476251, 5)\n",
      "Unique users in interactions: 962179\n",
      "Unique items in interactions: 15706\n"
     ]
    }
   ],
   "source": [
    "print(f\"Interactions dataframe shape: {interactions.shape}\")\n",
    "print(f\"Unique users in interactions: {interactions[Columns.User].nunique()}\")\n",
    "print(f\"Unique items in interactions: {interactions[Columns.Item].nunique()}\")"
   ]
  },
  {
   "cell_type": "code",
   "execution_count": 11,
   "id": "0214a978",
   "metadata": {},
   "outputs": [
    {
     "name": "stdout",
     "output_type": "stream",
     "text": [
      "min date in interactions: 2021-03-13 00:00:00\n",
      "max date in interactions: 2021-08-22 00:00:00\n"
     ]
    }
   ],
   "source": [
    "max_date = interactions[Columns.Datetime].max()\n",
    "min_date = interactions[Columns.Datetime].min()\n",
    "\n",
    "print(f\"min date in interactions: {min_date}\")\n",
    "print(f\"max date in interactions: {max_date}\")"
   ]
  },
  {
   "cell_type": "code",
   "execution_count": 12,
   "id": "7829e796",
   "metadata": {},
   "outputs": [
    {
     "name": "stdout",
     "output_type": "stream",
     "text": [
      "<class 'pandas.core.frame.DataFrame'>\n",
      "RangeIndex: 5476251 entries, 0 to 5476250\n",
      "Data columns (total 5 columns):\n",
      " #   Column       Dtype         \n",
      "---  ------       -----         \n",
      " 0   user_id      int64         \n",
      " 1   item_id      int64         \n",
      " 2   datetime     datetime64[ns]\n",
      " 3   weight       int64         \n",
      " 4   watched_pct  float64       \n",
      "dtypes: datetime64[ns](1), float64(1), int64(3)\n",
      "memory usage: 208.9 MB\n"
     ]
    }
   ],
   "source": [
    "interactions.info()"
   ]
  },
  {
   "cell_type": "markdown",
   "id": "57cddf34",
   "metadata": {},
   "source": [
    "## Users"
   ]
  },
  {
   "cell_type": "code",
   "execution_count": 13,
   "id": "de5dea16",
   "metadata": {},
   "outputs": [
    {
     "data": {
      "text/html": [
       "<div>\n",
       "<style scoped>\n",
       "    .dataframe tbody tr th:only-of-type {\n",
       "        vertical-align: middle;\n",
       "    }\n",
       "\n",
       "    .dataframe tbody tr th {\n",
       "        vertical-align: top;\n",
       "    }\n",
       "\n",
       "    .dataframe thead th {\n",
       "        text-align: right;\n",
       "    }\n",
       "</style>\n",
       "<table border=\"1\" class=\"dataframe\">\n",
       "  <thead>\n",
       "    <tr style=\"text-align: right;\">\n",
       "      <th></th>\n",
       "      <th>user_id</th>\n",
       "      <th>age</th>\n",
       "      <th>income</th>\n",
       "      <th>sex</th>\n",
       "      <th>kids_flg</th>\n",
       "    </tr>\n",
       "  </thead>\n",
       "  <tbody>\n",
       "    <tr>\n",
       "      <th>0</th>\n",
       "      <td>973171</td>\n",
       "      <td>age_25_34</td>\n",
       "      <td>income_60_90</td>\n",
       "      <td>М</td>\n",
       "      <td>1</td>\n",
       "    </tr>\n",
       "    <tr>\n",
       "      <th>1</th>\n",
       "      <td>962099</td>\n",
       "      <td>age_18_24</td>\n",
       "      <td>income_20_40</td>\n",
       "      <td>М</td>\n",
       "      <td>0</td>\n",
       "    </tr>\n",
       "    <tr>\n",
       "      <th>2</th>\n",
       "      <td>1047345</td>\n",
       "      <td>age_45_54</td>\n",
       "      <td>income_40_60</td>\n",
       "      <td>Ж</td>\n",
       "      <td>0</td>\n",
       "    </tr>\n",
       "    <tr>\n",
       "      <th>3</th>\n",
       "      <td>721985</td>\n",
       "      <td>age_45_54</td>\n",
       "      <td>income_20_40</td>\n",
       "      <td>Ж</td>\n",
       "      <td>0</td>\n",
       "    </tr>\n",
       "    <tr>\n",
       "      <th>4</th>\n",
       "      <td>704055</td>\n",
       "      <td>age_35_44</td>\n",
       "      <td>income_60_90</td>\n",
       "      <td>Ж</td>\n",
       "      <td>0</td>\n",
       "    </tr>\n",
       "    <tr>\n",
       "      <th>840192</th>\n",
       "      <td>339025</td>\n",
       "      <td>age_65_inf</td>\n",
       "      <td>income_0_20</td>\n",
       "      <td>Ж</td>\n",
       "      <td>0</td>\n",
       "    </tr>\n",
       "    <tr>\n",
       "      <th>840193</th>\n",
       "      <td>983617</td>\n",
       "      <td>age_18_24</td>\n",
       "      <td>income_20_40</td>\n",
       "      <td>Ж</td>\n",
       "      <td>1</td>\n",
       "    </tr>\n",
       "    <tr>\n",
       "      <th>840194</th>\n",
       "      <td>251008</td>\n",
       "      <td>NaN</td>\n",
       "      <td>NaN</td>\n",
       "      <td>NaN</td>\n",
       "      <td>0</td>\n",
       "    </tr>\n",
       "    <tr>\n",
       "      <th>840195</th>\n",
       "      <td>590706</td>\n",
       "      <td>NaN</td>\n",
       "      <td>NaN</td>\n",
       "      <td>Ж</td>\n",
       "      <td>0</td>\n",
       "    </tr>\n",
       "    <tr>\n",
       "      <th>840196</th>\n",
       "      <td>166555</td>\n",
       "      <td>age_65_inf</td>\n",
       "      <td>income_20_40</td>\n",
       "      <td>Ж</td>\n",
       "      <td>0</td>\n",
       "    </tr>\n",
       "  </tbody>\n",
       "</table>\n",
       "</div>"
      ],
      "text/plain": [
       "        user_id         age        income  sex  kids_flg\n",
       "0        973171   age_25_34  income_60_90    М         1\n",
       "1        962099   age_18_24  income_20_40    М         0\n",
       "2       1047345   age_45_54  income_40_60    Ж         0\n",
       "3        721985   age_45_54  income_20_40    Ж         0\n",
       "4        704055   age_35_44  income_60_90    Ж         0\n",
       "840192   339025  age_65_inf   income_0_20    Ж         0\n",
       "840193   983617   age_18_24  income_20_40    Ж         1\n",
       "840194   251008         NaN           NaN  NaN         0\n",
       "840195   590706         NaN           NaN    Ж         0\n",
       "840196   166555  age_65_inf  income_20_40    Ж         0"
      ]
     },
     "execution_count": 13,
     "metadata": {},
     "output_type": "execute_result"
    }
   ],
   "source": [
    "pd.concat([users.head(), users.tail()])"
   ]
  },
  {
   "cell_type": "code",
   "execution_count": 14,
   "id": "e4e6d2f5",
   "metadata": {},
   "outputs": [
    {
     "name": "stdout",
     "output_type": "stream",
     "text": [
      "Users dataframe shape (840197, 5)\n",
      "Unique users: 840197\n"
     ]
    }
   ],
   "source": [
    "print(f\"Users dataframe shape {users.shape}\")\n",
    "print(f\"Unique users: {users['user_id'].nunique()}\")"
   ]
  },
  {
   "cell_type": "markdown",
   "id": "98b4ff6c",
   "metadata": {},
   "source": [
    "## Items"
   ]
  },
  {
   "cell_type": "code",
   "execution_count": 15,
   "id": "19b43ff0",
   "metadata": {},
   "outputs": [
    {
     "data": {
      "text/html": [
       "<div>\n",
       "<style scoped>\n",
       "    .dataframe tbody tr th:only-of-type {\n",
       "        vertical-align: middle;\n",
       "    }\n",
       "\n",
       "    .dataframe tbody tr th {\n",
       "        vertical-align: top;\n",
       "    }\n",
       "\n",
       "    .dataframe thead th {\n",
       "        text-align: right;\n",
       "    }\n",
       "</style>\n",
       "<table border=\"1\" class=\"dataframe\">\n",
       "  <thead>\n",
       "    <tr style=\"text-align: right;\">\n",
       "      <th></th>\n",
       "      <th>item_id</th>\n",
       "      <th>content_type</th>\n",
       "      <th>title</th>\n",
       "      <th>title_orig</th>\n",
       "      <th>release_year</th>\n",
       "      <th>genres</th>\n",
       "      <th>countries</th>\n",
       "      <th>for_kids</th>\n",
       "      <th>age_rating</th>\n",
       "      <th>studios</th>\n",
       "      <th>directors</th>\n",
       "      <th>actors</th>\n",
       "      <th>description</th>\n",
       "      <th>keywords</th>\n",
       "    </tr>\n",
       "  </thead>\n",
       "  <tbody>\n",
       "    <tr>\n",
       "      <th>0</th>\n",
       "      <td>10711</td>\n",
       "      <td>film</td>\n",
       "      <td>Поговори с ней</td>\n",
       "      <td>Hable con ella</td>\n",
       "      <td>2002.0</td>\n",
       "      <td>драмы, зарубежные, детективы, мелодрамы</td>\n",
       "      <td>Испания</td>\n",
       "      <td>NaN</td>\n",
       "      <td>16.0</td>\n",
       "      <td>NaN</td>\n",
       "      <td>Педро Альмодовар</td>\n",
       "      <td>Адольфо Фернандес, Ана Фернандес, Дарио Гранди...</td>\n",
       "      <td>Мелодрама легендарного Педро Альмодовара «Пого...</td>\n",
       "      <td>Поговори, ней, 2002, Испания, друзья, любовь, ...</td>\n",
       "    </tr>\n",
       "    <tr>\n",
       "      <th>1</th>\n",
       "      <td>2508</td>\n",
       "      <td>film</td>\n",
       "      <td>Голые перцы</td>\n",
       "      <td>Search Party</td>\n",
       "      <td>2014.0</td>\n",
       "      <td>зарубежные, приключения, комедии</td>\n",
       "      <td>США</td>\n",
       "      <td>NaN</td>\n",
       "      <td>16.0</td>\n",
       "      <td>NaN</td>\n",
       "      <td>Скот Армстронг</td>\n",
       "      <td>Адам Палли, Брайан Хаски, Дж.Б. Смув, Джейсон ...</td>\n",
       "      <td>Уморительная современная комедия на популярную...</td>\n",
       "      <td>Голые, перцы, 2014, США, друзья, свадьбы, прео...</td>\n",
       "    </tr>\n",
       "    <tr>\n",
       "      <th>15961</th>\n",
       "      <td>4538</td>\n",
       "      <td>series</td>\n",
       "      <td>Среди камней</td>\n",
       "      <td>Darklands</td>\n",
       "      <td>2019.0</td>\n",
       "      <td>драмы, спорт, криминал</td>\n",
       "      <td>Россия</td>\n",
       "      <td>0.0</td>\n",
       "      <td>18.0</td>\n",
       "      <td>NaN</td>\n",
       "      <td>Марк О’Коннор, Конор МакМахон</td>\n",
       "      <td>Дэйн Уайт О’Хара, Томас Кэйн-Бирн, Джудит Родд...</td>\n",
       "      <td>Семнадцатилетний Дэмиен мечтает вырваться за п...</td>\n",
       "      <td>Среди, камней, 2019, Россия</td>\n",
       "    </tr>\n",
       "    <tr>\n",
       "      <th>15962</th>\n",
       "      <td>3206</td>\n",
       "      <td>series</td>\n",
       "      <td>Гоша</td>\n",
       "      <td>NaN</td>\n",
       "      <td>2019.0</td>\n",
       "      <td>комедии</td>\n",
       "      <td>Россия</td>\n",
       "      <td>0.0</td>\n",
       "      <td>16.0</td>\n",
       "      <td>NaN</td>\n",
       "      <td>Михаил Миронов</td>\n",
       "      <td>Мкртыч Арзуманян, Виктория Рунцова</td>\n",
       "      <td>Добродушный Гоша не может выйти из дома, чтобы...</td>\n",
       "      <td>Гоша, 2019, Россия</td>\n",
       "    </tr>\n",
       "  </tbody>\n",
       "</table>\n",
       "</div>"
      ],
      "text/plain": [
       "       item_id content_type           title      title_orig  release_year  \\\n",
       "0        10711         film  Поговори с ней  Hable con ella        2002.0   \n",
       "1         2508         film     Голые перцы    Search Party        2014.0   \n",
       "15961     4538       series    Среди камней      Darklands         2019.0   \n",
       "15962     3206       series            Гоша             NaN        2019.0   \n",
       "\n",
       "                                        genres countries  for_kids  \\\n",
       "0      драмы, зарубежные, детективы, мелодрамы   Испания       NaN   \n",
       "1             зарубежные, приключения, комедии       США       NaN   \n",
       "15961                   драмы, спорт, криминал    Россия       0.0   \n",
       "15962                                  комедии    Россия       0.0   \n",
       "\n",
       "       age_rating studios                      directors  \\\n",
       "0            16.0     NaN               Педро Альмодовар   \n",
       "1            16.0     NaN                 Скот Армстронг   \n",
       "15961        18.0     NaN  Марк О’Коннор, Конор МакМахон   \n",
       "15962        16.0     NaN                 Михаил Миронов   \n",
       "\n",
       "                                                  actors  \\\n",
       "0      Адольфо Фернандес, Ана Фернандес, Дарио Гранди...   \n",
       "1      Адам Палли, Брайан Хаски, Дж.Б. Смув, Джейсон ...   \n",
       "15961  Дэйн Уайт О’Хара, Томас Кэйн-Бирн, Джудит Родд...   \n",
       "15962                 Мкртыч Арзуманян, Виктория Рунцова   \n",
       "\n",
       "                                             description  \\\n",
       "0      Мелодрама легендарного Педро Альмодовара «Пого...   \n",
       "1      Уморительная современная комедия на популярную...   \n",
       "15961  Семнадцатилетний Дэмиен мечтает вырваться за п...   \n",
       "15962  Добродушный Гоша не может выйти из дома, чтобы...   \n",
       "\n",
       "                                                keywords  \n",
       "0      Поговори, ней, 2002, Испания, друзья, любовь, ...  \n",
       "1      Голые, перцы, 2014, США, друзья, свадьбы, прео...  \n",
       "15961                        Среди, камней, 2019, Россия  \n",
       "15962                                 Гоша, 2019, Россия  "
      ]
     },
     "execution_count": 15,
     "metadata": {},
     "output_type": "execute_result"
    }
   ],
   "source": [
    "pd.concat([items.head(2), items.tail(2)])"
   ]
  },
  {
   "cell_type": "code",
   "execution_count": 16,
   "id": "8c8fb319",
   "metadata": {},
   "outputs": [
    {
     "name": "stdout",
     "output_type": "stream",
     "text": [
      "Items dataframe shape (15963, 14)\n",
      "Unique item_id: 15963\n"
     ]
    }
   ],
   "source": [
    "print(f\"Items dataframe shape {items.shape}\")\n",
    "print(f\"Unique item_id: {items['item_id'].nunique()}\")"
   ]
  },
  {
   "cell_type": "markdown",
   "id": "2b35b460",
   "metadata": {},
   "source": [
    "#  userkNN model  CV"
   ]
  },
  {
   "cell_type": "code",
   "execution_count": 17,
   "id": "f60e6ecb",
   "metadata": {},
   "outputs": [
    {
     "data": {
      "application/vnd.plotly.v1+json": {
       "config": {
        "plotlyServerURL": "https://plot.ly"
       },
       "data": [
        {
         "alignmentgroup": "True",
         "hovertemplate": "variable=user_id<br>datetime=%{x}<br>value=%{y}<extra></extra>",
         "legendgroup": "user_id",
         "marker": {
          "color": "#636efa",
          "pattern": {
           "shape": ""
          }
         },
         "name": "user_id",
         "offsetgroup": "user_id",
         "orientation": "v",
         "showlegend": true,
         "textposition": "auto",
         "type": "bar",
         "x": [
          "2021-03-13T00:00:00",
          "2021-03-14T00:00:00",
          "2021-03-15T00:00:00",
          "2021-03-16T00:00:00",
          "2021-03-17T00:00:00",
          "2021-03-18T00:00:00",
          "2021-03-19T00:00:00",
          "2021-03-20T00:00:00",
          "2021-03-21T00:00:00",
          "2021-03-22T00:00:00",
          "2021-03-23T00:00:00",
          "2021-03-24T00:00:00",
          "2021-03-25T00:00:00",
          "2021-03-26T00:00:00",
          "2021-03-27T00:00:00",
          "2021-03-28T00:00:00",
          "2021-03-29T00:00:00",
          "2021-03-30T00:00:00",
          "2021-03-31T00:00:00",
          "2021-04-01T00:00:00",
          "2021-04-02T00:00:00",
          "2021-04-03T00:00:00",
          "2021-04-04T00:00:00",
          "2021-04-05T00:00:00",
          "2021-04-06T00:00:00",
          "2021-04-07T00:00:00",
          "2021-04-08T00:00:00",
          "2021-04-09T00:00:00",
          "2021-04-10T00:00:00",
          "2021-04-11T00:00:00",
          "2021-04-12T00:00:00",
          "2021-04-13T00:00:00",
          "2021-04-14T00:00:00",
          "2021-04-15T00:00:00",
          "2021-04-16T00:00:00",
          "2021-04-17T00:00:00",
          "2021-04-18T00:00:00",
          "2021-04-19T00:00:00",
          "2021-04-20T00:00:00",
          "2021-04-21T00:00:00",
          "2021-04-22T00:00:00",
          "2021-04-23T00:00:00",
          "2021-04-24T00:00:00",
          "2021-04-25T00:00:00",
          "2021-04-26T00:00:00",
          "2021-04-27T00:00:00",
          "2021-04-28T00:00:00",
          "2021-04-29T00:00:00",
          "2021-04-30T00:00:00",
          "2021-05-01T00:00:00",
          "2021-05-02T00:00:00",
          "2021-05-03T00:00:00",
          "2021-05-04T00:00:00",
          "2021-05-05T00:00:00",
          "2021-05-06T00:00:00",
          "2021-05-07T00:00:00",
          "2021-05-08T00:00:00",
          "2021-05-09T00:00:00",
          "2021-05-10T00:00:00",
          "2021-05-11T00:00:00",
          "2021-05-12T00:00:00",
          "2021-05-13T00:00:00",
          "2021-05-14T00:00:00",
          "2021-05-15T00:00:00",
          "2021-05-16T00:00:00",
          "2021-05-17T00:00:00",
          "2021-05-18T00:00:00",
          "2021-05-19T00:00:00",
          "2021-05-20T00:00:00",
          "2021-05-21T00:00:00",
          "2021-05-22T00:00:00",
          "2021-05-23T00:00:00",
          "2021-05-24T00:00:00",
          "2021-05-25T00:00:00",
          "2021-05-26T00:00:00",
          "2021-05-27T00:00:00",
          "2021-05-28T00:00:00",
          "2021-05-29T00:00:00",
          "2021-05-30T00:00:00",
          "2021-05-31T00:00:00",
          "2021-06-01T00:00:00",
          "2021-06-02T00:00:00",
          "2021-06-03T00:00:00",
          "2021-06-04T00:00:00",
          "2021-06-05T00:00:00",
          "2021-06-06T00:00:00",
          "2021-06-07T00:00:00",
          "2021-06-08T00:00:00",
          "2021-06-09T00:00:00",
          "2021-06-10T00:00:00",
          "2021-06-11T00:00:00",
          "2021-06-12T00:00:00",
          "2021-06-13T00:00:00",
          "2021-06-14T00:00:00",
          "2021-06-15T00:00:00",
          "2021-06-16T00:00:00",
          "2021-06-17T00:00:00",
          "2021-06-18T00:00:00",
          "2021-06-19T00:00:00",
          "2021-06-20T00:00:00",
          "2021-06-21T00:00:00",
          "2021-06-22T00:00:00",
          "2021-06-23T00:00:00",
          "2021-06-24T00:00:00",
          "2021-06-25T00:00:00",
          "2021-06-26T00:00:00",
          "2021-06-27T00:00:00",
          "2021-06-28T00:00:00",
          "2021-06-29T00:00:00",
          "2021-06-30T00:00:00",
          "2021-07-01T00:00:00",
          "2021-07-02T00:00:00",
          "2021-07-03T00:00:00",
          "2021-07-04T00:00:00",
          "2021-07-05T00:00:00",
          "2021-07-06T00:00:00",
          "2021-07-07T00:00:00",
          "2021-07-08T00:00:00",
          "2021-07-09T00:00:00",
          "2021-07-10T00:00:00",
          "2021-07-11T00:00:00",
          "2021-07-12T00:00:00",
          "2021-07-13T00:00:00",
          "2021-07-14T00:00:00",
          "2021-07-15T00:00:00",
          "2021-07-16T00:00:00",
          "2021-07-17T00:00:00",
          "2021-07-18T00:00:00",
          "2021-07-19T00:00:00",
          "2021-07-20T00:00:00",
          "2021-07-21T00:00:00",
          "2021-07-22T00:00:00",
          "2021-07-23T00:00:00",
          "2021-07-24T00:00:00",
          "2021-07-25T00:00:00",
          "2021-07-26T00:00:00",
          "2021-07-27T00:00:00",
          "2021-07-28T00:00:00",
          "2021-07-29T00:00:00",
          "2021-07-30T00:00:00",
          "2021-07-31T00:00:00",
          "2021-08-01T00:00:00",
          "2021-08-02T00:00:00",
          "2021-08-03T00:00:00",
          "2021-08-04T00:00:00",
          "2021-08-05T00:00:00",
          "2021-08-06T00:00:00",
          "2021-08-07T00:00:00",
          "2021-08-08T00:00:00",
          "2021-08-09T00:00:00",
          "2021-08-10T00:00:00",
          "2021-08-11T00:00:00",
          "2021-08-12T00:00:00",
          "2021-08-13T00:00:00",
          "2021-08-14T00:00:00",
          "2021-08-15T00:00:00",
          "2021-08-16T00:00:00",
          "2021-08-17T00:00:00",
          "2021-08-18T00:00:00",
          "2021-08-19T00:00:00",
          "2021-08-20T00:00:00",
          "2021-08-21T00:00:00",
          "2021-08-22T00:00:00"
         ],
         "xaxis": "x",
         "y": [
          16104,
          15606,
          12363,
          12643,
          12753,
          12788,
          13657,
          15346,
          15560,
          12752,
          13147,
          13435,
          12698,
          13909,
          15657,
          16112,
          12783,
          13101,
          13460,
          12966,
          14084,
          15431,
          15346,
          12642,
          12528,
          13129,
          13827,
          14416,
          15937,
          16046,
          12835,
          12322,
          12451,
          12275,
          13342,
          15464,
          16275,
          14286,
          20420,
          23200,
          21274,
          22127,
          26161,
          28964,
          21625,
          22590,
          21406,
          19987,
          21406,
          23479,
          24767,
          26267,
          25983,
          23941,
          23510,
          23201,
          27550,
          25986,
          27242,
          20957,
          20578,
          20729,
          21152,
          24530,
          24914,
          20960,
          20574,
          21561,
          22712,
          25697,
          27895,
          29978,
          24317,
          23667,
          22529,
          23881,
          24131,
          29035,
          31308,
          26821,
          26587,
          27577,
          28683,
          33150,
          34795,
          37096,
          31402,
          31107,
          32896,
          38964,
          37935,
          38619,
          42125,
          38973,
          35993,
          57686,
          41440,
          42174,
          43679,
          47989,
          39127,
          39693,
          41688,
          38394,
          41428,
          45898,
          48903,
          43301,
          43887,
          67749,
          53900,
          46642,
          48832,
          52812,
          43375,
          41380,
          41163,
          41592,
          40955,
          44798,
          46250,
          42487,
          43764,
          43128,
          43010,
          44878,
          49714,
          54139,
          45541,
          44431,
          44422,
          46313,
          46911,
          50317,
          54378,
          48531,
          49324,
          50267,
          50585,
          53121,
          59499,
          62128,
          53495,
          52181,
          51911,
          51047,
          53745,
          59316,
          61454,
          52794,
          53712,
          55617,
          56497,
          55843,
          61644,
          66546,
          54546,
          54311,
          56789,
          58640,
          60145,
          68834,
          71171
         ],
         "yaxis": "y"
        }
       ],
       "layout": {
        "barmode": "relative",
        "legend": {
         "title": {
          "text": "variable"
         },
         "tracegroupgap": 0
        },
        "margin": {
         "t": 60
        },
        "template": {
         "data": {
          "bar": [
           {
            "error_x": {
             "color": "#2a3f5f"
            },
            "error_y": {
             "color": "#2a3f5f"
            },
            "marker": {
             "line": {
              "color": "#E5ECF6",
              "width": 0.5
             },
             "pattern": {
              "fillmode": "overlay",
              "size": 10,
              "solidity": 0.2
             }
            },
            "type": "bar"
           }
          ],
          "barpolar": [
           {
            "marker": {
             "line": {
              "color": "#E5ECF6",
              "width": 0.5
             },
             "pattern": {
              "fillmode": "overlay",
              "size": 10,
              "solidity": 0.2
             }
            },
            "type": "barpolar"
           }
          ],
          "carpet": [
           {
            "aaxis": {
             "endlinecolor": "#2a3f5f",
             "gridcolor": "white",
             "linecolor": "white",
             "minorgridcolor": "white",
             "startlinecolor": "#2a3f5f"
            },
            "baxis": {
             "endlinecolor": "#2a3f5f",
             "gridcolor": "white",
             "linecolor": "white",
             "minorgridcolor": "white",
             "startlinecolor": "#2a3f5f"
            },
            "type": "carpet"
           }
          ],
          "choropleth": [
           {
            "colorbar": {
             "outlinewidth": 0,
             "ticks": ""
            },
            "type": "choropleth"
           }
          ],
          "contour": [
           {
            "colorbar": {
             "outlinewidth": 0,
             "ticks": ""
            },
            "colorscale": [
             [
              0,
              "#0d0887"
             ],
             [
              0.1111111111111111,
              "#46039f"
             ],
             [
              0.2222222222222222,
              "#7201a8"
             ],
             [
              0.3333333333333333,
              "#9c179e"
             ],
             [
              0.4444444444444444,
              "#bd3786"
             ],
             [
              0.5555555555555556,
              "#d8576b"
             ],
             [
              0.6666666666666666,
              "#ed7953"
             ],
             [
              0.7777777777777778,
              "#fb9f3a"
             ],
             [
              0.8888888888888888,
              "#fdca26"
             ],
             [
              1,
              "#f0f921"
             ]
            ],
            "type": "contour"
           }
          ],
          "contourcarpet": [
           {
            "colorbar": {
             "outlinewidth": 0,
             "ticks": ""
            },
            "type": "contourcarpet"
           }
          ],
          "heatmap": [
           {
            "colorbar": {
             "outlinewidth": 0,
             "ticks": ""
            },
            "colorscale": [
             [
              0,
              "#0d0887"
             ],
             [
              0.1111111111111111,
              "#46039f"
             ],
             [
              0.2222222222222222,
              "#7201a8"
             ],
             [
              0.3333333333333333,
              "#9c179e"
             ],
             [
              0.4444444444444444,
              "#bd3786"
             ],
             [
              0.5555555555555556,
              "#d8576b"
             ],
             [
              0.6666666666666666,
              "#ed7953"
             ],
             [
              0.7777777777777778,
              "#fb9f3a"
             ],
             [
              0.8888888888888888,
              "#fdca26"
             ],
             [
              1,
              "#f0f921"
             ]
            ],
            "type": "heatmap"
           }
          ],
          "heatmapgl": [
           {
            "colorbar": {
             "outlinewidth": 0,
             "ticks": ""
            },
            "colorscale": [
             [
              0,
              "#0d0887"
             ],
             [
              0.1111111111111111,
              "#46039f"
             ],
             [
              0.2222222222222222,
              "#7201a8"
             ],
             [
              0.3333333333333333,
              "#9c179e"
             ],
             [
              0.4444444444444444,
              "#bd3786"
             ],
             [
              0.5555555555555556,
              "#d8576b"
             ],
             [
              0.6666666666666666,
              "#ed7953"
             ],
             [
              0.7777777777777778,
              "#fb9f3a"
             ],
             [
              0.8888888888888888,
              "#fdca26"
             ],
             [
              1,
              "#f0f921"
             ]
            ],
            "type": "heatmapgl"
           }
          ],
          "histogram": [
           {
            "marker": {
             "pattern": {
              "fillmode": "overlay",
              "size": 10,
              "solidity": 0.2
             }
            },
            "type": "histogram"
           }
          ],
          "histogram2d": [
           {
            "colorbar": {
             "outlinewidth": 0,
             "ticks": ""
            },
            "colorscale": [
             [
              0,
              "#0d0887"
             ],
             [
              0.1111111111111111,
              "#46039f"
             ],
             [
              0.2222222222222222,
              "#7201a8"
             ],
             [
              0.3333333333333333,
              "#9c179e"
             ],
             [
              0.4444444444444444,
              "#bd3786"
             ],
             [
              0.5555555555555556,
              "#d8576b"
             ],
             [
              0.6666666666666666,
              "#ed7953"
             ],
             [
              0.7777777777777778,
              "#fb9f3a"
             ],
             [
              0.8888888888888888,
              "#fdca26"
             ],
             [
              1,
              "#f0f921"
             ]
            ],
            "type": "histogram2d"
           }
          ],
          "histogram2dcontour": [
           {
            "colorbar": {
             "outlinewidth": 0,
             "ticks": ""
            },
            "colorscale": [
             [
              0,
              "#0d0887"
             ],
             [
              0.1111111111111111,
              "#46039f"
             ],
             [
              0.2222222222222222,
              "#7201a8"
             ],
             [
              0.3333333333333333,
              "#9c179e"
             ],
             [
              0.4444444444444444,
              "#bd3786"
             ],
             [
              0.5555555555555556,
              "#d8576b"
             ],
             [
              0.6666666666666666,
              "#ed7953"
             ],
             [
              0.7777777777777778,
              "#fb9f3a"
             ],
             [
              0.8888888888888888,
              "#fdca26"
             ],
             [
              1,
              "#f0f921"
             ]
            ],
            "type": "histogram2dcontour"
           }
          ],
          "mesh3d": [
           {
            "colorbar": {
             "outlinewidth": 0,
             "ticks": ""
            },
            "type": "mesh3d"
           }
          ],
          "parcoords": [
           {
            "line": {
             "colorbar": {
              "outlinewidth": 0,
              "ticks": ""
             }
            },
            "type": "parcoords"
           }
          ],
          "pie": [
           {
            "automargin": true,
            "type": "pie"
           }
          ],
          "scatter": [
           {
            "fillpattern": {
             "fillmode": "overlay",
             "size": 10,
             "solidity": 0.2
            },
            "type": "scatter"
           }
          ],
          "scatter3d": [
           {
            "line": {
             "colorbar": {
              "outlinewidth": 0,
              "ticks": ""
             }
            },
            "marker": {
             "colorbar": {
              "outlinewidth": 0,
              "ticks": ""
             }
            },
            "type": "scatter3d"
           }
          ],
          "scattercarpet": [
           {
            "marker": {
             "colorbar": {
              "outlinewidth": 0,
              "ticks": ""
             }
            },
            "type": "scattercarpet"
           }
          ],
          "scattergeo": [
           {
            "marker": {
             "colorbar": {
              "outlinewidth": 0,
              "ticks": ""
             }
            },
            "type": "scattergeo"
           }
          ],
          "scattergl": [
           {
            "marker": {
             "colorbar": {
              "outlinewidth": 0,
              "ticks": ""
             }
            },
            "type": "scattergl"
           }
          ],
          "scattermapbox": [
           {
            "marker": {
             "colorbar": {
              "outlinewidth": 0,
              "ticks": ""
             }
            },
            "type": "scattermapbox"
           }
          ],
          "scatterpolar": [
           {
            "marker": {
             "colorbar": {
              "outlinewidth": 0,
              "ticks": ""
             }
            },
            "type": "scatterpolar"
           }
          ],
          "scatterpolargl": [
           {
            "marker": {
             "colorbar": {
              "outlinewidth": 0,
              "ticks": ""
             }
            },
            "type": "scatterpolargl"
           }
          ],
          "scatterternary": [
           {
            "marker": {
             "colorbar": {
              "outlinewidth": 0,
              "ticks": ""
             }
            },
            "type": "scatterternary"
           }
          ],
          "surface": [
           {
            "colorbar": {
             "outlinewidth": 0,
             "ticks": ""
            },
            "colorscale": [
             [
              0,
              "#0d0887"
             ],
             [
              0.1111111111111111,
              "#46039f"
             ],
             [
              0.2222222222222222,
              "#7201a8"
             ],
             [
              0.3333333333333333,
              "#9c179e"
             ],
             [
              0.4444444444444444,
              "#bd3786"
             ],
             [
              0.5555555555555556,
              "#d8576b"
             ],
             [
              0.6666666666666666,
              "#ed7953"
             ],
             [
              0.7777777777777778,
              "#fb9f3a"
             ],
             [
              0.8888888888888888,
              "#fdca26"
             ],
             [
              1,
              "#f0f921"
             ]
            ],
            "type": "surface"
           }
          ],
          "table": [
           {
            "cells": {
             "fill": {
              "color": "#EBF0F8"
             },
             "line": {
              "color": "white"
             }
            },
            "header": {
             "fill": {
              "color": "#C8D4E3"
             },
             "line": {
              "color": "white"
             }
            },
            "type": "table"
           }
          ]
         },
         "layout": {
          "annotationdefaults": {
           "arrowcolor": "#2a3f5f",
           "arrowhead": 0,
           "arrowwidth": 1
          },
          "autotypenumbers": "strict",
          "coloraxis": {
           "colorbar": {
            "outlinewidth": 0,
            "ticks": ""
           }
          },
          "colorscale": {
           "diverging": [
            [
             0,
             "#8e0152"
            ],
            [
             0.1,
             "#c51b7d"
            ],
            [
             0.2,
             "#de77ae"
            ],
            [
             0.3,
             "#f1b6da"
            ],
            [
             0.4,
             "#fde0ef"
            ],
            [
             0.5,
             "#f7f7f7"
            ],
            [
             0.6,
             "#e6f5d0"
            ],
            [
             0.7,
             "#b8e186"
            ],
            [
             0.8,
             "#7fbc41"
            ],
            [
             0.9,
             "#4d9221"
            ],
            [
             1,
             "#276419"
            ]
           ],
           "sequential": [
            [
             0,
             "#0d0887"
            ],
            [
             0.1111111111111111,
             "#46039f"
            ],
            [
             0.2222222222222222,
             "#7201a8"
            ],
            [
             0.3333333333333333,
             "#9c179e"
            ],
            [
             0.4444444444444444,
             "#bd3786"
            ],
            [
             0.5555555555555556,
             "#d8576b"
            ],
            [
             0.6666666666666666,
             "#ed7953"
            ],
            [
             0.7777777777777778,
             "#fb9f3a"
            ],
            [
             0.8888888888888888,
             "#fdca26"
            ],
            [
             1,
             "#f0f921"
            ]
           ],
           "sequentialminus": [
            [
             0,
             "#0d0887"
            ],
            [
             0.1111111111111111,
             "#46039f"
            ],
            [
             0.2222222222222222,
             "#7201a8"
            ],
            [
             0.3333333333333333,
             "#9c179e"
            ],
            [
             0.4444444444444444,
             "#bd3786"
            ],
            [
             0.5555555555555556,
             "#d8576b"
            ],
            [
             0.6666666666666666,
             "#ed7953"
            ],
            [
             0.7777777777777778,
             "#fb9f3a"
            ],
            [
             0.8888888888888888,
             "#fdca26"
            ],
            [
             1,
             "#f0f921"
            ]
           ]
          },
          "colorway": [
           "#636efa",
           "#EF553B",
           "#00cc96",
           "#ab63fa",
           "#FFA15A",
           "#19d3f3",
           "#FF6692",
           "#B6E880",
           "#FF97FF",
           "#FECB52"
          ],
          "font": {
           "color": "#2a3f5f"
          },
          "geo": {
           "bgcolor": "white",
           "lakecolor": "white",
           "landcolor": "#E5ECF6",
           "showlakes": true,
           "showland": true,
           "subunitcolor": "white"
          },
          "hoverlabel": {
           "align": "left"
          },
          "hovermode": "closest",
          "mapbox": {
           "style": "light"
          },
          "paper_bgcolor": "white",
          "plot_bgcolor": "#E5ECF6",
          "polar": {
           "angularaxis": {
            "gridcolor": "white",
            "linecolor": "white",
            "ticks": ""
           },
           "bgcolor": "#E5ECF6",
           "radialaxis": {
            "gridcolor": "white",
            "linecolor": "white",
            "ticks": ""
           }
          },
          "scene": {
           "xaxis": {
            "backgroundcolor": "#E5ECF6",
            "gridcolor": "white",
            "gridwidth": 2,
            "linecolor": "white",
            "showbackground": true,
            "ticks": "",
            "zerolinecolor": "white"
           },
           "yaxis": {
            "backgroundcolor": "#E5ECF6",
            "gridcolor": "white",
            "gridwidth": 2,
            "linecolor": "white",
            "showbackground": true,
            "ticks": "",
            "zerolinecolor": "white"
           },
           "zaxis": {
            "backgroundcolor": "#E5ECF6",
            "gridcolor": "white",
            "gridwidth": 2,
            "linecolor": "white",
            "showbackground": true,
            "ticks": "",
            "zerolinecolor": "white"
           }
          },
          "shapedefaults": {
           "line": {
            "color": "#2a3f5f"
           }
          },
          "ternary": {
           "aaxis": {
            "gridcolor": "white",
            "linecolor": "white",
            "ticks": ""
           },
           "baxis": {
            "gridcolor": "white",
            "linecolor": "white",
            "ticks": ""
           },
           "bgcolor": "#E5ECF6",
           "caxis": {
            "gridcolor": "white",
            "linecolor": "white",
            "ticks": ""
           }
          },
          "title": {
           "x": 0.05
          },
          "xaxis": {
           "automargin": true,
           "gridcolor": "white",
           "linecolor": "white",
           "ticks": "",
           "title": {
            "standoff": 15
           },
           "zerolinecolor": "white",
           "zerolinewidth": 2
          },
          "yaxis": {
           "automargin": true,
           "gridcolor": "white",
           "linecolor": "white",
           "ticks": "",
           "title": {
            "standoff": 15
           },
           "zerolinecolor": "white",
           "zerolinewidth": 2
          }
         }
        },
        "xaxis": {
         "anchor": "y",
         "domain": [
          0,
          1
         ],
         "title": {
          "text": "datetime"
         }
        },
        "yaxis": {
         "anchor": "x",
         "domain": [
          0,
          1
         ],
         "title": {
          "text": "value"
         }
        }
       }
      }
     },
     "metadata": {},
     "output_type": "display_data"
    }
   ],
   "source": [
    "fig = px.bar(interactions.groupby(Columns.Datetime)[Columns.User].agg('count'))\n",
    "fig.show()"
   ]
  },
  {
   "cell_type": "markdown",
   "id": "43f216d0",
   "metadata": {},
   "source": [
    "Из графика видны **недельные тенденции** просмотров, поэтому следует fold-ы разделять по 7 дней, но т.к. на семинаре дали \"намек\", что private dataset имеет количество дней, меньшее чем 7. Поэтому фолды будут разбиваться на **5 и 7 дней**"
   ]
  },
  {
   "cell_type": "code",
   "execution_count": 18,
   "id": "07fbdb30",
   "metadata": {},
   "outputs": [
    {
     "data": {
      "text/plain": [
       "6"
      ]
     },
     "execution_count": 18,
     "metadata": {},
     "output_type": "execute_result"
    }
   ],
   "source": [
    "pd.to_datetime('23-05-2021', format='%d-%m-%Y').weekday()"
   ]
  },
  {
   "cell_type": "markdown",
   "id": "2ff625b2",
   "metadata": {},
   "source": [
    "### train test split"
   ]
  },
  {
   "cell_type": "code",
   "execution_count": 19,
   "id": "759ba346",
   "metadata": {},
   "outputs": [],
   "source": [
    "def create_data_range(\n",
    "    last_date: pd.Timestamp, \n",
    "    n_folds: int = 7, \n",
    "    unit: str = \"W\", \n",
    "    n_units: int = 1, \n",
    "    show: bool = True,\n",
    "):\n",
    "    periods = n_folds + 1\n",
    "    freq = f\"{n_units}{unit}\"\n",
    "    \n",
    "    start_date = last_date - pd.Timedelta(n_folds * n_units + n_units, unit=unit)  \n",
    "    \n",
    "    date_range = pd.date_range(start=start_date, periods=periods, freq=freq, tz=last_date.tz)\n",
    "    \n",
    "    if show:\n",
    "        print(\n",
    "            f\"start_date: {start_date}\\n\"\n",
    "            f\"last_date: {last_date}\\n\"\n",
    "            f\"periods: {periods}\\n\"\n",
    "            f\"freq: {freq}\\n\"\n",
    "            f\"Test fold borders: {date_range.values.astype('datetime64[D]')}\\n\"\n",
    "        )\n",
    "        \n",
    "    return date_range"
   ]
  },
  {
   "cell_type": "code",
   "execution_count": 20,
   "id": "38bfd397",
   "metadata": {},
   "outputs": [],
   "source": [
    "CONFIG_CV = {\n",
    "    \"cv_v1\": {\n",
    "        \"n_folds\": 7,\n",
    "        \"unit\": \"W\",\n",
    "        \"n_units\": 1,\n",
    "    },\n",
    "    \"cv_v2\": {\n",
    "        \"n_folds\": 7,\n",
    "        \"unit\": \"D\",\n",
    "        \"n_units\": 5,\n",
    "    }, \n",
    "}"
   ]
  },
  {
   "cell_type": "code",
   "execution_count": 21,
   "id": "f518e089",
   "metadata": {},
   "outputs": [
    {
     "data": {
      "text/plain": [
       "Timestamp('2021-08-22 00:00:00')"
      ]
     },
     "execution_count": 21,
     "metadata": {},
     "output_type": "execute_result"
    }
   ],
   "source": [
    "last_date = interactions[Columns.Datetime].max().normalize()\n",
    "last_date"
   ]
  },
  {
   "cell_type": "code",
   "execution_count": 22,
   "id": "1fd68b9b",
   "metadata": {},
   "outputs": [
    {
     "name": "stdout",
     "output_type": "stream",
     "text": [
      "***Folds v1***\n",
      "start_date: 2021-07-13 00:00:00\n",
      "last_date: 2021-08-22 00:00:00\n",
      "periods: 8\n",
      "freq: 5D\n",
      "Test fold borders: ['2021-07-13' '2021-07-18' '2021-07-23' '2021-07-28' '2021-08-02'\n",
      " '2021-08-07' '2021-08-12' '2021-08-17']\n",
      "\n"
     ]
    }
   ],
   "source": [
    "print(\"***Folds v1***\")\n",
    "date_range_v1 = create_data_range(\n",
    "    last_date, \n",
    "    n_folds=CONFIG_CV[\"cv_v2\"][\"n_folds\"], \n",
    "    unit=CONFIG_CV[\"cv_v2\"][\"unit\"], \n",
    "    n_units=CONFIG_CV[\"cv_v2\"][\"n_units\"]\n",
    ")"
   ]
  },
  {
   "cell_type": "markdown",
   "id": "efc59555",
   "metadata": {},
   "source": [
    "**генерируем фолды** "
   ]
  },
  {
   "cell_type": "code",
   "execution_count": 28,
   "id": "a491f505",
   "metadata": {},
   "outputs": [
    {
     "data": {
      "text/plain": [
       "DatetimeIndex(['2021-07-13', '2021-07-18', '2021-07-23', '2021-07-28',\n",
       "               '2021-08-02', '2021-08-07', '2021-08-12', '2021-08-17'],\n",
       "              dtype='datetime64[ns]', freq='5D')"
      ]
     },
     "execution_count": 28,
     "metadata": {},
     "output_type": "execute_result"
    }
   ],
   "source": [
    "date_range_v1"
   ]
  },
  {
   "cell_type": "code",
   "execution_count": 41,
   "id": "9fae43f6",
   "metadata": {},
   "outputs": [
    {
     "name": "stdout",
     "output_type": "stream",
     "text": [
      "Real number of folds: [(Timestamp('2021-08-17 00:00:00', freq='6D'), Timestamp('2021-08-23 00:00:00', freq='6D'))]\n"
     ]
    }
   ],
   "source": [
    "cv_v1 = TimeRangeSplitter(\n",
    "    test_size='6D',\n",
    "    filter_already_seen=True,\n",
    "    filter_cold_items=True,\n",
    "    filter_cold_users=True,\n",
    ")\n",
    "print(f\"Real number of folds: {cv_v1.get_test_fold_borders(Interactions(interactions))}\")\n",
    "\n",
    "CV = [cv_v1]"
   ]
  },
  {
   "cell_type": "markdown",
   "id": "e15a83a7",
   "metadata": {},
   "source": [
    "**Формируем метрики**"
   ]
  },
  {
   "cell_type": "code",
   "execution_count": 42,
   "id": "8f7742c6",
   "metadata": {},
   "outputs": [],
   "source": [
    "metrics = {\n",
    "    \"prec@10\": Precision(k=10),\n",
    "    \"recall@10\": Recall(k=10),\n",
    "    \"MAP@10\": MAP(k=10),\n",
    "    \"novelty\": MeanInvUserFreq(k=10),\n",
    "    \"serendipity\": Serendipity(k=10),\n",
    "}"
   ]
  },
  {
   "cell_type": "code",
   "execution_count": 43,
   "id": "b21a1ecf",
   "metadata": {},
   "outputs": [
    {
     "data": {
      "text/plain": [
       "{'cosine_userknn_K30': <implicit.nearest_neighbours.CosineRecommender at 0x7f01eff38a60>,\n",
       " 'tfidf_userknn_K30': <implicit.nearest_neighbours.TFIDFRecommender at 0x7f01ee592b90>,\n",
       " 'bm25_userknn_K30': <implicit.nearest_neighbours.BM25Recommender at 0x7f01ee592470>,\n",
       " 'cosine_userknn_K40': <implicit.nearest_neighbours.CosineRecommender at 0x7f01ee591c30>,\n",
       " 'tfidf_userknn_K40': <implicit.nearest_neighbours.TFIDFRecommender at 0x7f01ee5931f0>,\n",
       " 'bm25_userknn_K40': <implicit.nearest_neighbours.BM25Recommender at 0x7f01ee5923e0>}"
      ]
     },
     "execution_count": 43,
     "metadata": {},
     "output_type": "execute_result"
    }
   ],
   "source": [
    "K = [30, 40]\n",
    "models = dict()\n",
    "\n",
    "for k in K:\n",
    "    models[f\"cosine_userknn_K{k}\"] = CosineRecommender(K=k)\n",
    "    models[f\"tfidf_userknn_K{k}\"] = TFIDFRecommender(K=k)\n",
    "    models[f\"bm25_userknn_K{k}\"] = BM25Recommender(K=k)\n",
    "\n",
    "models"
   ]
  },
  {
   "cell_type": "markdown",
   "id": "0103149a",
   "metadata": {},
   "source": [
    "## Training"
   ]
  },
  {
   "cell_type": "code",
   "execution_count": 44,
   "id": "e78b8221",
   "metadata": {},
   "outputs": [],
   "source": [
    "N_USERS = 50"
   ]
  },
  {
   "cell_type": "code",
   "execution_count": 46,
   "id": "50dcff0b",
   "metadata": {},
   "outputs": [
    {
     "name": "stdout",
     "output_type": "stream",
     "text": [
      "\n",
      " CV version 0\n",
      "\n",
      "==================== Fold 0\n",
      "{'end': Timestamp('2021-08-23 00:00:00', freq='6D'),\n",
      " 'i_split': 0,\n",
      " 'start': Timestamp('2021-08-17 00:00:00', freq='6D'),\n",
      " 'test': 264626,\n",
      " 'test_items': 6478,\n",
      " 'test_users': 102083,\n",
      " 'train': 5106361,\n",
      " 'train_items': 15589,\n",
      " 'train_users': 913604}\n"
     ]
    },
    {
     "data": {
      "application/vnd.jupyter.widget-view+json": {
       "model_id": "057810e249644e9084031df7d082c980",
       "version_major": 2,
       "version_minor": 0
      },
      "text/plain": [
       "  0%|          | 0/15589 [00:00<?, ?it/s]"
      ]
     },
     "metadata": {},
     "output_type": "display_data"
    },
    {
     "ename": "ValueError",
     "evalue": "not enough values to unpack (expected 2, got 0)",
     "output_type": "error",
     "traceback": [
      "\u001b[0;31m---------------------------------------------------------------------------\u001b[0m",
      "\u001b[0;31mValueError\u001b[0m                                Traceback (most recent call last)",
      "File \u001b[0;32m<timed exec>:23\u001b[0m\n",
      "File \u001b[0;32m~/Рабочий стол/RecSys/new_work/RecoServiceTemplate/notebooks/../service/utils/user_knn/user_knn.py:108\u001b[0m, in \u001b[0;36mUserKnn.predict\u001b[0;34m(self, test, N_recs, bmp25)\u001b[0m\n\u001b[1;32m    101\u001b[0m mapper \u001b[39m=\u001b[39m \u001b[39mself\u001b[39m\u001b[39m.\u001b[39m_generate_recs_mapper(\n\u001b[1;32m    102\u001b[0m     user_mapping\u001b[39m=\u001b[39m\u001b[39mself\u001b[39m\u001b[39m.\u001b[39musers_mapping,\n\u001b[1;32m    103\u001b[0m     user_inv_mapping\u001b[39m=\u001b[39m\u001b[39mself\u001b[39m\u001b[39m.\u001b[39musers_inv_mapping,\n\u001b[1;32m    104\u001b[0m     N\u001b[39m=\u001b[39m\u001b[39mself\u001b[39m\u001b[39m.\u001b[39mN_users\n\u001b[1;32m    105\u001b[0m )\n\u001b[1;32m    107\u001b[0m recs \u001b[39m=\u001b[39m pd\u001b[39m.\u001b[39mDataFrame({\u001b[39m'\u001b[39m\u001b[39muser_id\u001b[39m\u001b[39m'\u001b[39m: test[\u001b[39m'\u001b[39m\u001b[39muser_id\u001b[39m\u001b[39m'\u001b[39m]\u001b[39m.\u001b[39munique()})\n\u001b[0;32m--> 108\u001b[0m recs[\u001b[39m'\u001b[39m\u001b[39msim_user_id\u001b[39m\u001b[39m'\u001b[39m], recs[\u001b[39m'\u001b[39m\u001b[39msim\u001b[39m\u001b[39m'\u001b[39m] \u001b[39m=\u001b[39m \u001b[39mzip\u001b[39m(\u001b[39m*\u001b[39mrecs[\u001b[39m'\u001b[39;49m\u001b[39muser_id\u001b[39;49m\u001b[39m'\u001b[39;49m]\u001b[39m.\u001b[39;49mmap(mapper))\n\u001b[1;32m    109\u001b[0m recs \u001b[39m=\u001b[39m recs\u001b[39m.\u001b[39mset_index(\u001b[39m'\u001b[39m\u001b[39muser_id\u001b[39m\u001b[39m'\u001b[39m)\u001b[39m.\u001b[39mapply(pd\u001b[39m.\u001b[39mSeries\u001b[39m.\u001b[39mexplode)\u001b[39m.\u001b[39mreset_index()\n\u001b[1;32m    111\u001b[0m \u001b[39mif\u001b[39;00m \u001b[39mnot\u001b[39;00m bmp25:\n",
      "File \u001b[0;32m~/Рабочий стол/RecSys/new_work/RecoServiceTemplate/.venv/lib/python3.10/site-packages/pandas/core/series.py:4539\u001b[0m, in \u001b[0;36mSeries.map\u001b[0;34m(self, arg, na_action)\u001b[0m\n\u001b[1;32m   4460\u001b[0m \u001b[39mdef\u001b[39;00m \u001b[39mmap\u001b[39m(\n\u001b[1;32m   4461\u001b[0m     \u001b[39mself\u001b[39m,\n\u001b[1;32m   4462\u001b[0m     arg: Callable \u001b[39m|\u001b[39m Mapping \u001b[39m|\u001b[39m Series,\n\u001b[1;32m   4463\u001b[0m     na_action: Literal[\u001b[39m\"\u001b[39m\u001b[39mignore\u001b[39m\u001b[39m\"\u001b[39m] \u001b[39m|\u001b[39m \u001b[39mNone\u001b[39;00m \u001b[39m=\u001b[39m \u001b[39mNone\u001b[39;00m,\n\u001b[1;32m   4464\u001b[0m ) \u001b[39m-\u001b[39m\u001b[39m>\u001b[39m Series:\n\u001b[1;32m   4465\u001b[0m \u001b[39m    \u001b[39m\u001b[39m\"\"\"\u001b[39;00m\n\u001b[1;32m   4466\u001b[0m \u001b[39m    Map values of Series according to an input mapping or function.\u001b[39;00m\n\u001b[1;32m   4467\u001b[0m \n\u001b[0;32m   (...)\u001b[0m\n\u001b[1;32m   4537\u001b[0m \u001b[39m    dtype: object\u001b[39;00m\n\u001b[1;32m   4538\u001b[0m \u001b[39m    \"\"\"\u001b[39;00m\n\u001b[0;32m-> 4539\u001b[0m     new_values \u001b[39m=\u001b[39m \u001b[39mself\u001b[39;49m\u001b[39m.\u001b[39;49m_map_values(arg, na_action\u001b[39m=\u001b[39;49mna_action)\n\u001b[1;32m   4540\u001b[0m     \u001b[39mreturn\u001b[39;00m \u001b[39mself\u001b[39m\u001b[39m.\u001b[39m_constructor(new_values, index\u001b[39m=\u001b[39m\u001b[39mself\u001b[39m\u001b[39m.\u001b[39mindex)\u001b[39m.\u001b[39m__finalize__(\n\u001b[1;32m   4541\u001b[0m         \u001b[39mself\u001b[39m, method\u001b[39m=\u001b[39m\u001b[39m\"\u001b[39m\u001b[39mmap\u001b[39m\u001b[39m\"\u001b[39m\n\u001b[1;32m   4542\u001b[0m     )\n",
      "File \u001b[0;32m~/Рабочий стол/RecSys/new_work/RecoServiceTemplate/.venv/lib/python3.10/site-packages/pandas/core/base.py:890\u001b[0m, in \u001b[0;36mIndexOpsMixin._map_values\u001b[0;34m(self, mapper, na_action)\u001b[0m\n\u001b[1;32m    887\u001b[0m         \u001b[39mraise\u001b[39;00m \u001b[39mValueError\u001b[39;00m(msg)\n\u001b[1;32m    889\u001b[0m \u001b[39m# mapper is a function\u001b[39;00m\n\u001b[0;32m--> 890\u001b[0m new_values \u001b[39m=\u001b[39m map_f(values, mapper)\n\u001b[1;32m    892\u001b[0m \u001b[39mreturn\u001b[39;00m new_values\n",
      "File \u001b[0;32m~/Рабочий стол/RecSys/new_work/RecoServiceTemplate/.venv/lib/python3.10/site-packages/pandas/_libs/lib.pyx:2924\u001b[0m, in \u001b[0;36mpandas._libs.lib.map_infer\u001b[0;34m()\u001b[0m\n",
      "File \u001b[0;32m~/Рабочий стол/RecSys/new_work/RecoServiceTemplate/notebooks/../service/utils/user_knn/user_knn.py:86\u001b[0m, in \u001b[0;36mUserKnn._generate_recs_mapper.<locals>._recs_mapper\u001b[0;34m(user)\u001b[0m\n\u001b[1;32m     83\u001b[0m user_id \u001b[39m=\u001b[39m user_mapping[user]\n\u001b[1;32m     84\u001b[0m recs \u001b[39m=\u001b[39m \u001b[39mself\u001b[39m\u001b[39m.\u001b[39muser_knn\u001b[39m.\u001b[39msimilar_items(user_id, N\u001b[39m=\u001b[39mN)\n\u001b[1;32m     85\u001b[0m \u001b[39mreturn\u001b[39;00m (\n\u001b[0;32m---> 86\u001b[0m     [user_inv_mapping[user] \u001b[39mfor\u001b[39;00m user, _ \u001b[39min\u001b[39;00m recs],\n\u001b[1;32m     87\u001b[0m     [sim \u001b[39mfor\u001b[39;00m _, sim \u001b[39min\u001b[39;00m recs]\n\u001b[1;32m     88\u001b[0m )\n",
      "File \u001b[0;32m~/Рабочий стол/RecSys/new_work/RecoServiceTemplate/notebooks/../service/utils/user_knn/user_knn.py:86\u001b[0m, in \u001b[0;36m<listcomp>\u001b[0;34m(.0)\u001b[0m\n\u001b[1;32m     83\u001b[0m user_id \u001b[39m=\u001b[39m user_mapping[user]\n\u001b[1;32m     84\u001b[0m recs \u001b[39m=\u001b[39m \u001b[39mself\u001b[39m\u001b[39m.\u001b[39muser_knn\u001b[39m.\u001b[39msimilar_items(user_id, N\u001b[39m=\u001b[39mN)\n\u001b[1;32m     85\u001b[0m \u001b[39mreturn\u001b[39;00m (\n\u001b[0;32m---> 86\u001b[0m     [user_inv_mapping[user] \u001b[39mfor\u001b[39;00m user, _ \u001b[39min\u001b[39;00m recs],\n\u001b[1;32m     87\u001b[0m     [sim \u001b[39mfor\u001b[39;00m _, sim \u001b[39min\u001b[39;00m recs]\n\u001b[1;32m     88\u001b[0m )\n",
      "\u001b[0;31mValueError\u001b[0m: not enough values to unpack (expected 2, got 0)"
     ]
    }
   ],
   "source": [
    "%%time\n",
    "\n",
    "results = []\n",
    "\n",
    "for idx, cv in enumerate(CV):\n",
    "    print(f\"\\n CV version {idx}\")\n",
    "    fold_iterator = cv.split(Interactions(interactions), collect_fold_stats=True)\n",
    "\n",
    "    for i_fold, (train_ids, test_ids, fold_info) in enumerate(fold_iterator):\n",
    "        print(f\"\\n==================== Fold {i_fold}\")\n",
    "        pprint(fold_info)\n",
    "\n",
    "        df_train = interactions.iloc[train_ids].copy()\n",
    "        df_test = interactions.iloc[test_ids][Columns.UserItem].copy()\n",
    "\n",
    "        catalog = df_train[Columns.Item].unique()\n",
    "\n",
    "        for model_name, model in models.items():\n",
    "            userknn_model = user_knn.UserKnn(model=model, N_users=N_USERS, use_weight_idf=True)\n",
    "            userknn_model.fit(df_train)\n",
    "\n",
    "            if 'bm25' in model_name:\n",
    "                recos = userknn_model.predict(df_test, bmp25=True)\n",
    "            else:\n",
    "                recos = userknn_model.predict(df_test)\n",
    "\n",
    "            metric_values = calc_metrics(\n",
    "                metrics,\n",
    "                reco=recos,\n",
    "                interactions=df_test,\n",
    "                prev_interactions=df_train,\n",
    "                catalog=catalog,\n",
    "            )\n",
    "\n",
    "            full_model_name = f\"{model_name}_cv-{idx}\"\n",
    "            fold = {\"fold\": i_fold, \"model\": full_model_name}\n",
    "            fold.update(metric_values)\n",
    "            results.append(fold)"
   ]
  },
  {
   "cell_type": "markdown",
   "id": "708ec5c2",
   "metadata": {},
   "source": [
    "Работало больше 10 часов, случайно при перезапуске ноутбука была вызвана ячейка и остановлена, поэтому завершилась с ошибкой, поэтому ошибку убрали для лучшего вида"
   ]
  },
  {
   "cell_type": "code",
   "execution_count": 47,
   "id": "d7e2ffa7",
   "metadata": {
    "collapsed": true
   },
   "outputs": [
    {
     "data": {
      "text/html": [
       "<div>\n",
       "<style scoped>\n",
       "    .dataframe tbody tr th:only-of-type {\n",
       "        vertical-align: middle;\n",
       "    }\n",
       "\n",
       "    .dataframe tbody tr th {\n",
       "        vertical-align: top;\n",
       "    }\n",
       "\n",
       "    .dataframe thead th {\n",
       "        text-align: right;\n",
       "    }\n",
       "</style>\n",
       "<table border=\"1\" class=\"dataframe\">\n",
       "  <thead>\n",
       "    <tr style=\"text-align: right;\">\n",
       "      <th></th>\n",
       "    </tr>\n",
       "  </thead>\n",
       "  <tbody>\n",
       "  </tbody>\n",
       "</table>\n",
       "</div>"
      ],
      "text/plain": [
       "Empty DataFrame\n",
       "Columns: []\n",
       "Index: []"
      ]
     },
     "execution_count": 47,
     "metadata": {},
     "output_type": "execute_result"
    }
   ],
   "source": [
    "df_metrics = pd.DataFrame(results)\n",
    "df_metrics"
   ]
  },
  {
   "cell_type": "code",
   "execution_count": 47,
   "id": "a0334b9a",
   "metadata": {},
   "outputs": [],
   "source": [
    "df_metrics.to_pickle(\"../data/hw_3/df_metrics.pickle\")"
   ]
  },
  {
   "cell_type": "code",
   "execution_count": 48,
   "id": "446530ce",
   "metadata": {},
   "outputs": [
    {
     "data": {
      "text/html": [
       "<div>\n",
       "<style scoped>\n",
       "    .dataframe tbody tr th:only-of-type {\n",
       "        vertical-align: middle;\n",
       "    }\n",
       "\n",
       "    .dataframe tbody tr th {\n",
       "        vertical-align: top;\n",
       "    }\n",
       "\n",
       "    .dataframe thead th {\n",
       "        text-align: right;\n",
       "    }\n",
       "</style>\n",
       "<table border=\"1\" class=\"dataframe\">\n",
       "  <thead>\n",
       "    <tr style=\"text-align: right;\">\n",
       "      <th></th>\n",
       "      <th>fold</th>\n",
       "      <th>prec@10</th>\n",
       "      <th>recall@10</th>\n",
       "      <th>MAP@10</th>\n",
       "      <th>novelty</th>\n",
       "      <th>serendipity</th>\n",
       "    </tr>\n",
       "    <tr>\n",
       "      <th>model</th>\n",
       "      <th></th>\n",
       "      <th></th>\n",
       "      <th></th>\n",
       "      <th></th>\n",
       "      <th></th>\n",
       "      <th></th>\n",
       "    </tr>\n",
       "  </thead>\n",
       "  <tbody>\n",
       "    <tr>\n",
       "      <th>bm25_userknn_K30_cv-0</th>\n",
       "      <td>3.0</td>\n",
       "      <td>0.002623</td>\n",
       "      <td>0.012980</td>\n",
       "      <td>0.002507</td>\n",
       "      <td>9.563068</td>\n",
       "      <td>0.000091</td>\n",
       "    </tr>\n",
       "    <tr>\n",
       "      <th>bm25_userknn_K40_cv-0</th>\n",
       "      <td>3.0</td>\n",
       "      <td>0.002320</td>\n",
       "      <td>0.011307</td>\n",
       "      <td>0.002230</td>\n",
       "      <td>9.827477</td>\n",
       "      <td>0.000090</td>\n",
       "    </tr>\n",
       "    <tr>\n",
       "      <th>cosine_userknn_K30_cv-0</th>\n",
       "      <td>3.0</td>\n",
       "      <td>0.003241</td>\n",
       "      <td>0.018466</td>\n",
       "      <td>0.003272</td>\n",
       "      <td>8.451809</td>\n",
       "      <td>0.000045</td>\n",
       "    </tr>\n",
       "    <tr>\n",
       "      <th>cosine_userknn_K40_cv-0</th>\n",
       "      <td>3.0</td>\n",
       "      <td>0.003008</td>\n",
       "      <td>0.016994</td>\n",
       "      <td>0.003028</td>\n",
       "      <td>8.673252</td>\n",
       "      <td>0.000047</td>\n",
       "    </tr>\n",
       "    <tr>\n",
       "      <th>tfidf_userknn_K30_cv-0</th>\n",
       "      <td>3.0</td>\n",
       "      <td>0.005928</td>\n",
       "      <td>0.034234</td>\n",
       "      <td>0.006449</td>\n",
       "      <td>8.272573</td>\n",
       "      <td>0.000058</td>\n",
       "    </tr>\n",
       "    <tr>\n",
       "      <th>tfidf_userknn_K40_cv-0</th>\n",
       "      <td>3.0</td>\n",
       "      <td>0.005826</td>\n",
       "      <td>0.033600</td>\n",
       "      <td>0.006334</td>\n",
       "      <td>8.404775</td>\n",
       "      <td>0.000061</td>\n",
       "    </tr>\n",
       "  </tbody>\n",
       "</table>\n",
       "</div>"
      ],
      "text/plain": [
       "                         fold   prec@10  recall@10    MAP@10   novelty  \\\n",
       "model                                                                    \n",
       "bm25_userknn_K30_cv-0     3.0  0.002623   0.012980  0.002507  9.563068   \n",
       "bm25_userknn_K40_cv-0     3.0  0.002320   0.011307  0.002230  9.827477   \n",
       "cosine_userknn_K30_cv-0   3.0  0.003241   0.018466  0.003272  8.451809   \n",
       "cosine_userknn_K40_cv-0   3.0  0.003008   0.016994  0.003028  8.673252   \n",
       "tfidf_userknn_K30_cv-0    3.0  0.005928   0.034234  0.006449  8.272573   \n",
       "tfidf_userknn_K40_cv-0    3.0  0.005826   0.033600  0.006334  8.404775   \n",
       "\n",
       "                         serendipity  \n",
       "model                                 \n",
       "bm25_userknn_K30_cv-0       0.000091  \n",
       "bm25_userknn_K40_cv-0       0.000090  \n",
       "cosine_userknn_K30_cv-0     0.000045  \n",
       "cosine_userknn_K40_cv-0     0.000047  \n",
       "tfidf_userknn_K30_cv-0      0.000058  \n",
       "tfidf_userknn_K40_cv-0      0.000061  "
      ]
     },
     "execution_count": 48,
     "metadata": {},
     "output_type": "execute_result"
    }
   ],
   "source": [
    "df_metrics.groupby('model').mean()"
   ]
  },
  {
   "cell_type": "code",
   "execution_count": 49,
   "id": "5fb9ba9f",
   "metadata": {},
   "outputs": [
    {
     "data": {
      "text/html": [
       "<div>\n",
       "<style scoped>\n",
       "    .dataframe tbody tr th:only-of-type {\n",
       "        vertical-align: middle;\n",
       "    }\n",
       "\n",
       "    .dataframe tbody tr th {\n",
       "        vertical-align: top;\n",
       "    }\n",
       "\n",
       "    .dataframe thead th {\n",
       "        text-align: right;\n",
       "    }\n",
       "</style>\n",
       "<table border=\"1\" class=\"dataframe\">\n",
       "  <thead>\n",
       "    <tr style=\"text-align: right;\">\n",
       "      <th></th>\n",
       "      <th>prec@10</th>\n",
       "      <th>recall@10</th>\n",
       "      <th>MAP@10</th>\n",
       "      <th>novelty</th>\n",
       "      <th>serendipity</th>\n",
       "    </tr>\n",
       "    <tr>\n",
       "      <th>model</th>\n",
       "      <th></th>\n",
       "      <th></th>\n",
       "      <th></th>\n",
       "      <th></th>\n",
       "      <th></th>\n",
       "    </tr>\n",
       "  </thead>\n",
       "  <tbody>\n",
       "    <tr>\n",
       "      <th>bm25_userknn_K30_cv-0</th>\n",
       "      <td>0.000072</td>\n",
       "      <td>0.000612</td>\n",
       "      <td>0.000083</td>\n",
       "      <td>0.104468</td>\n",
       "      <td>0.000007</td>\n",
       "    </tr>\n",
       "    <tr>\n",
       "      <th>bm25_userknn_K40_cv-0</th>\n",
       "      <td>0.000074</td>\n",
       "      <td>0.000442</td>\n",
       "      <td>0.000081</td>\n",
       "      <td>0.097359</td>\n",
       "      <td>0.000007</td>\n",
       "    </tr>\n",
       "    <tr>\n",
       "      <th>cosine_userknn_K30_cv-0</th>\n",
       "      <td>0.000231</td>\n",
       "      <td>0.001749</td>\n",
       "      <td>0.000314</td>\n",
       "      <td>0.074699</td>\n",
       "      <td>0.000003</td>\n",
       "    </tr>\n",
       "    <tr>\n",
       "      <th>cosine_userknn_K40_cv-0</th>\n",
       "      <td>0.000213</td>\n",
       "      <td>0.001603</td>\n",
       "      <td>0.000295</td>\n",
       "      <td>0.069310</td>\n",
       "      <td>0.000003</td>\n",
       "    </tr>\n",
       "    <tr>\n",
       "      <th>tfidf_userknn_K30_cv-0</th>\n",
       "      <td>0.000398</td>\n",
       "      <td>0.003003</td>\n",
       "      <td>0.000577</td>\n",
       "      <td>0.066627</td>\n",
       "      <td>0.000005</td>\n",
       "    </tr>\n",
       "    <tr>\n",
       "      <th>tfidf_userknn_K40_cv-0</th>\n",
       "      <td>0.000321</td>\n",
       "      <td>0.002534</td>\n",
       "      <td>0.000487</td>\n",
       "      <td>0.059565</td>\n",
       "      <td>0.000004</td>\n",
       "    </tr>\n",
       "  </tbody>\n",
       "</table>\n",
       "</div>"
      ],
      "text/plain": [
       "                          prec@10  recall@10    MAP@10   novelty  serendipity\n",
       "model                                                                        \n",
       "bm25_userknn_K30_cv-0    0.000072   0.000612  0.000083  0.104468     0.000007\n",
       "bm25_userknn_K40_cv-0    0.000074   0.000442  0.000081  0.097359     0.000007\n",
       "cosine_userknn_K30_cv-0  0.000231   0.001749  0.000314  0.074699     0.000003\n",
       "cosine_userknn_K40_cv-0  0.000213   0.001603  0.000295  0.069310     0.000003\n",
       "tfidf_userknn_K30_cv-0   0.000398   0.003003  0.000577  0.066627     0.000005\n",
       "tfidf_userknn_K40_cv-0   0.000321   0.002534  0.000487  0.059565     0.000004"
      ]
     },
     "execution_count": 49,
     "metadata": {},
     "output_type": "execute_result"
    }
   ],
   "source": [
    "df_metrics.groupby('model').std()[metrics.keys()]"
   ]
  },
  {
   "cell_type": "markdown",
   "id": "41828ee5",
   "metadata": {},
   "source": [
    "по **ofline** метрикам лучше всего себя показывает модель TFIDFRecommender\n",
    "TFIDFRecommender подбор К"
   ]
  },
  {
   "cell_type": "markdown",
   "id": "7a8a0a41",
   "metadata": {},
   "source": [
    "# Подбор оптимального K для TFIDFRecommender"
   ]
  },
  {
   "cell_type": "code",
   "execution_count": 48,
   "id": "1e91892d",
   "metadata": {},
   "outputs": [
    {
     "data": {
      "text/plain": [
       "{'tfidf_userknn_K50': <implicit.nearest_neighbours.TFIDFRecommender at 0x7f01d1b999c0>,\n",
       " 'tfidf_userknn_K60': <implicit.nearest_neighbours.TFIDFRecommender at 0x7f01d1b99e10>,\n",
       " 'tfidf_userknn_K70': <implicit.nearest_neighbours.TFIDFRecommender at 0x7f01d1b9a2f0>}"
      ]
     },
     "execution_count": 48,
     "metadata": {},
     "output_type": "execute_result"
    }
   ],
   "source": [
    "N_USERS = 50\n",
    "\n",
    "# Т.к. метрики для К 30 и 40 уже есть\n",
    "K = [k for k in range(50, 71, 10)]\n",
    "models = dict()\n",
    "\n",
    "for k in K:\n",
    "    models[f\"tfidf_userknn_K{k}\"] = TFIDFRecommender(K=k)\n",
    "models"
   ]
  },
  {
   "cell_type": "code",
   "execution_count": null,
   "id": "e7c2c43b",
   "metadata": {},
   "outputs": [
    {
     "name": "stdout",
     "output_type": "stream",
     "text": [
      "\n",
      "==================== Fold 0\n",
      "{'End date': Timestamp('2021-07-18 00:00:00', freq='5D'),\n",
      " 'Start date': Timestamp('2021-07-13 00:00:00', freq='5D'),\n",
      " 'Test': 156580,\n",
      " 'Test items': 5793,\n",
      " 'Test users': 68150,\n",
      " 'Train': 3281612,\n",
      " 'Train items': 14754,\n",
      " 'Train users': 652905}\n"
     ]
    },
    {
     "data": {
      "application/vnd.jupyter.widget-view+json": {
       "model_id": "211234f034a54bae86b94dff33b9f5c4",
       "version_major": 2,
       "version_minor": 0
      },
      "text/plain": [
       "  0%|          | 0/652905 [00:00<?, ?it/s]"
      ]
     },
     "metadata": {},
     "output_type": "display_data"
    }
   ],
   "source": [
    "%%time\n",
    "\n",
    "results_idf = []\n",
    "\n",
    "fold_iterator = cv_v1.split(Interactions(interactions), collect_fold_stats=True)\n",
    "\n",
    "for i_fold, (train_ids, test_ids, fold_info) in enumerate(fold_iterator):\n",
    "    print(f\"\\n==================== Fold {i_fold}\")\n",
    "    pprint(fold_info)\n",
    "\n",
    "    df_train = interactions.iloc[train_ids].copy()\n",
    "    df_test = interactions.iloc[test_ids][Columns.UserItem].copy()\n",
    "\n",
    "    catalog = df_train[Columns.Item].unique()\n",
    "\n",
    "    for model_name, model in models.items():\n",
    "        userknn_model = UserKnn(model=model, N_users=N_USERS)\n",
    "        userknn_model.fit(df_train)\n",
    "        recos = userknn_model.predict(df_test)\n",
    "\n",
    "        metric_values = calc_metrics(\n",
    "            metrics,\n",
    "            reco=recos,\n",
    "            interactions=df_test,\n",
    "            prev_interactions=df_train,\n",
    "            catalog=catalog,\n",
    "        )\n",
    "\n",
    "        full_model_name = f\"{model_name}\"\n",
    "        fold = {\"fold\": i_fold, \"model\": full_model_name}\n",
    "        fold.update(metric_values)\n",
    "        results_idf.append(fold)"
   ]
  },
  {
   "cell_type": "code",
   "execution_count": null,
   "id": "37a896aa",
   "metadata": {},
   "outputs": [],
   "source": [
    "df_metrics_tfidf = pd.DataFrame(results_idf)\n",
    "df_metrics_tfidf"
   ]
  },
  {
   "cell_type": "markdown",
   "id": "073517d2",
   "metadata": {},
   "source": [
    "# Train TFIDFRecommender on all data"
   ]
  },
  {
   "cell_type": "markdown",
   "id": "13ca7a8b",
   "metadata": {},
   "source": [
    "Обучение TFIDFRecommender на всём объеме данных"
   ]
  },
  {
   "cell_type": "code",
   "execution_count": 49,
   "id": "278879e0",
   "metadata": {},
   "outputs": [
    {
     "data": {
      "application/vnd.jupyter.widget-view+json": {
       "model_id": "26945d8241a54adb8567f4736f597bb5",
       "version_major": 2,
       "version_minor": 0
      },
      "text/plain": [
       "  0%|          | 0/15706 [00:00<?, ?it/s]"
      ]
     },
     "metadata": {},
     "output_type": "display_data"
    },
    {
     "name": "stdout",
     "output_type": "stream",
     "text": [
      "CPU times: user 34.3 s, sys: 2.7 s, total: 37 s\n",
      "Wall time: 33.9 s\n"
     ]
    }
   ],
   "source": [
    "%%time\n",
    "\n",
    "results = []\n",
    "\n",
    "df_train = interactions.copy()\n",
    "catalog = df_train[Columns.Item].unique()\n",
    "\n",
    "tfidf_model = TFIDFRecommender(K=30)\n",
    "userknn_model = user_knn.UserKnn(model=tfidf_model, N_users=50, use_weight_idf=True)\n",
    "userknn_model.fit(df_train)"
   ]
  },
  {
   "cell_type": "code",
   "execution_count": 50,
   "id": "49f8bf89",
   "metadata": {},
   "outputs": [],
   "source": [
    "import dill\n",
    "\n",
    "with open('../service/weights/userKNN/userknn_tfidf_k30.dill', 'wb') as f:\n",
    "    dill.dump(userknn_model.user_knn, f)"
   ]
  },
  {
   "cell_type": "code",
   "execution_count": 51,
   "id": "fd4b5830",
   "metadata": {},
   "outputs": [
    {
     "data": {
      "text/plain": [
       "user_id                     176549\n",
       "item_id                       9506\n",
       "datetime       2021-05-11 00:00:00\n",
       "weight                      4250.0\n",
       "watched_pct                   72.0\n",
       "Name: 0, dtype: object"
      ]
     },
     "execution_count": 51,
     "metadata": {},
     "output_type": "execute_result"
    }
   ],
   "source": [
    "df_train.iloc[0]"
   ]
  },
  {
   "cell_type": "code",
   "execution_count": 52,
   "id": "9408bc58",
   "metadata": {
    "scrolled": true
   },
   "outputs": [
    {
     "data": {
      "text/plain": [
       "False"
      ]
     },
     "execution_count": 52,
     "metadata": {},
     "output_type": "execute_result"
    }
   ],
   "source": [
    "555555555 in df_train[Columns.User].tolist()"
   ]
  },
  {
   "cell_type": "code",
   "execution_count": 53,
   "id": "f614ccaf",
   "metadata": {},
   "outputs": [
    {
     "data": {
      "text/html": [
       "<div>\n",
       "<style scoped>\n",
       "    .dataframe tbody tr th:only-of-type {\n",
       "        vertical-align: middle;\n",
       "    }\n",
       "\n",
       "    .dataframe tbody tr th {\n",
       "        vertical-align: top;\n",
       "    }\n",
       "\n",
       "    .dataframe thead th {\n",
       "        text-align: right;\n",
       "    }\n",
       "</style>\n",
       "<table border=\"1\" class=\"dataframe\">\n",
       "  <thead>\n",
       "    <tr style=\"text-align: right;\">\n",
       "      <th></th>\n",
       "      <th>user_id</th>\n",
       "      <th>item_id</th>\n",
       "      <th>datetime</th>\n",
       "      <th>weight</th>\n",
       "      <th>watched_pct</th>\n",
       "    </tr>\n",
       "  </thead>\n",
       "  <tbody>\n",
       "    <tr>\n",
       "      <th>0</th>\n",
       "      <td>176549</td>\n",
       "      <td>9506</td>\n",
       "      <td>2021-05-11</td>\n",
       "      <td>4250.0</td>\n",
       "      <td>72.0</td>\n",
       "    </tr>\n",
       "    <tr>\n",
       "      <th>1</th>\n",
       "      <td>699317</td>\n",
       "      <td>1659</td>\n",
       "      <td>2021-05-29</td>\n",
       "      <td>8317.0</td>\n",
       "      <td>100.0</td>\n",
       "    </tr>\n",
       "    <tr>\n",
       "      <th>2</th>\n",
       "      <td>656683</td>\n",
       "      <td>7107</td>\n",
       "      <td>2021-05-09</td>\n",
       "      <td>10.0</td>\n",
       "      <td>0.0</td>\n",
       "    </tr>\n",
       "    <tr>\n",
       "      <th>3</th>\n",
       "      <td>864613</td>\n",
       "      <td>7638</td>\n",
       "      <td>2021-07-05</td>\n",
       "      <td>14483.0</td>\n",
       "      <td>100.0</td>\n",
       "    </tr>\n",
       "    <tr>\n",
       "      <th>4</th>\n",
       "      <td>964868</td>\n",
       "      <td>9506</td>\n",
       "      <td>2021-04-30</td>\n",
       "      <td>6725.0</td>\n",
       "      <td>100.0</td>\n",
       "    </tr>\n",
       "    <tr>\n",
       "      <th>5476246</th>\n",
       "      <td>648596</td>\n",
       "      <td>12225</td>\n",
       "      <td>2021-08-13</td>\n",
       "      <td>76.0</td>\n",
       "      <td>0.0</td>\n",
       "    </tr>\n",
       "    <tr>\n",
       "      <th>5476247</th>\n",
       "      <td>546862</td>\n",
       "      <td>9673</td>\n",
       "      <td>2021-04-13</td>\n",
       "      <td>2308.0</td>\n",
       "      <td>49.0</td>\n",
       "    </tr>\n",
       "    <tr>\n",
       "      <th>5476248</th>\n",
       "      <td>697262</td>\n",
       "      <td>15297</td>\n",
       "      <td>2021-08-20</td>\n",
       "      <td>18307.0</td>\n",
       "      <td>63.0</td>\n",
       "    </tr>\n",
       "    <tr>\n",
       "      <th>5476249</th>\n",
       "      <td>384202</td>\n",
       "      <td>16197</td>\n",
       "      <td>2021-04-19</td>\n",
       "      <td>6203.0</td>\n",
       "      <td>100.0</td>\n",
       "    </tr>\n",
       "    <tr>\n",
       "      <th>5476250</th>\n",
       "      <td>319709</td>\n",
       "      <td>4436</td>\n",
       "      <td>2021-08-15</td>\n",
       "      <td>3921.0</td>\n",
       "      <td>45.0</td>\n",
       "    </tr>\n",
       "  </tbody>\n",
       "</table>\n",
       "</div>"
      ],
      "text/plain": [
       "         user_id  item_id   datetime   weight  watched_pct\n",
       "0         176549     9506 2021-05-11   4250.0         72.0\n",
       "1         699317     1659 2021-05-29   8317.0        100.0\n",
       "2         656683     7107 2021-05-09     10.0          0.0\n",
       "3         864613     7638 2021-07-05  14483.0        100.0\n",
       "4         964868     9506 2021-04-30   6725.0        100.0\n",
       "5476246   648596    12225 2021-08-13     76.0          0.0\n",
       "5476247   546862     9673 2021-04-13   2308.0         49.0\n",
       "5476248   697262    15297 2021-08-20  18307.0         63.0\n",
       "5476249   384202    16197 2021-04-19   6203.0        100.0\n",
       "5476250   319709     4436 2021-08-15   3921.0         45.0"
      ]
     },
     "execution_count": 53,
     "metadata": {},
     "output_type": "execute_result"
    }
   ],
   "source": [
    "pd.concat([interactions.head(), interactions.tail()])"
   ]
  },
  {
   "cell_type": "code",
   "execution_count": 54,
   "id": "dc4d9fd7",
   "metadata": {},
   "outputs": [
    {
     "data": {
      "text/plain": [
       "(962179,)"
      ]
     },
     "execution_count": 54,
     "metadata": {},
     "output_type": "execute_result"
    }
   ],
   "source": [
    "interactions['user_id'].unique().shape"
   ]
  },
  {
   "cell_type": "code",
   "execution_count": 55,
   "id": "b7861d19",
   "metadata": {},
   "outputs": [
    {
     "data": {
      "text/plain": [
       "(array([], dtype=float64), array([], dtype=float64))"
      ]
     },
     "execution_count": 55,
     "metadata": {},
     "output_type": "execute_result"
    }
   ],
   "source": [
    "import dill\n",
    "\n",
    "with open('../service/weights/userKNN/userknn_tfidf_k30.dill', 'rb') as f:\n",
    "    userknn = dill.load(f)\n",
    "\n",
    "userknn.similar_items(962178, 10)"
   ]
  },
  {
   "cell_type": "markdown",
   "id": "1905033a",
   "metadata": {},
   "source": [
    "# Popular Model"
   ]
  },
  {
   "cell_type": "code",
   "execution_count": 56,
   "id": "2df74dba",
   "metadata": {},
   "outputs": [],
   "source": [
    "from rectools.models import PopularModel\n",
    "from rectools.dataset import Dataset"
   ]
  },
  {
   "cell_type": "code",
   "execution_count": 57,
   "id": "6ba37a73",
   "metadata": {},
   "outputs": [
    {
     "data": {
      "text/plain": [
       "Timestamp('2021-08-22 00:00:00')"
      ]
     },
     "execution_count": 57,
     "metadata": {},
     "output_type": "execute_result"
    }
   ],
   "source": [
    "max_date = interactions[Columns.Datetime].max().normalize()\n",
    "max_date"
   ]
  },
  {
   "cell_type": "code",
   "execution_count": 58,
   "id": "901353f9",
   "metadata": {
    "scrolled": true
   },
   "outputs": [],
   "source": [
    "train = interactions[[Columns.User, Columns.Item, Columns.Weight, Columns.Datetime]][\n",
    "            interactions[Columns.Datetime] < max_date - pd.Timedelta(5, \"D\")]\n",
    "\n",
    "test = interactions[[Columns.User, Columns.Item, Columns.Weight, Columns.Datetime]][\n",
    "           interactions[Columns.Datetime] >= max_date - pd.Timedelta(5, \"D\")]\n",
    "\n",
    "dataset_train = Dataset.construct(train)"
   ]
  },
  {
   "cell_type": "code",
   "execution_count": 59,
   "id": "f08e3579",
   "metadata": {},
   "outputs": [],
   "source": [
    "popilarity_models = {\n",
    "    \"popular\": PopularModel(),\n",
    "    \"popular_mw\": PopularModel(popularity=\"mean_weight\")\n",
    "}"
   ]
  },
  {
   "cell_type": "code",
   "execution_count": 60,
   "id": "03c3bfb6",
   "metadata": {},
   "outputs": [],
   "source": [
    "popilarity_models[\"popular\"].fit(dataset_train)\n",
    "popilarity_models[\"popular_mw\"].fit(dataset_train);"
   ]
  },
  {
   "cell_type": "code",
   "execution_count": 61,
   "id": "0d7de49e",
   "metadata": {},
   "outputs": [
    {
     "data": {
      "text/plain": [
       "array([ 24,  20,  31,  15, 167,  81,  89, 135, 355, 116])"
      ]
     },
     "execution_count": 61,
     "metadata": {},
     "output_type": "execute_result"
    }
   ],
   "source": [
    "popilarity_models[\"popular\"].popularity_list[0][:10]"
   ]
  },
  {
   "cell_type": "code",
   "execution_count": 62,
   "id": "05ff208d",
   "metadata": {},
   "outputs": [
    {
     "data": {
      "text/plain": [
       "array([11363, 11681, 12841, 13017,  2069, 13691, 13552, 13397, 11774,\n",
       "       12913])"
      ]
     },
     "execution_count": 62,
     "metadata": {},
     "output_type": "execute_result"
    }
   ],
   "source": [
    "popilarity_models[\"popular_mw\"].popularity_list[0][:10]"
   ]
  },
  {
   "cell_type": "code",
   "execution_count": 63,
   "id": "00ef735c",
   "metadata": {},
   "outputs": [
    {
     "ename": "NameError",
     "evalue": "name 'dataset' is not defined",
     "output_type": "error",
     "traceback": [
      "\u001b[0;31m---------------------------------------------------------------------------\u001b[0m",
      "\u001b[0;31mNameError\u001b[0m                                 Traceback (most recent call last)",
      "\u001b[1;32m/home/bazilyq/Рабочий стол/RecSys/new_work/RecoServiceTemplate/notebooks/HW-3.1.ipynb Cell 63\u001b[0m line \u001b[0;36m3\n\u001b[1;32m      <a href='vscode-notebook-cell:/home/bazilyq/%D0%A0%D0%B0%D0%B1%D0%BE%D1%87%D0%B8%D0%B9%20%D1%81%D1%82%D0%BE%D0%BB/RecSys/new_work/RecoServiceTemplate/notebooks/HW-3.1.ipynb#Y114sZmlsZQ%3D%3D?line=0'>1</a>\u001b[0m pecos_pop \u001b[39m=\u001b[39m popilarity_models[\u001b[39m\"\u001b[39m\u001b[39mpopular\u001b[39m\u001b[39m\"\u001b[39m]\u001b[39m.\u001b[39mrecommend(\n\u001b[1;32m      <a href='vscode-notebook-cell:/home/bazilyq/%D0%A0%D0%B0%D0%B1%D0%BE%D1%87%D0%B8%D0%B9%20%D1%81%D1%82%D0%BE%D0%BB/RecSys/new_work/RecoServiceTemplate/notebooks/HW-3.1.ipynb#Y114sZmlsZQ%3D%3D?line=1'>2</a>\u001b[0m     users\u001b[39m=\u001b[39mtest[Columns\u001b[39m.\u001b[39mUser]\u001b[39m.\u001b[39munique(),\n\u001b[0;32m----> <a href='vscode-notebook-cell:/home/bazilyq/%D0%A0%D0%B0%D0%B1%D0%BE%D1%87%D0%B8%D0%B9%20%D1%81%D1%82%D0%BE%D0%BB/RecSys/new_work/RecoServiceTemplate/notebooks/HW-3.1.ipynb#Y114sZmlsZQ%3D%3D?line=2'>3</a>\u001b[0m     dataset\u001b[39m=\u001b[39mdataset,\n\u001b[1;32m      <a href='vscode-notebook-cell:/home/bazilyq/%D0%A0%D0%B0%D0%B1%D0%BE%D1%87%D0%B8%D0%B9%20%D1%81%D1%82%D0%BE%D0%BB/RecSys/new_work/RecoServiceTemplate/notebooks/HW-3.1.ipynb#Y114sZmlsZQ%3D%3D?line=3'>4</a>\u001b[0m     k\u001b[39m=\u001b[39m\u001b[39m100\u001b[39m,\n\u001b[1;32m      <a href='vscode-notebook-cell:/home/bazilyq/%D0%A0%D0%B0%D0%B1%D0%BE%D1%87%D0%B8%D0%B9%20%D1%81%D1%82%D0%BE%D0%BB/RecSys/new_work/RecoServiceTemplate/notebooks/HW-3.1.ipynb#Y114sZmlsZQ%3D%3D?line=4'>5</a>\u001b[0m     filter_viewed\u001b[39m=\u001b[39m\u001b[39mFalse\u001b[39;00m,\n\u001b[1;32m      <a href='vscode-notebook-cell:/home/bazilyq/%D0%A0%D0%B0%D0%B1%D0%BE%D1%87%D0%B8%D0%B9%20%D1%81%D1%82%D0%BE%D0%BB/RecSys/new_work/RecoServiceTemplate/notebooks/HW-3.1.ipynb#Y114sZmlsZQ%3D%3D?line=5'>6</a>\u001b[0m )\n\u001b[1;32m      <a href='vscode-notebook-cell:/home/bazilyq/%D0%A0%D0%B0%D0%B1%D0%BE%D1%87%D0%B8%D0%B9%20%D1%81%D1%82%D0%BE%D0%BB/RecSys/new_work/RecoServiceTemplate/notebooks/HW-3.1.ipynb#Y114sZmlsZQ%3D%3D?line=7'>8</a>\u001b[0m pecos_pop_mw \u001b[39m=\u001b[39m popilarity_models[\u001b[39m\"\u001b[39m\u001b[39mpopular_mw\u001b[39m\u001b[39m\"\u001b[39m]\u001b[39m.\u001b[39mrecommend(\n\u001b[1;32m      <a href='vscode-notebook-cell:/home/bazilyq/%D0%A0%D0%B0%D0%B1%D0%BE%D1%87%D0%B8%D0%B9%20%D1%81%D1%82%D0%BE%D0%BB/RecSys/new_work/RecoServiceTemplate/notebooks/HW-3.1.ipynb#Y114sZmlsZQ%3D%3D?line=8'>9</a>\u001b[0m     users\u001b[39m=\u001b[39mtest[Columns\u001b[39m.\u001b[39mUser]\u001b[39m.\u001b[39munique(),\n\u001b[1;32m     <a href='vscode-notebook-cell:/home/bazilyq/%D0%A0%D0%B0%D0%B1%D0%BE%D1%87%D0%B8%D0%B9%20%D1%81%D1%82%D0%BE%D0%BB/RecSys/new_work/RecoServiceTemplate/notebooks/HW-3.1.ipynb#Y114sZmlsZQ%3D%3D?line=9'>10</a>\u001b[0m     dataset\u001b[39m=\u001b[39mdataset,\n\u001b[1;32m     <a href='vscode-notebook-cell:/home/bazilyq/%D0%A0%D0%B0%D0%B1%D0%BE%D1%87%D0%B8%D0%B9%20%D1%81%D1%82%D0%BE%D0%BB/RecSys/new_work/RecoServiceTemplate/notebooks/HW-3.1.ipynb#Y114sZmlsZQ%3D%3D?line=10'>11</a>\u001b[0m     k\u001b[39m=\u001b[39m\u001b[39m100\u001b[39m,\n\u001b[1;32m     <a href='vscode-notebook-cell:/home/bazilyq/%D0%A0%D0%B0%D0%B1%D0%BE%D1%87%D0%B8%D0%B9%20%D1%81%D1%82%D0%BE%D0%BB/RecSys/new_work/RecoServiceTemplate/notebooks/HW-3.1.ipynb#Y114sZmlsZQ%3D%3D?line=11'>12</a>\u001b[0m     filter_viewed\u001b[39m=\u001b[39m\u001b[39mFalse\u001b[39;00m,\n\u001b[1;32m     <a href='vscode-notebook-cell:/home/bazilyq/%D0%A0%D0%B0%D0%B1%D0%BE%D1%87%D0%B8%D0%B9%20%D1%81%D1%82%D0%BE%D0%BB/RecSys/new_work/RecoServiceTemplate/notebooks/HW-3.1.ipynb#Y114sZmlsZQ%3D%3D?line=12'>13</a>\u001b[0m )\n",
      "\u001b[0;31mNameError\u001b[0m: name 'dataset' is not defined"
     ]
    }
   ],
   "source": [
    "pecos_pop = popilarity_models[\"popular\"].recommend(\n",
    "    users=test[Columns.User].unique(),\n",
    "    dataset=dataset,\n",
    "    k=100,\n",
    "    filter_viewed=False,\n",
    ")\n",
    "\n",
    "pecos_pop_mw = popilarity_models[\"popular_mw\"].recommend(\n",
    "    users=test[Columns.User].unique(),\n",
    "    dataset=dataset,\n",
    "    k=100,\n",
    "    filter_viewed=False,\n",
    ")"
   ]
  },
  {
   "cell_type": "code",
   "execution_count": 152,
   "id": "b302db55",
   "metadata": {},
   "outputs": [],
   "source": [
    "metrics = {\n",
    "    \"prec@5\": Precision(k=5),\n",
    "    \"recall@5\": Recall(k=5),\n",
    "    \"MAP@5\": MAP(k=5),\n",
    "    \"prec@10\": Precision(k=10),\n",
    "    \"recall@10\": Recall(k=10),\n",
    "    \"MAP@20\": MAP(k=20),\n",
    "    \"prec@20\": Precision(k=20),\n",
    "    \"recall@20\": Recall(k=20),\n",
    "    \"MAP@100\": MAP(k=100),\n",
    "    \"prec@100\": Precision(k=100),\n",
    "    \"recall@100\": Recall(k=100),\n",
    "    \"MAP@100\": MAP(k=100),\n",
    "    \"novelty\": MeanInvUserFreq(k=10),\n",
    "    \"serendipity\": Serendipity(k=10),\n",
    "}\n",
    "catalog = train[Columns.Item].unique()\n",
    "metric_values_pop = calc_metrics(metrics, pecos_pop, test, train, catalog)\n",
    "metric_values_pop_mean_weight = calc_metrics(metrics, pecos_pop_mw, test, train, catalog)"
   ]
  },
  {
   "cell_type": "code",
   "execution_count": 153,
   "id": "9631093b",
   "metadata": {},
   "outputs": [
    {
     "data": {
      "text/plain": [
       "{'prec@5': 0.0017855613317256697,\n",
       " 'recall@5': 0.004623809755660008,\n",
       " 'prec@10': 0.0011648975773029461,\n",
       " 'recall@10': 0.005682095875283048,\n",
       " 'prec@20': 0.0010502526799891945,\n",
       " 'recall@20': 0.00880186008464912,\n",
       " 'prec@100': 0.003247020220987923,\n",
       " 'recall@100': 0.16609031082955295,\n",
       " 'MAP@5': 0.0013179725619140792,\n",
       " 'MAP@20': 0.0016695313583723814,\n",
       " 'MAP@100': 0.005578924867474493,\n",
       " 'novelty': 9.976033936531364,\n",
       " 'serendipity': 1.2752762676592953e-05}"
      ]
     },
     "execution_count": 153,
     "metadata": {},
     "output_type": "execute_result"
    }
   ],
   "source": [
    "metric_values_pop"
   ]
  },
  {
   "cell_type": "code",
   "execution_count": 154,
   "id": "5d55b781",
   "metadata": {},
   "outputs": [
    {
     "data": {
      "text/plain": [
       "{'prec@5': 9.09252633867684e-05,\n",
       " 'recall@5': 0.00014799438063171262,\n",
       " 'prec@10': 4.612151041357817e-05,\n",
       " 'recall@10': 0.00015458316783365238,\n",
       " 'prec@20': 2.635514880775895e-05,\n",
       " 'recall@20': 0.00016946607539568094,\n",
       " 'prec@100': 0.00015147621777259455,\n",
       " 'recall@100': 0.0065476971391510656,\n",
       " 'MAP@5': 3.0257754846536496e-05,\n",
       " 'MAP@20': 3.1771198360212185e-05,\n",
       " 'MAP@100': 0.00011355765992119742,\n",
       " 'novelty': 17.423655787689828,\n",
       " 'serendipity': 1.8991632826477633e-06}"
      ]
     },
     "execution_count": 154,
     "metadata": {},
     "output_type": "execute_result"
    }
   ],
   "source": [
    "metric_values_pop_mean_weight"
   ]
  },
  {
   "cell_type": "markdown",
   "id": "e5a4a011",
   "metadata": {},
   "source": [
    "**На офлайн метриках выигрывает обычная модель по популярному**"
   ]
  },
  {
   "cell_type": "markdown",
   "id": "5875fab7",
   "metadata": {},
   "source": [
    "# Save item_idf data"
   ]
  },
  {
   "cell_type": "markdown",
   "id": "6589996f",
   "metadata": {},
   "source": [
    "Создаем датасет со взвешенными item-ами по механизму idf для использования в будущем"
   ]
  },
  {
   "cell_type": "code",
   "execution_count": 65,
   "id": "bd2ea27c",
   "metadata": {},
   "outputs": [],
   "source": [
    "from collections import Counter"
   ]
  },
  {
   "cell_type": "code",
   "execution_count": 66,
   "id": "d62cabb9",
   "metadata": {},
   "outputs": [
    {
     "data": {
      "text/html": [
       "<div>\n",
       "<style scoped>\n",
       "    .dataframe tbody tr th:only-of-type {\n",
       "        vertical-align: middle;\n",
       "    }\n",
       "\n",
       "    .dataframe tbody tr th {\n",
       "        vertical-align: top;\n",
       "    }\n",
       "\n",
       "    .dataframe thead th {\n",
       "        text-align: right;\n",
       "    }\n",
       "</style>\n",
       "<table border=\"1\" class=\"dataframe\">\n",
       "  <thead>\n",
       "    <tr style=\"text-align: right;\">\n",
       "      <th></th>\n",
       "      <th>index</th>\n",
       "      <th>idf</th>\n",
       "    </tr>\n",
       "  </thead>\n",
       "  <tbody>\n",
       "    <tr>\n",
       "      <th>0</th>\n",
       "      <td>9506</td>\n",
       "      <td>7.150811</td>\n",
       "    </tr>\n",
       "    <tr>\n",
       "      <th>1</th>\n",
       "      <td>1659</td>\n",
       "      <td>8.524953</td>\n",
       "    </tr>\n",
       "    <tr>\n",
       "      <th>2</th>\n",
       "      <td>7107</td>\n",
       "      <td>5.821207</td>\n",
       "    </tr>\n",
       "    <tr>\n",
       "      <th>3</th>\n",
       "      <td>7638</td>\n",
       "      <td>8.407093</td>\n",
       "    </tr>\n",
       "    <tr>\n",
       "      <th>4</th>\n",
       "      <td>6686</td>\n",
       "      <td>7.778734</td>\n",
       "    </tr>\n",
       "    <tr>\n",
       "      <th>...</th>\n",
       "      <td>...</td>\n",
       "      <td>...</td>\n",
       "    </tr>\n",
       "    <tr>\n",
       "      <th>15701</th>\n",
       "      <td>7833</td>\n",
       "      <td>14.822785</td>\n",
       "    </tr>\n",
       "    <tr>\n",
       "      <th>15702</th>\n",
       "      <td>9125</td>\n",
       "      <td>14.822785</td>\n",
       "    </tr>\n",
       "    <tr>\n",
       "      <th>15703</th>\n",
       "      <td>10064</td>\n",
       "      <td>14.822785</td>\n",
       "    </tr>\n",
       "    <tr>\n",
       "      <th>15704</th>\n",
       "      <td>13019</td>\n",
       "      <td>14.822785</td>\n",
       "    </tr>\n",
       "    <tr>\n",
       "      <th>15705</th>\n",
       "      <td>10542</td>\n",
       "      <td>14.822785</td>\n",
       "    </tr>\n",
       "  </tbody>\n",
       "</table>\n",
       "<p>15706 rows × 2 columns</p>\n",
       "</div>"
      ],
      "text/plain": [
       "       index        idf\n",
       "0       9506   7.150811\n",
       "1       1659   8.524953\n",
       "2       7107   5.821207\n",
       "3       7638   8.407093\n",
       "4       6686   7.778734\n",
       "...      ...        ...\n",
       "15701   7833  14.822785\n",
       "15702   9125  14.822785\n",
       "15703  10064  14.822785\n",
       "15704  13019  14.822785\n",
       "15705  10542  14.822785\n",
       "\n",
       "[15706 rows x 2 columns]"
      ]
     },
     "execution_count": 66,
     "metadata": {},
     "output_type": "execute_result"
    }
   ],
   "source": [
    "item_cnt = Counter(interactions['item_id'].values)\n",
    "item_idf = pd.DataFrame.from_dict(item_cnt, orient='index', columns=['doc_freq']).reset_index()\n",
    "n = interactions.shape[0]\n",
    "item_idf['idf'] = item_idf['doc_freq'].apply(lambda x: np.log((1 + n) / (1 + x) + 1))\n",
    "del item_idf['doc_freq']\n",
    "item_idf"
   ]
  },
  {
   "cell_type": "code",
   "execution_count": 67,
   "id": "7da47dfc",
   "metadata": {},
   "outputs": [],
   "source": [
    "item_idf = item_idf.sort_values(\"idf\", ascending=False)\n",
    "item_idf.to_csv('../data/kion_train/items_idf.csv', index=False)"
   ]
  },
  {
   "cell_type": "code",
   "execution_count": null,
   "id": "fdce2b60",
   "metadata": {},
   "outputs": [],
   "source": []
  }
 ],
 "metadata": {
  "kernelspec": {
   "display_name": "Python 3 (ipykernel)",
   "language": "python",
   "name": "python3"
  },
  "language_info": {
   "codemirror_mode": {
    "name": "ipython",
    "version": 3
   },
   "file_extension": ".py",
   "mimetype": "text/x-python",
   "name": "python",
   "nbconvert_exporter": "python",
   "pygments_lexer": "ipython3",
   "version": "3.10.12"
  }
 },
 "nbformat": 4,
 "nbformat_minor": 5
}
